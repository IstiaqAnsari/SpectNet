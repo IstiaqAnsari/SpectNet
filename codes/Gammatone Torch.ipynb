{
 "cells": [
  {
   "cell_type": "code",
   "execution_count": 1,
   "metadata": {},
   "outputs": [],
   "source": [
    "# import sys\n",
    "# sys.path.insert(1,'/media/mhealthra2/Data/rakib/gits/pytorch-summary/torchsummary')"
   ]
  },
  {
   "cell_type": "code",
   "execution_count": 2,
   "metadata": {},
   "outputs": [],
   "source": [
    "# from torchsummary2 import summary,summary_string"
   ]
  },
  {
   "cell_type": "code",
   "execution_count": 4,
   "metadata": {},
   "outputs": [],
   "source": [
    "import sys\n",
    "sys.path.insert(1,'/media/mhealthra2/Data/pytorch-summary/torchsummary/')\n",
    "# from torchsummary2 import summary as summ\n",
    "# import torchsummary2\n",
    "# torchsummary2 = importlib.reload(torchsummary2)\n",
    "# from torchsummary2 import summary as summ"
   ]
  },
  {
   "cell_type": "code",
   "execution_count": 1,
   "metadata": {},
   "outputs": [],
   "source": [
    "import HeartCepTorch"
   ]
  },
  {
   "cell_type": "code",
   "execution_count": 2,
   "metadata": {},
   "outputs": [],
   "source": [
    "import importlib\n",
    "HeartCepTorch = importlib.reload(HeartCepTorch)\n",
    "from HeartCepTorch import MFCC_Gen"
   ]
  },
  {
   "cell_type": "code",
   "execution_count": 3,
   "metadata": {},
   "outputs": [],
   "source": [
    "import torch\n",
    "from torch.nn.modules import Module\n",
    "import torch.nn as nn\n",
    "import torch.nn.functional as F\n",
    "from torchsummary import summary\n",
    "from math import floor,ceil\n",
    "import numpy as np, matplotlib.pyplot as plt, pandas as pd, os\n",
    "def plotf(x):\n",
    "    plt.plot(x.cpu().detach().numpy())"
   ]
  },
  {
   "cell_type": "code",
   "execution_count": 4,
   "metadata": {},
   "outputs": [
    {
     "name": "stdout",
     "output_type": "stream",
     "text": [
      "----------------------------------------------------------------\n",
      "        Layer (type)               Output Shape         Param #\n",
      "================================================================\n",
      "    Conv_Gammatone-1             [-1, 64, 2420]               0\n",
      "       BatchNorm1d-2             [-1, 64, 2420]             128\n",
      "            Conv1d-3              [-1, 64, 240]         102,400\n",
      "       BatchNorm1d-4              [-1, 64, 240]             128\n",
      "================================================================\n",
      "Total params: 102,656\n",
      "Trainable params: 256\n",
      "Non-trainable params: 102,400\n",
      "----------------------------------------------------------------\n",
      "Input size (MB): 0.01\n",
      "Forward/backward pass size (MB): 2.60\n",
      "Params size (MB): 0.39\n",
      "Estimated Total Size (MB): 3.00\n",
      "----------------------------------------------------------------\n"
     ]
    }
   ],
   "source": [
    "from HeartCepTorch import MFCC_Gen,Network\n",
    "net = MFCC_Gen(fs=1000,filters=64)\n",
    "summary(net.cuda(),(1,2500))"
   ]
  },
  {
   "cell_type": "code",
   "execution_count": 9,
   "metadata": {},
   "outputs": [
    {
     "data": {
      "text/plain": [
       "Parameter containing:\n",
       "tensor([0.2942, 0.4477, 0.0732, 0.9217, 0.3468, 0.0076, 0.2901, 0.9435, 0.4003,\n",
       "        0.3953, 0.6350, 0.9353, 0.0179, 0.4471, 0.5746, 0.5179, 0.7978, 0.1923,\n",
       "        0.6307, 0.9164, 0.9655, 0.7278, 0.1357, 0.5458, 0.5611, 0.9126, 0.7267,\n",
       "        0.9368, 0.3520, 0.3688, 0.6212, 0.6769, 0.6337, 0.1502, 0.3063, 0.1997,\n",
       "        0.3996, 0.7570, 0.3084, 0.4875, 0.1861, 0.3289, 0.7218, 0.5543, 0.7827,\n",
       "        0.9964, 0.5488, 0.3242, 0.2298, 0.5506, 0.2729, 0.5202, 0.9180, 0.2537,\n",
       "        0.4071, 0.1857, 0.7153, 0.5873, 0.1983, 0.7179, 0.9352, 0.9387, 0.6006,\n",
       "        0.5253], device='cuda:0', requires_grad=True)"
      ]
     },
     "execution_count": 9,
     "metadata": {},
     "output_type": "execute_result"
    }
   ],
   "source": [
    "net.gammanorm.weight"
   ]
  },
  {
   "cell_type": "code",
   "execution_count": 5,
   "metadata": {},
   "outputs": [],
   "source": [
    "import importlib,mfcc_models\n",
    "mfcc_models = importlib.reload(mfcc_models)\n",
    "from mfcc_models import Network\n",
    "net = Network(2,0)"
   ]
  },
  {
   "cell_type": "code",
   "execution_count": 5,
   "metadata": {
    "scrolled": true
   },
   "outputs": [
    {
     "name": "stdout",
     "output_type": "stream",
     "text": [
      "----------------------------------------------------------------\n",
      "        Layer (type)               Output Shape         Param #\n",
      "================================================================\n",
      "            Conv2d-1          [-1, 16, 244, 65]             128\n",
      "       BatchNorm2d-2          [-1, 16, 244, 65]              48\n",
      "            Conv2d-3          [-1, 32, 242, 63]           4,672\n",
      "       BatchNorm2d-4          [-1, 32, 242, 63]              96\n",
      "         Dropout2d-5          [-1, 32, 242, 63]               0\n",
      "            Conv2d-6          [-1, 32, 244, 65]           9,280\n",
      "       BatchNorm2d-7          [-1, 32, 244, 65]              96\n",
      "         Dropout2d-8          [-1, 32, 244, 65]               0\n",
      "            Conv2d-9          [-1, 64, 122, 32]          18,560\n",
      "      BatchNorm2d-10          [-1, 64, 122, 32]             192\n",
      "        Dropout2d-11          [-1, 64, 122, 32]               0\n",
      "           Conv2d-12           [-1, 64, 61, 16]          36,992\n",
      "      BatchNorm2d-13           [-1, 64, 61, 16]             192\n",
      "        Dropout2d-14           [-1, 64, 61, 16]               0\n",
      "           Conv2d-15          [-1, 128, 61, 16]          73,984\n",
      "      BatchNorm2d-16          [-1, 128, 61, 16]             384\n",
      "        Dropout2d-17          [-1, 128, 61, 16]               0\n",
      "           Conv2d-18           [-1, 128, 30, 8]         147,712\n",
      "      BatchNorm2d-19           [-1, 128, 30, 8]             384\n",
      "        Dropout2d-20           [-1, 128, 30, 8]               0\n",
      "           Conv2d-21           [-1, 256, 30, 8]         295,424\n",
      "      BatchNorm2d-22           [-1, 256, 30, 8]             768\n",
      "        Dropout2d-23           [-1, 256, 30, 8]               0\n",
      "           Conv2d-24           [-1, 256, 15, 4]         590,336\n",
      "      BatchNorm2d-25           [-1, 256, 15, 4]             768\n",
      "        Dropout2d-26           [-1, 256, 15, 4]               0\n",
      "        Extractor-27                 [-1, 7168]       1,178,064\n",
      "           Linear-28                  [-1, 100]         717,000\n",
      "             ReLU-29                  [-1, 100]               0\n",
      "           Linear-30                    [-1, 2]             204\n",
      "          Softmax-31                    [-1, 2]               0\n",
      " Class_classifier-32                    [-1, 2]         717,102\n",
      "================================================================\n",
      "Total params: 3,792,386\n",
      "Trainable params: 3,792,386\n",
      "Non-trainable params: 0\n",
      "----------------------------------------------------------------\n",
      "Input size (MB): 0.06\n",
      "Forward/backward pass size (MB): 39.18\n",
      "Params size (MB): 14.47\n",
      "Estimated Total Size (MB): 53.71\n",
      "----------------------------------------------------------------\n"
     ]
    }
   ],
   "source": [
    "summary(net.cuda(),(1,240,64))"
   ]
  },
  {
   "cell_type": "code",
   "execution_count": 17,
   "metadata": {},
   "outputs": [
    {
     "data": {
      "text/plain": [
       "(torch.Size([16, 1, 3, 2]), torch.Size([32, 16, 3, 3]))"
      ]
     },
     "execution_count": 17,
     "metadata": {},
     "output_type": "execute_result"
    }
   ],
   "source": [
    "net.extractor.conv0.weight.shape"
   ]
  },
  {
   "cell_type": "code",
   "execution_count": 15,
   "metadata": {},
   "outputs": [],
   "source": [
    "class Branch2d(nn.Module):\n",
    "    def __init__(self,channels=1,dimension=1):\n",
    "        super(Branch2d,self).__init__()\n",
    "        self.conv1 = nn.Conv2d(channels,channels,kernel_size=5)\n",
    "        self.norm1 = nn.BatchNorm2d(channels)\n",
    "        self.relu = nn.ReLU()\n",
    "        \n",
    "        self.conv2 = nn.Conv2d(channels,channels*2,kernel_size=5)\n",
    "        self.norm2 = nn.BatchNorm2d(channels*2)\n",
    "        \n",
    "    def forward(self,x):\n",
    "        x = self.relu(self.norm1(self.conv1(x)))\n",
    "        x = self.relu(self.norm2(self.conv2(x)))\n",
    "        return x"
   ]
  },
  {
   "cell_type": "code",
   "execution_count": 26,
   "metadata": {},
   "outputs": [],
   "source": [
    "class Net(nn.Module):\n",
    "    def __init__(self,kernel_size = 81,filters = 26,fs=1000,winlen=0.025,winstep=0.01,dimension=1):\n",
    "        super(Net,self).__init__()\n",
    "        \n",
    "        self.gamma = Conv_Gammatone_coeff(in_channels=1,out_channels=filters ,kernel_size=kernel_size,fsHz=fs)\n",
    "#         self.gamma = nn.Conv1d(in_channels=1,out_channels=filters ,kernel_size=81,stride=1)\n",
    "        self.gammanorm = nn.BatchNorm1d(filters)\n",
    "        self.mfcc = nn.Conv1d(filters,filters,int(winlen*fs),stride=int(winstep*fs),padding=0,bias=False)\n",
    "        self.normmfcc = nn.BatchNorm1d(filters)\n",
    "        self.normmfcc2D = nn.BatchNorm2d(1)\n",
    "        with torch.no_grad():\n",
    "            self.mfcc.weight = Parameter(torch.stack([torch.eye(filters) for i in range(int(winlen*fs))],dim=2))\n",
    "        for x in self.mfcc.named_parameters():\n",
    "            x[1].requires_grad = False\n",
    "        \n",
    "#         self.conv22 = nn.Conv2d(1,3,kernel_size=5)\n",
    "        self.conv22 = Branch2d(1)\n",
    "        \n",
    "#         self.pool = nn.MaxPool1d(2)\n",
    "        self.linear1 = nn.Linear(8352,2)\n",
    "        self.soft = nn.Softmax(dim=0)\n",
    "    \n",
    "    def forward(self,x):\n",
    "        x = self.gamma(x)\n",
    "        gamma = x\n",
    "        x = self.gammanorm(x)\n",
    "        x = torch.pow(torch.abs(x),2)\n",
    "        x = self.mfcc(x)\n",
    "        x = torch.log(x+0.0000000000000001)\n",
    "#         x = x.unsqueeze(1)\n",
    "#         x = self.conv22(x)\n",
    "#         x = x.view(x.size(0), -1)\n",
    "#         x = self.linear1(x)\n",
    "#         x = self.soft(x)\n",
    "        return x,gamma\n"
   ]
  },
  {
   "cell_type": "code",
   "execution_count": 10,
   "metadata": {},
   "outputs": [],
   "source": [
    "import scipy.io.wavfile as wav\n",
    "(fs,sig) = wav.read(os.path.join(\"..\",\"gammatonegram\",\"gammatonegram\",\"sa2.wav\"))"
   ]
  },
  {
   "cell_type": "code",
   "execution_count": 28,
   "metadata": {},
   "outputs": [
    {
     "ename": "NameError",
     "evalue": "name 'Conv_Gammatone_coeff' is not defined",
     "output_type": "error",
     "traceback": [
      "\u001b[1;31m---------------------------------------------------------------------------\u001b[0m",
      "\u001b[1;31mNameError\u001b[0m                                 Traceback (most recent call last)",
      "\u001b[1;32m<ipython-input-28-1b61a062f0ab>\u001b[0m in \u001b[0;36m<module>\u001b[1;34m\u001b[0m\n\u001b[1;32m----> 1\u001b[1;33m \u001b[0mnet\u001b[0m \u001b[1;33m=\u001b[0m \u001b[0mNet\u001b[0m\u001b[1;33m(\u001b[0m\u001b[0mfs\u001b[0m\u001b[1;33m=\u001b[0m\u001b[0mfs\u001b[0m\u001b[1;33m,\u001b[0m\u001b[0mfilters\u001b[0m\u001b[1;33m=\u001b[0m\u001b[1;36m64\u001b[0m\u001b[1;33m,\u001b[0m\u001b[0mwinlen\u001b[0m\u001b[1;33m=\u001b[0m\u001b[1;36m0.025\u001b[0m\u001b[1;33m,\u001b[0m\u001b[0mwinstep\u001b[0m\u001b[1;33m=\u001b[0m\u001b[1;36m0.01\u001b[0m\u001b[1;33m)\u001b[0m\u001b[1;33m\u001b[0m\u001b[1;33m\u001b[0m\u001b[0m\n\u001b[0m\u001b[0;32m      2\u001b[0m \u001b[0mwow\u001b[0m \u001b[1;33m=\u001b[0m \u001b[0msummary\u001b[0m\u001b[1;33m(\u001b[0m\u001b[0mnet\u001b[0m\u001b[1;33m.\u001b[0m\u001b[0mcuda\u001b[0m\u001b[1;33m(\u001b[0m\u001b[1;33m)\u001b[0m\u001b[1;33m,\u001b[0m\u001b[1;33m(\u001b[0m\u001b[1;36m1\u001b[0m\u001b[1;33m,\u001b[0m\u001b[1;36m2500\u001b[0m\u001b[1;33m)\u001b[0m\u001b[1;33m)\u001b[0m\u001b[1;33m\u001b[0m\u001b[1;33m\u001b[0m\u001b[0m\n",
      "\u001b[1;32m<ipython-input-26-f2c482271d6e>\u001b[0m in \u001b[0;36m__init__\u001b[1;34m(self, kernel_size, filters, fs, winlen, winstep, dimension)\u001b[0m\n\u001b[0;32m      3\u001b[0m         \u001b[0msuper\u001b[0m\u001b[1;33m(\u001b[0m\u001b[0mNet\u001b[0m\u001b[1;33m,\u001b[0m\u001b[0mself\u001b[0m\u001b[1;33m)\u001b[0m\u001b[1;33m.\u001b[0m\u001b[0m__init__\u001b[0m\u001b[1;33m(\u001b[0m\u001b[1;33m)\u001b[0m\u001b[1;33m\u001b[0m\u001b[1;33m\u001b[0m\u001b[0m\n\u001b[0;32m      4\u001b[0m \u001b[1;33m\u001b[0m\u001b[0m\n\u001b[1;32m----> 5\u001b[1;33m         \u001b[0mself\u001b[0m\u001b[1;33m.\u001b[0m\u001b[0mgamma\u001b[0m \u001b[1;33m=\u001b[0m \u001b[0mConv_Gammatone_coeff\u001b[0m\u001b[1;33m(\u001b[0m\u001b[0min_channels\u001b[0m\u001b[1;33m=\u001b[0m\u001b[1;36m1\u001b[0m\u001b[1;33m,\u001b[0m\u001b[0mout_channels\u001b[0m\u001b[1;33m=\u001b[0m\u001b[0mfilters\u001b[0m \u001b[1;33m,\u001b[0m\u001b[0mkernel_size\u001b[0m\u001b[1;33m=\u001b[0m\u001b[0mkernel_size\u001b[0m\u001b[1;33m,\u001b[0m\u001b[0mfsHz\u001b[0m\u001b[1;33m=\u001b[0m\u001b[0mfs\u001b[0m\u001b[1;33m)\u001b[0m\u001b[1;33m\u001b[0m\u001b[1;33m\u001b[0m\u001b[0m\n\u001b[0m\u001b[0;32m      6\u001b[0m \u001b[1;31m#         self.gamma = nn.Conv1d(in_channels=1,out_channels=filters ,kernel_size=81,stride=1)\u001b[0m\u001b[1;33m\u001b[0m\u001b[1;33m\u001b[0m\u001b[1;33m\u001b[0m\u001b[0m\n\u001b[0;32m      7\u001b[0m         \u001b[0mself\u001b[0m\u001b[1;33m.\u001b[0m\u001b[0mgammanorm\u001b[0m \u001b[1;33m=\u001b[0m \u001b[0mnn\u001b[0m\u001b[1;33m.\u001b[0m\u001b[0mBatchNorm1d\u001b[0m\u001b[1;33m(\u001b[0m\u001b[0mfilters\u001b[0m\u001b[1;33m)\u001b[0m\u001b[1;33m\u001b[0m\u001b[1;33m\u001b[0m\u001b[0m\n",
      "\u001b[1;31mNameError\u001b[0m: name 'Conv_Gammatone_coeff' is not defined"
     ]
    }
   ],
   "source": [
    "net = Net(fs=fs,filters=64,winlen=0.025,winstep=0.01)\n",
    "wow = summary(net.cuda(),(1,2500))"
   ]
  },
  {
   "cell_type": "code",
   "execution_count": 37,
   "metadata": {},
   "outputs": [
    {
     "name": "stdout",
     "output_type": "stream",
     "text": [
      "gamma.weight torch.Size([64, 1, 81])\n",
      "gammanorm.weight torch.Size([64])\n",
      "gammanorm.bias torch.Size([64])\n",
      "mfcc.weight torch.Size([64, 64, 400])\n",
      "normmfcc.weight torch.Size([64])\n",
      "normmfcc.bias torch.Size([64])\n",
      "normmfcc2D.weight torch.Size([1])\n",
      "normmfcc2D.bias torch.Size([1])\n",
      "conv22.conv1.weight torch.Size([1, 1, 5, 5])\n",
      "conv22.conv1.bias torch.Size([1])\n",
      "conv22.norm1.weight torch.Size([1])\n",
      "conv22.norm1.bias torch.Size([1])\n",
      "conv22.conv2.weight torch.Size([2, 1, 5, 5])\n",
      "conv22.conv2.bias torch.Size([2])\n",
      "conv22.norm2.weight torch.Size([2])\n",
      "conv22.norm2.bias torch.Size([2])\n",
      "linear1.weight torch.Size([2, 8352])\n",
      "linear1.bias torch.Size([2])\n"
     ]
    }
   ],
   "source": [
    "for x in net.named_parameters():\n",
    "    print(x[0],x[1].shape)"
   ]
  },
  {
   "cell_type": "code",
   "execution_count": 11,
   "metadata": {},
   "outputs": [],
   "source": [
    "# sig = sig/max(abs(sig))\n",
    "sig = sig.astype(np.float32)"
   ]
  },
  {
   "cell_type": "code",
   "execution_count": 12,
   "metadata": {},
   "outputs": [
    {
     "data": {
      "text/plain": [
       "[<matplotlib.lines.Line2D at 0x1d4bacbc198>]"
      ]
     },
     "execution_count": 12,
     "metadata": {},
     "output_type": "execute_result"
    },
    {
     "data": {
      "image/png": "[encoded data removed]",
      "text/plain": [
       "<Figure size 432x288 with 1 Axes>"
      ]
     },
     "metadata": {
      "needs_background": "light"
     },
     "output_type": "display_data"
    }
   ],
   "source": [
    "plt.plot(sig)"
   ]
  },
  {
   "cell_type": "code",
   "execution_count": 35,
   "metadata": {},
   "outputs": [],
   "source": [
    "net.train()\n",
    "net.eval()\n",
    "out = net(torch.from_numpy(sig[:5000]).unsqueeze(0).unsqueeze(0).cuda())[0]"
   ]
  },
  {
   "cell_type": "code",
   "execution_count": 36,
   "metadata": {
    "scrolled": true
   },
   "outputs": [],
   "source": [
    "wow = (out.squeeze(0).cpu().detach().numpy())"
   ]
  },
  {
   "cell_type": "code",
   "execution_count": 37,
   "metadata": {},
   "outputs": [
    {
     "data": {
      "text/plain": [
       "<matplotlib.image.AxesImage at 0x1d4c2c68e10>"
      ]
     },
     "execution_count": 37,
     "metadata": {},
     "output_type": "execute_result"
    },
    {
     "data": {
      "image/png": "[encoded data removed]",
      "text/plain": [
       "<Figure size 1440x1440 with 1 Axes>"
      ]
     },
     "metadata": {
      "needs_background": "light"
     },
     "output_type": "display_data"
    }
   ],
   "source": [
    "plt.figure(figsize=(20,20))\n",
    "from matplotlib import cm\n",
    "plt.imshow((wow), interpolation='nearest', origin='lower')"
   ]
  },
  {
   "cell_type": "code",
   "execution_count": 49,
   "metadata": {},
   "outputs": [
    {
     "data": {
      "image/png": "[encoded data removed]",
      "text/plain": [
       "<Figure size 432x288 with 1 Axes>"
      ]
     },
     "metadata": {
      "needs_background": "light"
     },
     "output_type": "display_data"
    }
   ],
   "source": [
    "idx = 60\n",
    "plotf(gamma[0][idx][:])\n"
   ]
  },
  {
   "cell_type": "code",
   "execution_count": 82,
   "metadata": {},
   "outputs": [],
   "source": [
    "from __future__ import print_function, division, absolute_import\n",
    "import sys\n",
    "def get_env():\n",
    "    sp = sys.path[1].split(\"/\")\n",
    "    if \"envs\" in sp:\n",
    "        return sp[sp.index(\"envs\") + 1]\n",
    "    else:\n",
    "        return \"\"\n",
    "\n",
    "# import tensorflow as tf\n",
    "# from keras.backend.tensorflow_backend import set_session\n",
    "# config = tf.ConfigProto()\n",
    "# config.gpu_options.per_process_gpu_memory_fraction = 0.4\n",
    "# set_session(tf.Session(config=config))\n",
    "# from clr_callback import CyclicLR\n",
    "# import dill\n",
    "from BalancedDannAudioDataGenerator import BalancedAudioDataGenerator\n",
    "import os,time\n",
    "from scipy.io import loadmat\n",
    "import numpy as np\n",
    "np.random.seed(1)\n",
    "import math\n",
    "import pandas as pd\n",
    "import tables,h5py\n",
    "from datetime import datetime\n",
    "import argparse\n",
    "from keras.utils import plot_model\n",
    "from Heartnet import heartnet,getAttentionModel\n",
    "from collections import Counter\n",
    "if(\"torch\" in get_env()):\n",
    "    from torchviz import make_dot\n",
    "from utils import log_macc, results_log\n",
    "from dataLoader import reshape_folds\n",
    "from sklearn.metrics import confusion_matrix\n",
    "from keras.utils import to_categorical\n",
    "import matplotlib.pyplot as plt\n",
    "# import seaborn as sns\n",
    "import Evaluator\n",
    "import dataLoader\n",
    "from custom_layers import Attention\n",
    "from sklearn.model_selection import train_test_split"
   ]
  },
  {
   "cell_type": "code",
   "execution_count": 57,
   "metadata": {},
   "outputs": [],
   "source": [
    "class wow():\n",
    "    def __init__(self):\n",
    "        self.dann = False\n",
    "        self.self = True\n",
    "        self.reduce = None\n",
    "        self.shuffle = 1\n",
    "        self.mfcc = False\n",
    "args = wow()\n",
    "batch_size = 1000"
   ]
  },
  {
   "cell_type": "code",
   "execution_count": 58,
   "metadata": {},
   "outputs": [
    {
     "name": "stdout",
     "output_type": "stream",
     "text": [
      "Self training activated\n",
      "Train normal -  3217 - 7409  Abnormal\n",
      "                30  -  69 %\n",
      "Test normal -  1086 - 2455  Abnormal\n",
      "               30  -  69 %\n",
      "Self training wtf\n",
      "(2500, 10626) (2500, 3541)\n",
      "Self training shapes koi? \n",
      "self training\n"
     ]
    }
   ],
   "source": [
    "test_domains = 'a'\n",
    "train_domains = ''\n",
    "# source_domain = train_domains\n",
    "# target_domain = test_domains\n",
    "\n",
    "test_split = 0\n",
    "fold_dir = '../../feature/potes_1DCNN/balancedCV/folds/all_folds_wav_name/'\n",
    "\n",
    "domains = set(train_domains + test_domains)\n",
    "#num_class_domain = len(set(train_domains + test_domains))\n",
    "num_class_domain = len(domains)\n",
    "num_class = 2\n",
    "if(args.self):\n",
    "    print(\"Self training activated\")\n",
    "    x_train, y_train, y_domain, train_parts, x_val, y_val, val_domain, val_parts,val_wav_files = dataLoader.getData(fold_dir,'',test_domains,0.75,shuffle=args.shuffle)\n",
    "    print(\"Self training wtf\")\n",
    "\n",
    "    print(x_train.shape, x_val.shape)\n",
    "    print(\"Self training shapes koi? \")\n",
    "else:\n",
    "    x_train, y_train, y_domain, train_parts,x_val, y_val, val_domain, val_parts, val_wav_files = dataLoader.getData(fold_dir,train_domains,test_domains,test_split,shuffle = args.shuffle)\n",
    "\n",
    "if(args.reduce):\n",
    "    print(\"Reduction \", args.reduce)\n",
    "    x_train,_,y_train,_,y_domain,_ = train_test_split(x_train.transpose(),y_train,y_domain,stratify=y_train,test_size = args.reduce)\n",
    "    x_train = x_train.transpose()\n",
    "\n",
    "    #x_val,_,y_val,_,val_domain,_ = train_test_split(x_val.transpose(),y_val,val_domain,stratify=y_val,test_size = args.reduce)\n",
    "    #x_val = x_val.transpose()\n",
    "\n",
    "val_files = val_domain\n",
    "#Create meta labels and domain labels\n",
    "domains = train_domains\n",
    "if(test_split>0):\n",
    "    domains = \"\".join(set(domains).union(set(test_domains)))\n",
    "    #domains = domains + test_domains\n",
    "elif(args.dann):\n",
    "    domains = \"\".join(set(domains).union(set(test_domains)))\n",
    "    #domains = domains + test_domains\n",
    "\n",
    "if(args.self):\n",
    "    print(\"self training\")\n",
    "    domains = test_domains\n",
    "    num_class_domain = len(set(domains))\n",
    "\n",
    "domainClass = [(cls,dfc) for cls in range(2) for dfc in domains]\n",
    "\n",
    "if(args.dann):\n",
    "    meta_labels = [domainClass.index((cl,df)) for (cl,df) in zip(np.concatenate((y_train,y_val)),(y_domain+val_domain))]\n",
    "else:\n",
    "    meta_labels = [domainClass.index((cl,df)) for (cl,df) in zip(y_train,y_domain)]\n",
    "\n",
    "domains = \"\".join(set(domains).union(set(test_domains)))\n",
    "\n",
    "y_domain = np.array([list(domains).index(lab) for lab in y_domain])\n",
    "\n",
    "val_domain = np.array([list(domains).index(lab) for lab in val_domain])"
   ]
  },
  {
   "cell_type": "code",
   "execution_count": 59,
   "metadata": {},
   "outputs": [
    {
     "name": "stdout",
     "output_type": "stream",
     "text": [
      "reshaped x  (10626, 2500, 1)\n",
      "reshaped x  (3541, 2500, 1)\n",
      "reshaped Y  (10626, 1)\n",
      "reshaped Y  (10626, 1)\n",
      "reshaped Y  (3541, 1)\n",
      "Y domain  Counter({0: 10626})\n",
      "Val domain  Counter({0: 3541})\n",
      "Meta labels  Counter({1: 7409, 0: 3217})\n",
      "Train files  (10626, 2)   Domain  (10626, 1)\n",
      "Test files  (3541, 2)   Domain  (3541, 1)\n"
     ]
    }
   ],
   "source": [
    "if(args.dann):\n",
    "    print(\"x_val is added to training without labels\")\n",
    "    x_train = np.concatenate((x_train,x_val),axis=1)\n",
    "    y_domain= np.concatenate((y_domain,val_domain))\n",
    "[x_train, x_val], [y_train,y_domain,y_val] = reshape_folds([x_train,x_val],[y_train,y_domain,y_val])\n",
    "y_train = to_categorical(y_train, num_classes=num_class)\n",
    "if(args.dann):\n",
    "    y_train = np.concatenate((y_train,np.zeros((y_val.shape[0],2))))\n",
    "print(\"Y domain \", Counter([x[0] for x in y_domain]))\n",
    "print(\"Val domain \", Counter(val_domain))\n",
    "print(\"Meta labels \", Counter(meta_labels))\n",
    "y_domain = to_categorical(y_domain,num_classes=num_class_domain)\n",
    "y_val = to_categorical(y_val, num_classes=num_class)\n",
    "val_domain = to_categorical(val_domain,num_classes=num_class_domain)\n",
    "print(\"Train files \", y_train.shape, \"  Domain \", y_domain.shape)\n",
    "print(\"Test files \", y_val.shape, \"  Domain \", val_domain.shape)\n",
    "\n",
    "### Batch Size limmiter \n",
    "if(batch_size > max(y_train.shape)):\n",
    "    print(\"Batch size if given greater than train files size. limiting batch size\")\n",
    "    batch_size = max(y_train.shape)"
   ]
  },
  {
   "cell_type": "code",
   "execution_count": 60,
   "metadata": {},
   "outputs": [
    {
     "name": "stdout",
     "output_type": "stream",
     "text": [
      "Yeah\n"
     ]
    }
   ],
   "source": [
    "######## change 2500 axis for pytorch \n",
    "if(\"torch\" in get_env()):\n",
    "    print(\"Yeah\")\n",
    "    if(not args.mfcc):\n",
    "        x_train = x_train.transpose((0,2,1))\n",
    "        x_val = x_val.transpose((0,2,1))"
   ]
  },
  {
   "cell_type": "code",
   "execution_count": null,
   "metadata": {},
   "outputs": [],
   "source": [
    "flow."
   ]
  },
  {
   "cell_type": "code",
   "execution_count": 89,
   "metadata": {},
   "outputs": [
    {
     "name": "stdout",
     "output_type": "stream",
     "text": [
      "[3217 7409]\n",
      "[0 1]\n",
      "Chunk size selected as 500\n"
     ]
    },
    {
     "name": "stderr",
     "output_type": "stream",
     "text": [
      "/media/mhealthra2/Data/heart_sound/Adversarial-Heart-Sound-Classification/codes/BalancedDannAudioDataGenerator.py:841: UserWarning: `meta_labels` specified, will use meta_labels instead of target_label\n",
      "  warnings.warn('`meta_labels` specified, will use meta_labels instead of target_label')\n",
      "/media/mhealthra2/Data/heart_sound/Adversarial-Heart-Sound-Classification/codes/BalancedDannAudioDataGenerator.py:657: UserWarning: NumpyArrayIterator is set to use the data format convention \"channels_last\" (channels on axis 2), i.e. expected either 1, 3 or 4 channels on axis 2. However, it was passed an array with shape (10626, 1, 2500) (2500 channels).\n",
      "  self.x.shape) + ' (' + str(self.x.shape[channels_axis]) + ' channels).')\n"
     ]
    }
   ],
   "source": [
    "datagen = BalancedAudioDataGenerator(shift=.1)\n",
    "flow = datagen.flow(x_train, y_train,\n",
    "                meta_label=np.argmax(y_train,axis=1),\n",
    "                batch_size=batch_size, shuffle=True,\n",
    "                seed=1)"
   ]
  },
  {
   "cell_type": "code",
   "execution_count": 4,
   "metadata": {},
   "outputs": [],
   "source": [
    "import torch.optim as optim\n",
    "import torch\n",
    "from torch.autograd import Variable\n",
    "import time\n",
    "import torch\n",
    "import torch.nn as nn\n",
    "from torchvision import datasets, transforms\n",
    "from torchsummary import summary\n",
    "# from CSVLogger import CSVLogger"
   ]
  },
  {
   "cell_type": "code",
   "execution_count": 3,
   "metadata": {},
   "outputs": [
    {
     "data": {
      "text/plain": [
       "['/media/mhealthra2/Data/heart_sound/Adversarial-Heart-Sound-Classification/codes',\n",
       " '/home/mhealthra2/anaconda3/envs/torch/lib/python37.zip',\n",
       " '/home/mhealthra2/anaconda3/envs/torch/lib/python3.7',\n",
       " '/home/mhealthra2/anaconda3/envs/torch/lib/python3.7/lib-dynload',\n",
       " '',\n",
       " '/home/mhealthra2/anaconda3/envs/torch/lib/python3.7/site-packages',\n",
       " '/home/mhealthra2/anaconda3/envs/torch/lib/python3.7/site-packages/IPython/extensions',\n",
       " '/home/mhealthra2/.ipython',\n",
       " '/lib/python3.7/site-packages']"
      ]
     },
     "execution_count": 3,
     "metadata": {},
     "output_type": "execute_result"
    }
   ],
   "source": [
    "mfcc_models"
   ]
  },
  {
   "cell_type": "code",
   "execution_count": 2,
   "metadata": {},
   "outputs": [
    {
     "name": "stdout",
     "output_type": "stream",
     "text": [
      "['/media/mhealthra2/Data/heart_sound/Adversarial-Heart-Sound-Classification/codes', '/home/mhealthra2/anaconda3/envs/torch/lib/python37.zip', '/home/mhealthra2/anaconda3/envs/torch/lib/python3.7', '/home/mhealthra2/anaconda3/envs/torch/lib/python3.7/lib-dynload', '', '/home/mhealthra2/anaconda3/envs/torch/lib/python3.7/site-packages', '/home/mhealthra2/anaconda3/envs/torch/lib/python3.7/site-packages/IPython/extensions', '/home/mhealthra2/.ipython']\n"
     ]
    }
   ],
   "source": [
    "import sys\n",
    "print(sys.path)\n",
    "sys.path.append('/lib/python3.7/site-packages')\n",
    "from PIL import Image"
   ]
  },
  {
   "cell_type": "code",
   "execution_count": 96,
   "metadata": {},
   "outputs": [],
   "source": [
    "optimizer = optim.Adam(net.parameters(), lr= .001)\n",
    "class_criterion = nn.CrossEntropyLoss()\n",
    "domain_criterion = nn.CrossEntropyLoss()"
   ]
  },
  {
   "cell_type": "code",
   "execution_count": 97,
   "metadata": {
    "scrolled": true
   },
   "outputs": [
    {
     "data": {
      "image/svg+xml": [
       "<?xml version=\"1.0\" encoding=\"UTF-8\" standalone=\"no\"?>\n",
       "<!DOCTYPE svg PUBLIC \"-//W3C//DTD SVG 1.1//EN\"\n",
       " \"http://www.w3.org/Graphics/SVG/1.1/DTD/svg11.dtd\">\n",
       "<!-- Generated by graphviz version 2.40.1 (20161225.0304)\n",
       " -->\n",
       "<!-- Title: %3 Pages: 1 -->\n",
       "<svg width=\"603pt\" height=\"864pt\"\n",
       " viewBox=\"0.00 0.00 602.95 864.00\" xmlns=\"http://www.w3.org/2000/svg\" xmlns:xlink=\"http://www.w3.org/1999/xlink\">\n",
       "<g id=\"graph0\" class=\"graph\" transform=\"scale(.6171 .6171) rotate(0) translate(4 1396)\">\n",
       "<title>%3</title>\n",
       "<polygon fill=\"#ffffff\" stroke=\"transparent\" points=\"-4,4 -4,-1396 973,-1396 973,4 -4,4\"/>\n",
       "<!-- 139623648937680 -->\n",
       "<g id=\"node1\" class=\"node\">\n",
       "<title>139623648937680</title>\n",
       "<polygon fill=\"#caff70\" stroke=\"#000000\" points=\"838,-21 733,-21 733,0 838,0 838,-21\"/>\n",
       "<text text-anchor=\"middle\" x=\"785.5\" y=\"-7.4\" font-family=\"Times,serif\" font-size=\"12.00\" fill=\"#000000\">SoftmaxBackward</text>\n",
       "</g>\n",
       "<!-- 139623648936720 -->\n",
       "<g id=\"node2\" class=\"node\">\n",
       "<title>139623648936720</title>\n",
       "<polygon fill=\"#d3d3d3\" stroke=\"#000000\" points=\"837.5,-78 733.5,-78 733.5,-57 837.5,-57 837.5,-78\"/>\n",
       "<text text-anchor=\"middle\" x=\"785.5\" y=\"-64.4\" font-family=\"Times,serif\" font-size=\"12.00\" fill=\"#000000\">AddmmBackward</text>\n",
       "</g>\n",
       "<!-- 139623648936720&#45;&gt;139623648937680 -->\n",
       "<g id=\"edge1\" class=\"edge\">\n",
       "<title>139623648936720&#45;&gt;139623648937680</title>\n",
       "<path fill=\"none\" stroke=\"#000000\" d=\"M785.5,-56.7787C785.5,-49.6134 785.5,-39.9517 785.5,-31.3097\"/>\n",
       "<polygon fill=\"#000000\" stroke=\"#000000\" points=\"789.0001,-31.1732 785.5,-21.1732 782.0001,-31.1732 789.0001,-31.1732\"/>\n",
       "</g>\n",
       "<!-- 139623610052304 -->\n",
       "<g id=\"node3\" class=\"node\">\n",
       "<title>139623610052304</title>\n",
       "<polygon fill=\"#add8e6\" stroke=\"#000000\" points=\"721,-148 650,-148 650,-114 721,-114 721,-148\"/>\n",
       "<text text-anchor=\"middle\" x=\"685.5\" y=\"-134.4\" font-family=\"Times,serif\" font-size=\"12.00\" fill=\"#000000\">linear1.bias</text>\n",
       "<text text-anchor=\"middle\" x=\"685.5\" y=\"-121.4\" font-family=\"Times,serif\" font-size=\"12.00\" fill=\"#000000\"> (2)</text>\n",
       "</g>\n",
       "<!-- 139623610052304&#45;&gt;139623648936720 -->\n",
       "<g id=\"edge2\" class=\"edge\">\n",
       "<title>139623610052304&#45;&gt;139623648936720</title>\n",
       "<path fill=\"none\" stroke=\"#000000\" d=\"M712.2982,-113.9832C727.1504,-104.552 745.512,-92.8924 760.1299,-83.61\"/>\n",
       "<polygon fill=\"#000000\" stroke=\"#000000\" points=\"762.1173,-86.4941 768.683,-78.1788 758.3649,-80.5848 762.1173,-86.4941\"/>\n",
       "</g>\n",
       "<!-- 139623610051536 -->\n",
       "<g id=\"node4\" class=\"node\">\n",
       "<title>139623610051536</title>\n",
       "<polygon fill=\"#d3d3d3\" stroke=\"#000000\" points=\"831.5,-141.5 739.5,-141.5 739.5,-120.5 831.5,-120.5 831.5,-141.5\"/>\n",
       "<text text-anchor=\"middle\" x=\"785.5\" y=\"-127.9\" font-family=\"Times,serif\" font-size=\"12.00\" fill=\"#000000\">ViewBackward</text>\n",
       "</g>\n",
       "<!-- 139623610051536&#45;&gt;139623648936720 -->\n",
       "<g id=\"edge3\" class=\"edge\">\n",
       "<title>139623610051536&#45;&gt;139623648936720</title>\n",
       "<path fill=\"none\" stroke=\"#000000\" d=\"M785.5,-120.2281C785.5,-111.5091 785.5,-98.9699 785.5,-88.3068\"/>\n",
       "<polygon fill=\"#000000\" stroke=\"#000000\" points=\"789.0001,-88.1128 785.5,-78.1128 782.0001,-88.1129 789.0001,-88.1128\"/>\n",
       "</g>\n",
       "<!-- 139623610051408 -->\n",
       "<g id=\"node5\" class=\"node\">\n",
       "<title>139623610051408</title>\n",
       "<polygon fill=\"#d3d3d3\" stroke=\"#000000\" points=\"830.5,-211.5 736.5,-211.5 736.5,-190.5 830.5,-190.5 830.5,-211.5\"/>\n",
       "<text text-anchor=\"middle\" x=\"783.5\" y=\"-197.9\" font-family=\"Times,serif\" font-size=\"12.00\" fill=\"#000000\">ReluBackward0</text>\n",
       "</g>\n",
       "<!-- 139623610051408&#45;&gt;139623610051536 -->\n",
       "<g id=\"edge4\" class=\"edge\">\n",
       "<title>139623610051408&#45;&gt;139623610051536</title>\n",
       "<path fill=\"none\" stroke=\"#000000\" d=\"M783.8038,-190.3685C784.0945,-180.1925 784.5411,-164.5606 784.9031,-151.8912\"/>\n",
       "<polygon fill=\"#000000\" stroke=\"#000000\" points=\"788.4063,-151.8275 785.1934,-141.7315 781.4091,-151.6275 788.4063,-151.8275\"/>\n",
       "</g>\n",
       "<!-- 139623610052176 -->\n",
       "<g id=\"node6\" class=\"node\">\n",
       "<title>139623610052176</title>\n",
       "<polygon fill=\"#d3d3d3\" stroke=\"#000000\" points=\"860,-275 707,-275 707,-254 860,-254 860,-275\"/>\n",
       "<text text-anchor=\"middle\" x=\"783.5\" y=\"-261.4\" font-family=\"Times,serif\" font-size=\"12.00\" fill=\"#000000\">CudnnBatchNormBackward</text>\n",
       "</g>\n",
       "<!-- 139623610052176&#45;&gt;139623610051408 -->\n",
       "<g id=\"edge5\" class=\"edge\">\n",
       "<title>139623610052176&#45;&gt;139623610051408</title>\n",
       "<path fill=\"none\" stroke=\"#000000\" d=\"M783.5,-253.7281C783.5,-245.0091 783.5,-232.4699 783.5,-221.8068\"/>\n",
       "<polygon fill=\"#000000\" stroke=\"#000000\" points=\"787.0001,-221.6128 783.5,-211.6128 780.0001,-221.6129 787.0001,-221.6128\"/>\n",
       "</g>\n",
       "<!-- 139623610051344 -->\n",
       "<g id=\"node7\" class=\"node\">\n",
       "<title>139623610051344</title>\n",
       "<polygon fill=\"#d3d3d3\" stroke=\"#000000\" points=\"705,-338.5 548,-338.5 548,-317.5 705,-317.5 705,-338.5\"/>\n",
       "<text text-anchor=\"middle\" x=\"626.5\" y=\"-324.9\" font-family=\"Times,serif\" font-size=\"12.00\" fill=\"#000000\">CudnnConvolutionBackward</text>\n",
       "</g>\n",
       "<!-- 139623610051344&#45;&gt;139623610052176 -->\n",
       "<g id=\"edge6\" class=\"edge\">\n",
       "<title>139623610051344&#45;&gt;139623610052176</title>\n",
       "<path fill=\"none\" stroke=\"#000000\" d=\"M652.7783,-317.3715C678.8946,-306.8086 719.1242,-290.5374 748.0559,-278.8357\"/>\n",
       "<polygon fill=\"#000000\" stroke=\"#000000\" points=\"749.4396,-282.0515 757.3977,-275.0573 746.8149,-275.5622 749.4396,-282.0515\"/>\n",
       "</g>\n",
       "<!-- 139623607764368 -->\n",
       "<g id=\"node8\" class=\"node\">\n",
       "<title>139623607764368</title>\n",
       "<polygon fill=\"#d3d3d3\" stroke=\"#000000\" points=\"548.5,-408.5 454.5,-408.5 454.5,-387.5 548.5,-387.5 548.5,-408.5\"/>\n",
       "<text text-anchor=\"middle\" x=\"501.5\" y=\"-394.9\" font-family=\"Times,serif\" font-size=\"12.00\" fill=\"#000000\">ReluBackward0</text>\n",
       "</g>\n",
       "<!-- 139623607764368&#45;&gt;139623610051344 -->\n",
       "<g id=\"edge7\" class=\"edge\">\n",
       "<title>139623607764368&#45;&gt;139623610051344</title>\n",
       "<path fill=\"none\" stroke=\"#000000\" d=\"M520.4848,-387.3685C541.3465,-375.6859 575.0492,-356.8125 598.8462,-343.4861\"/>\n",
       "<polygon fill=\"#000000\" stroke=\"#000000\" points=\"600.7312,-346.442 607.7461,-338.5022 597.3109,-340.3345 600.7312,-346.442\"/>\n",
       "</g>\n",
       "<!-- 139623610048784 -->\n",
       "<g id=\"node9\" class=\"node\">\n",
       "<title>139623610048784</title>\n",
       "<polygon fill=\"#d3d3d3\" stroke=\"#000000\" points=\"578,-472 425,-472 425,-451 578,-451 578,-472\"/>\n",
       "<text text-anchor=\"middle\" x=\"501.5\" y=\"-458.4\" font-family=\"Times,serif\" font-size=\"12.00\" fill=\"#000000\">CudnnBatchNormBackward</text>\n",
       "</g>\n",
       "<!-- 139623610048784&#45;&gt;139623607764368 -->\n",
       "<g id=\"edge8\" class=\"edge\">\n",
       "<title>139623610048784&#45;&gt;139623607764368</title>\n",
       "<path fill=\"none\" stroke=\"#000000\" d=\"M501.5,-450.7281C501.5,-442.0091 501.5,-429.4699 501.5,-418.8068\"/>\n",
       "<polygon fill=\"#000000\" stroke=\"#000000\" points=\"505.0001,-418.6128 501.5,-408.6128 498.0001,-418.6129 505.0001,-418.6128\"/>\n",
       "</g>\n",
       "<!-- 139623610049296 -->\n",
       "<g id=\"node10\" class=\"node\">\n",
       "<title>139623610049296</title>\n",
       "<polygon fill=\"#d3d3d3\" stroke=\"#000000\" points=\"423,-535.5 266,-535.5 266,-514.5 423,-514.5 423,-535.5\"/>\n",
       "<text text-anchor=\"middle\" x=\"344.5\" y=\"-521.9\" font-family=\"Times,serif\" font-size=\"12.00\" fill=\"#000000\">CudnnConvolutionBackward</text>\n",
       "</g>\n",
       "<!-- 139623610049296&#45;&gt;139623610048784 -->\n",
       "<g id=\"edge9\" class=\"edge\">\n",
       "<title>139623610049296&#45;&gt;139623610048784</title>\n",
       "<path fill=\"none\" stroke=\"#000000\" d=\"M370.7783,-514.3715C396.8946,-503.8086 437.1242,-487.5374 466.0559,-475.8357\"/>\n",
       "<polygon fill=\"#000000\" stroke=\"#000000\" points=\"467.4396,-479.0515 475.3977,-472.0573 464.8149,-472.5622 467.4396,-479.0515\"/>\n",
       "</g>\n",
       "<!-- 139623610050576 -->\n",
       "<g id=\"node11\" class=\"node\">\n",
       "<title>139623610050576</title>\n",
       "<polygon fill=\"#d3d3d3\" stroke=\"#000000\" points=\"266.5,-605.5 142.5,-605.5 142.5,-584.5 266.5,-584.5 266.5,-605.5\"/>\n",
       "<text text-anchor=\"middle\" x=\"204.5\" y=\"-591.9\" font-family=\"Times,serif\" font-size=\"12.00\" fill=\"#000000\">UnsqueezeBackward0</text>\n",
       "</g>\n",
       "<!-- 139623610050576&#45;&gt;139623610049296 -->\n",
       "<g id=\"edge10\" class=\"edge\">\n",
       "<title>139623610050576&#45;&gt;139623610049296</title>\n",
       "<path fill=\"none\" stroke=\"#000000\" d=\"M225.763,-584.3685C249.3349,-572.5826 287.5443,-553.4779 314.2328,-540.1336\"/>\n",
       "<polygon fill=\"#000000\" stroke=\"#000000\" points=\"316.1166,-543.1049 323.4956,-535.5022 312.9861,-536.8439 316.1166,-543.1049\"/>\n",
       "</g>\n",
       "<!-- 139623610052496 -->\n",
       "<g id=\"node12\" class=\"node\">\n",
       "<title>139623610052496</title>\n",
       "<polygon fill=\"#d3d3d3\" stroke=\"#000000\" points=\"260,-669 149,-669 149,-648 260,-648 260,-669\"/>\n",
       "<text text-anchor=\"middle\" x=\"204.5\" y=\"-655.4\" font-family=\"Times,serif\" font-size=\"12.00\" fill=\"#000000\">SqueezeBackward1</text>\n",
       "</g>\n",
       "<!-- 139623610052496&#45;&gt;139623610050576 -->\n",
       "<g id=\"edge11\" class=\"edge\">\n",
       "<title>139623610052496&#45;&gt;139623610050576</title>\n",
       "<path fill=\"none\" stroke=\"#000000\" d=\"M204.5,-647.7281C204.5,-639.0091 204.5,-626.4699 204.5,-615.8068\"/>\n",
       "<polygon fill=\"#000000\" stroke=\"#000000\" points=\"208.0001,-615.6128 204.5,-605.6128 201.0001,-615.6129 208.0001,-615.6128\"/>\n",
       "</g>\n",
       "<!-- 139623610051856 -->\n",
       "<g id=\"node13\" class=\"node\">\n",
       "<title>139623610051856</title>\n",
       "<polygon fill=\"#d3d3d3\" stroke=\"#000000\" points=\"283,-726 126,-726 126,-705 283,-705 283,-726\"/>\n",
       "<text text-anchor=\"middle\" x=\"204.5\" y=\"-712.4\" font-family=\"Times,serif\" font-size=\"12.00\" fill=\"#000000\">CudnnConvolutionBackward</text>\n",
       "</g>\n",
       "<!-- 139623610051856&#45;&gt;139623610052496 -->\n",
       "<g id=\"edge12\" class=\"edge\">\n",
       "<title>139623610051856&#45;&gt;139623610052496</title>\n",
       "<path fill=\"none\" stroke=\"#000000\" d=\"M204.5,-704.7787C204.5,-697.6134 204.5,-687.9517 204.5,-679.3097\"/>\n",
       "<polygon fill=\"#000000\" stroke=\"#000000\" points=\"208.0001,-679.1732 204.5,-669.1732 201.0001,-679.1732 208.0001,-679.1732\"/>\n",
       "</g>\n",
       "<!-- 139623610050832 -->\n",
       "<g id=\"node14\" class=\"node\">\n",
       "<title>139623610050832</title>\n",
       "<polygon fill=\"#d3d3d3\" stroke=\"#000000\" points=\"266.5,-783 142.5,-783 142.5,-762 266.5,-762 266.5,-783\"/>\n",
       "<text text-anchor=\"middle\" x=\"204.5\" y=\"-769.4\" font-family=\"Times,serif\" font-size=\"12.00\" fill=\"#000000\">UnsqueezeBackward0</text>\n",
       "</g>\n",
       "<!-- 139623610050832&#45;&gt;139623610051856 -->\n",
       "<g id=\"edge13\" class=\"edge\">\n",
       "<title>139623610050832&#45;&gt;139623610051856</title>\n",
       "<path fill=\"none\" stroke=\"#000000\" d=\"M204.5,-761.7787C204.5,-754.6134 204.5,-744.9517 204.5,-736.3097\"/>\n",
       "<polygon fill=\"#000000\" stroke=\"#000000\" points=\"208.0001,-736.1732 204.5,-726.1732 201.0001,-736.1732 208.0001,-736.1732\"/>\n",
       "</g>\n",
       "<!-- 139623610051152 -->\n",
       "<g id=\"node15\" class=\"node\">\n",
       "<title>139623610051152</title>\n",
       "<polygon fill=\"#d3d3d3\" stroke=\"#000000\" points=\"260,-840 149,-840 149,-819 260,-819 260,-840\"/>\n",
       "<text text-anchor=\"middle\" x=\"204.5\" y=\"-826.4\" font-family=\"Times,serif\" font-size=\"12.00\" fill=\"#000000\">SqueezeBackward1</text>\n",
       "</g>\n",
       "<!-- 139623610051152&#45;&gt;139623610050832 -->\n",
       "<g id=\"edge14\" class=\"edge\">\n",
       "<title>139623610051152&#45;&gt;139623610050832</title>\n",
       "<path fill=\"none\" stroke=\"#000000\" d=\"M204.5,-818.7787C204.5,-811.6134 204.5,-801.9517 204.5,-793.3097\"/>\n",
       "<polygon fill=\"#000000\" stroke=\"#000000\" points=\"208.0001,-793.1732 204.5,-783.1732 201.0001,-793.1732 208.0001,-793.1732\"/>\n",
       "</g>\n",
       "<!-- 139623610049680 -->\n",
       "<g id=\"node16\" class=\"node\">\n",
       "<title>139623610049680</title>\n",
       "<polygon fill=\"#d3d3d3\" stroke=\"#000000\" points=\"283,-897 126,-897 126,-876 283,-876 283,-897\"/>\n",
       "<text text-anchor=\"middle\" x=\"204.5\" y=\"-883.4\" font-family=\"Times,serif\" font-size=\"12.00\" fill=\"#000000\">CudnnConvolutionBackward</text>\n",
       "</g>\n",
       "<!-- 139623610049680&#45;&gt;139623610051152 -->\n",
       "<g id=\"edge15\" class=\"edge\">\n",
       "<title>139623610049680&#45;&gt;139623610051152</title>\n",
       "<path fill=\"none\" stroke=\"#000000\" d=\"M204.5,-875.7787C204.5,-868.6134 204.5,-858.9517 204.5,-850.3097\"/>\n",
       "<polygon fill=\"#000000\" stroke=\"#000000\" points=\"208.0001,-850.1732 204.5,-840.1732 201.0001,-850.1732 208.0001,-850.1732\"/>\n",
       "</g>\n",
       "<!-- 139623610048976 -->\n",
       "<g id=\"node17\" class=\"node\">\n",
       "<title>139623610048976</title>\n",
       "<polygon fill=\"#d3d3d3\" stroke=\"#000000\" points=\"266.5,-954 142.5,-954 142.5,-933 266.5,-933 266.5,-954\"/>\n",
       "<text text-anchor=\"middle\" x=\"204.5\" y=\"-940.4\" font-family=\"Times,serif\" font-size=\"12.00\" fill=\"#000000\">UnsqueezeBackward0</text>\n",
       "</g>\n",
       "<!-- 139623610048976&#45;&gt;139623610049680 -->\n",
       "<g id=\"edge16\" class=\"edge\">\n",
       "<title>139623610048976&#45;&gt;139623610049680</title>\n",
       "<path fill=\"none\" stroke=\"#000000\" d=\"M204.5,-932.7787C204.5,-925.6134 204.5,-915.9517 204.5,-907.3097\"/>\n",
       "<polygon fill=\"#000000\" stroke=\"#000000\" points=\"208.0001,-907.1732 204.5,-897.1732 201.0001,-907.1732 208.0001,-907.1732\"/>\n",
       "</g>\n",
       "<!-- 139623608691728 -->\n",
       "<g id=\"node18\" class=\"node\">\n",
       "<title>139623608691728</title>\n",
       "<polygon fill=\"#d3d3d3\" stroke=\"#000000\" points=\"266.5,-1011 142.5,-1011 142.5,-990 266.5,-990 266.5,-1011\"/>\n",
       "<text text-anchor=\"middle\" x=\"204.5\" y=\"-997.4\" font-family=\"Times,serif\" font-size=\"12.00\" fill=\"#000000\">UnsqueezeBackward0</text>\n",
       "</g>\n",
       "<!-- 139623608691728&#45;&gt;139623610048976 -->\n",
       "<g id=\"edge17\" class=\"edge\">\n",
       "<title>139623608691728&#45;&gt;139623610048976</title>\n",
       "<path fill=\"none\" stroke=\"#000000\" d=\"M204.5,-989.7787C204.5,-982.6134 204.5,-972.9517 204.5,-964.3097\"/>\n",
       "<polygon fill=\"#000000\" stroke=\"#000000\" points=\"208.0001,-964.1732 204.5,-954.1732 201.0001,-964.1732 208.0001,-964.1732\"/>\n",
       "</g>\n",
       "<!-- 139623610002320 -->\n",
       "<g id=\"node19\" class=\"node\">\n",
       "<title>139623610002320</title>\n",
       "<polygon fill=\"#d3d3d3\" stroke=\"#000000\" points=\"250,-1068 159,-1068 159,-1047 250,-1047 250,-1068\"/>\n",
       "<text text-anchor=\"middle\" x=\"204.5\" y=\"-1054.4\" font-family=\"Times,serif\" font-size=\"12.00\" fill=\"#000000\">MulBackward0</text>\n",
       "</g>\n",
       "<!-- 139623610002320&#45;&gt;139623608691728 -->\n",
       "<g id=\"edge18\" class=\"edge\">\n",
       "<title>139623610002320&#45;&gt;139623608691728</title>\n",
       "<path fill=\"none\" stroke=\"#000000\" d=\"M204.5,-1046.7787C204.5,-1039.6134 204.5,-1029.9517 204.5,-1021.3097\"/>\n",
       "<polygon fill=\"#000000\" stroke=\"#000000\" points=\"208.0001,-1021.1732 204.5,-1011.1732 201.0001,-1021.1732 208.0001,-1021.1732\"/>\n",
       "</g>\n",
       "<!-- 139623610002768 -->\n",
       "<g id=\"node20\" class=\"node\">\n",
       "<title>139623610002768</title>\n",
       "<polygon fill=\"#d3d3d3\" stroke=\"#000000\" points=\"197,-1125 106,-1125 106,-1104 197,-1104 197,-1125\"/>\n",
       "<text text-anchor=\"middle\" x=\"151.5\" y=\"-1111.4\" font-family=\"Times,serif\" font-size=\"12.00\" fill=\"#000000\">MulBackward0</text>\n",
       "</g>\n",
       "<!-- 139623610002768&#45;&gt;139623610002320 -->\n",
       "<g id=\"edge19\" class=\"edge\">\n",
       "<title>139623610002768&#45;&gt;139623610002320</title>\n",
       "<path fill=\"none\" stroke=\"#000000\" d=\"M161.4689,-1103.7787C168.7976,-1095.8969 178.935,-1084.9944 187.5295,-1075.7512\"/>\n",
       "<polygon fill=\"#000000\" stroke=\"#000000\" points=\"190.3295,-1077.8799 194.5758,-1068.1732 185.2032,-1073.1133 190.3295,-1077.8799\"/>\n",
       "</g>\n",
       "<!-- 139623610001232 -->\n",
       "<g id=\"node21\" class=\"node\">\n",
       "<title>139623610001232</title>\n",
       "<polygon fill=\"#d3d3d3\" stroke=\"#000000\" points=\"91,-1182 0,-1182 0,-1161 91,-1161 91,-1182\"/>\n",
       "<text text-anchor=\"middle\" x=\"45.5\" y=\"-1168.4\" font-family=\"Times,serif\" font-size=\"12.00\" fill=\"#000000\">MulBackward0</text>\n",
       "</g>\n",
       "<!-- 139623610001232&#45;&gt;139623610002768 -->\n",
       "<g id=\"edge20\" class=\"edge\">\n",
       "<title>139623610001232&#45;&gt;139623610002768</title>\n",
       "<path fill=\"none\" stroke=\"#000000\" d=\"M65.4378,-1160.7787C81.5759,-1152.1007 104.5232,-1139.7611 122.6645,-1130.0059\"/>\n",
       "<polygon fill=\"#000000\" stroke=\"#000000\" points=\"124.5019,-1132.9919 131.6516,-1125.1732 121.1866,-1126.8267 124.5019,-1132.9919\"/>\n",
       "</g>\n",
       "<!-- 139623610001808 -->\n",
       "<g id=\"node22\" class=\"node\">\n",
       "<title>139623610001808</title>\n",
       "<polygon fill=\"#add8e6\" stroke=\"#000000\" points=\"82.5,-1252 8.5,-1252 8.5,-1218 82.5,-1218 82.5,-1252\"/>\n",
       "<text text-anchor=\"middle\" x=\"45.5\" y=\"-1238.4\" font-family=\"Times,serif\" font-size=\"12.00\" fill=\"#000000\">gamma.amp</text>\n",
       "<text text-anchor=\"middle\" x=\"45.5\" y=\"-1225.4\" font-family=\"Times,serif\" font-size=\"12.00\" fill=\"#000000\"> (26, 1)</text>\n",
       "</g>\n",
       "<!-- 139623610001808&#45;&gt;139623610001232 -->\n",
       "<g id=\"edge21\" class=\"edge\">\n",
       "<title>139623610001808&#45;&gt;139623610001232</title>\n",
       "<path fill=\"none\" stroke=\"#000000\" d=\"M45.5,-1217.9832C45.5,-1210.1157 45.5,-1200.6973 45.5,-1192.4019\"/>\n",
       "<polygon fill=\"#000000\" stroke=\"#000000\" points=\"49.0001,-1192.3686 45.5,-1182.3687 42.0001,-1192.3687 49.0001,-1192.3686\"/>\n",
       "</g>\n",
       "<!-- 139623610000656 -->\n",
       "<g id=\"node23\" class=\"node\">\n",
       "<title>139623610000656</title>\n",
       "<polygon fill=\"#d3d3d3\" stroke=\"#000000\" points=\"194,-1182 109,-1182 109,-1161 194,-1161 194,-1182\"/>\n",
       "<text text-anchor=\"middle\" x=\"151.5\" y=\"-1168.4\" font-family=\"Times,serif\" font-size=\"12.00\" fill=\"#000000\">ExpBackward</text>\n",
       "</g>\n",
       "<!-- 139623610000656&#45;&gt;139623610002768 -->\n",
       "<g id=\"edge22\" class=\"edge\">\n",
       "<title>139623610000656&#45;&gt;139623610002768</title>\n",
       "<path fill=\"none\" stroke=\"#000000\" d=\"M151.5,-1160.7787C151.5,-1153.6134 151.5,-1143.9517 151.5,-1135.3097\"/>\n",
       "<polygon fill=\"#000000\" stroke=\"#000000\" points=\"155.0001,-1135.1732 151.5,-1125.1732 148.0001,-1135.1732 155.0001,-1135.1732\"/>\n",
       "</g>\n",
       "<!-- 139623610051920 -->\n",
       "<g id=\"node24\" class=\"node\">\n",
       "<title>139623610051920</title>\n",
       "<polygon fill=\"#d3d3d3\" stroke=\"#000000\" points=\"197,-1245.5 106,-1245.5 106,-1224.5 197,-1224.5 197,-1245.5\"/>\n",
       "<text text-anchor=\"middle\" x=\"151.5\" y=\"-1231.9\" font-family=\"Times,serif\" font-size=\"12.00\" fill=\"#000000\">MulBackward0</text>\n",
       "</g>\n",
       "<!-- 139623610051920&#45;&gt;139623610000656 -->\n",
       "<g id=\"edge23\" class=\"edge\">\n",
       "<title>139623610051920&#45;&gt;139623610000656</title>\n",
       "<path fill=\"none\" stroke=\"#000000\" d=\"M151.5,-1224.2281C151.5,-1215.5091 151.5,-1202.9699 151.5,-1192.3068\"/>\n",
       "<polygon fill=\"#000000\" stroke=\"#000000\" points=\"155.0001,-1192.1128 151.5,-1182.1128 148.0001,-1192.1129 155.0001,-1192.1128\"/>\n",
       "</g>\n",
       "<!-- 139623610000784 -->\n",
       "<g id=\"node25\" class=\"node\">\n",
       "<title>139623610000784</title>\n",
       "<polygon fill=\"#d3d3d3\" stroke=\"#000000\" points=\"194,-1315.5 109,-1315.5 109,-1294.5 194,-1294.5 194,-1315.5\"/>\n",
       "<text text-anchor=\"middle\" x=\"151.5\" y=\"-1301.9\" font-family=\"Times,serif\" font-size=\"12.00\" fill=\"#000000\">MmBackward</text>\n",
       "</g>\n",
       "<!-- 139623610000784&#45;&gt;139623610051920 -->\n",
       "<g id=\"edge24\" class=\"edge\">\n",
       "<title>139623610000784&#45;&gt;139623610051920</title>\n",
       "<path fill=\"none\" stroke=\"#000000\" d=\"M151.5,-1294.3685C151.5,-1284.1925 151.5,-1268.5606 151.5,-1255.8912\"/>\n",
       "<polygon fill=\"#000000\" stroke=\"#000000\" points=\"155.0001,-1255.7315 151.5,-1245.7315 148.0001,-1255.7316 155.0001,-1255.7315\"/>\n",
       "</g>\n",
       "<!-- 139623610002960 -->\n",
       "<g id=\"node26\" class=\"node\">\n",
       "<title>139623610002960</title>\n",
       "<polygon fill=\"#add8e6\" stroke=\"#000000\" points=\"188.5,-1392 114.5,-1392 114.5,-1358 188.5,-1358 188.5,-1392\"/>\n",
       "<text text-anchor=\"middle\" x=\"151.5\" y=\"-1378.4\" font-family=\"Times,serif\" font-size=\"12.00\" fill=\"#000000\">gamma.beta</text>\n",
       "<text text-anchor=\"middle\" x=\"151.5\" y=\"-1365.4\" font-family=\"Times,serif\" font-size=\"12.00\" fill=\"#000000\"> (26, 1)</text>\n",
       "</g>\n",
       "<!-- 139623610002960&#45;&gt;139623610000784 -->\n",
       "<g id=\"edge25\" class=\"edge\">\n",
       "<title>139623610002960&#45;&gt;139623610000784</title>\n",
       "<path fill=\"none\" stroke=\"#000000\" d=\"M151.5,-1357.6966C151.5,-1348.0634 151.5,-1336.003 151.5,-1325.8518\"/>\n",
       "<polygon fill=\"#000000\" stroke=\"#000000\" points=\"155.0001,-1325.7912 151.5,-1315.7913 148.0001,-1325.7913 155.0001,-1325.7912\"/>\n",
       "</g>\n",
       "<!-- 139623610001488 -->\n",
       "<g id=\"node27\" class=\"node\">\n",
       "<title>139623610001488</title>\n",
       "<polygon fill=\"#d3d3d3\" stroke=\"#000000\" points=\"299.5,-1125 215.5,-1125 215.5,-1104 299.5,-1104 299.5,-1125\"/>\n",
       "<text text-anchor=\"middle\" x=\"257.5\" y=\"-1111.4\" font-family=\"Times,serif\" font-size=\"12.00\" fill=\"#000000\">CosBackward</text>\n",
       "</g>\n",
       "<!-- 139623610001488&#45;&gt;139623610002320 -->\n",
       "<g id=\"edge26\" class=\"edge\">\n",
       "<title>139623610001488&#45;&gt;139623610002320</title>\n",
       "<path fill=\"none\" stroke=\"#000000\" d=\"M247.5311,-1103.7787C240.2024,-1095.8969 230.065,-1084.9944 221.4705,-1075.7512\"/>\n",
       "<polygon fill=\"#000000\" stroke=\"#000000\" points=\"223.7968,-1073.1133 214.4242,-1068.1732 218.6705,-1077.8799 223.7968,-1073.1133\"/>\n",
       "</g>\n",
       "<!-- 139623610003216 -->\n",
       "<g id=\"node28\" class=\"node\">\n",
       "<title>139623610003216</title>\n",
       "<polygon fill=\"#d3d3d3\" stroke=\"#000000\" points=\"303,-1182 212,-1182 212,-1161 303,-1161 303,-1182\"/>\n",
       "<text text-anchor=\"middle\" x=\"257.5\" y=\"-1168.4\" font-family=\"Times,serif\" font-size=\"12.00\" fill=\"#000000\">MulBackward0</text>\n",
       "</g>\n",
       "<!-- 139623610003216&#45;&gt;139623610001488 -->\n",
       "<g id=\"edge27\" class=\"edge\">\n",
       "<title>139623610003216&#45;&gt;139623610001488</title>\n",
       "<path fill=\"none\" stroke=\"#000000\" d=\"M257.5,-1160.7787C257.5,-1153.6134 257.5,-1143.9517 257.5,-1135.3097\"/>\n",
       "<polygon fill=\"#000000\" stroke=\"#000000\" points=\"261.0001,-1135.1732 257.5,-1125.1732 254.0001,-1135.1732 261.0001,-1135.1732\"/>\n",
       "</g>\n",
       "<!-- 139623610000144 -->\n",
       "<g id=\"node29\" class=\"node\">\n",
       "<title>139623610000144</title>\n",
       "<polygon fill=\"#d3d3d3\" stroke=\"#000000\" points=\"300,-1245.5 215,-1245.5 215,-1224.5 300,-1224.5 300,-1245.5\"/>\n",
       "<text text-anchor=\"middle\" x=\"257.5\" y=\"-1231.9\" font-family=\"Times,serif\" font-size=\"12.00\" fill=\"#000000\">MmBackward</text>\n",
       "</g>\n",
       "<!-- 139623610000144&#45;&gt;139623610003216 -->\n",
       "<g id=\"edge28\" class=\"edge\">\n",
       "<title>139623610000144&#45;&gt;139623610003216</title>\n",
       "<path fill=\"none\" stroke=\"#000000\" d=\"M257.5,-1224.2281C257.5,-1215.5091 257.5,-1202.9699 257.5,-1192.3068\"/>\n",
       "<polygon fill=\"#000000\" stroke=\"#000000\" points=\"261.0001,-1192.1128 257.5,-1182.1128 254.0001,-1192.1129 261.0001,-1192.1128\"/>\n",
       "</g>\n",
       "<!-- 139623610000592 -->\n",
       "<g id=\"node30\" class=\"node\">\n",
       "<title>139623610000592</title>\n",
       "<polygon fill=\"#add8e6\" stroke=\"#000000\" points=\"289,-1322 226,-1322 226,-1288 289,-1288 289,-1322\"/>\n",
       "<text text-anchor=\"middle\" x=\"257.5\" y=\"-1308.4\" font-family=\"Times,serif\" font-size=\"12.00\" fill=\"#000000\">gamma.fc</text>\n",
       "<text text-anchor=\"middle\" x=\"257.5\" y=\"-1295.4\" font-family=\"Times,serif\" font-size=\"12.00\" fill=\"#000000\"> (26, 1)</text>\n",
       "</g>\n",
       "<!-- 139623610000592&#45;&gt;139623610000144 -->\n",
       "<g id=\"edge29\" class=\"edge\">\n",
       "<title>139623610000592&#45;&gt;139623610000144</title>\n",
       "<path fill=\"none\" stroke=\"#000000\" d=\"M257.5,-1287.6966C257.5,-1278.0634 257.5,-1266.003 257.5,-1255.8518\"/>\n",
       "<polygon fill=\"#000000\" stroke=\"#000000\" points=\"261.0001,-1255.7912 257.5,-1245.7913 254.0001,-1255.7913 261.0001,-1255.7912\"/>\n",
       "</g>\n",
       "<!-- 139623610050768 -->\n",
       "<g id=\"node31\" class=\"node\">\n",
       "<title>139623610050768</title>\n",
       "<polygon fill=\"#add8e6\" stroke=\"#000000\" points=\"404,-612 285,-612 285,-578 404,-578 404,-612\"/>\n",
       "<text text-anchor=\"middle\" x=\"344.5\" y=\"-598.4\" font-family=\"Times,serif\" font-size=\"12.00\" fill=\"#000000\">conv22.conv1.weight</text>\n",
       "<text text-anchor=\"middle\" x=\"344.5\" y=\"-585.4\" font-family=\"Times,serif\" font-size=\"12.00\" fill=\"#000000\"> (1, 1, 5, 5)</text>\n",
       "</g>\n",
       "<!-- 139623610050768&#45;&gt;139623610049296 -->\n",
       "<g id=\"edge30\" class=\"edge\">\n",
       "<title>139623610050768&#45;&gt;139623610049296</title>\n",
       "<path fill=\"none\" stroke=\"#000000\" d=\"M344.5,-577.6966C344.5,-568.0634 344.5,-556.003 344.5,-545.8518\"/>\n",
       "<polygon fill=\"#000000\" stroke=\"#000000\" points=\"348.0001,-545.7912 344.5,-535.7913 341.0001,-545.7913 348.0001,-545.7912\"/>\n",
       "</g>\n",
       "<!-- 139623610052432 -->\n",
       "<g id=\"node32\" class=\"node\">\n",
       "<title>139623610052432</title>\n",
       "<polygon fill=\"#add8e6\" stroke=\"#000000\" points=\"528.5,-612 422.5,-612 422.5,-578 528.5,-578 528.5,-612\"/>\n",
       "<text text-anchor=\"middle\" x=\"475.5\" y=\"-598.4\" font-family=\"Times,serif\" font-size=\"12.00\" fill=\"#000000\">conv22.conv1.bias</text>\n",
       "<text text-anchor=\"middle\" x=\"475.5\" y=\"-585.4\" font-family=\"Times,serif\" font-size=\"12.00\" fill=\"#000000\"> (1)</text>\n",
       "</g>\n",
       "<!-- 139623610052432&#45;&gt;139623610049296 -->\n",
       "<g id=\"edge31\" class=\"edge\">\n",
       "<title>139623610052432&#45;&gt;139623610049296</title>\n",
       "<path fill=\"none\" stroke=\"#000000\" d=\"M443.4538,-577.8761C422.0399,-566.4336 394.1051,-551.5065 373.379,-540.4315\"/>\n",
       "<polygon fill=\"#000000\" stroke=\"#000000\" points=\"374.8821,-537.2664 364.4128,-535.6404 371.5831,-543.4403 374.8821,-537.2664\"/>\n",
       "</g>\n",
       "<!-- 139623610050640 -->\n",
       "<g id=\"node33\" class=\"node\">\n",
       "<title>139623610050640</title>\n",
       "<polygon fill=\"#add8e6\" stroke=\"#000000\" points=\"562,-542 441,-542 441,-508 562,-508 562,-542\"/>\n",
       "<text text-anchor=\"middle\" x=\"501.5\" y=\"-528.4\" font-family=\"Times,serif\" font-size=\"12.00\" fill=\"#000000\">conv22.norm1.weight</text>\n",
       "<text text-anchor=\"middle\" x=\"501.5\" y=\"-515.4\" font-family=\"Times,serif\" font-size=\"12.00\" fill=\"#000000\"> (1)</text>\n",
       "</g>\n",
       "<!-- 139623610050640&#45;&gt;139623610048784 -->\n",
       "<g id=\"edge32\" class=\"edge\">\n",
       "<title>139623610050640&#45;&gt;139623610048784</title>\n",
       "<path fill=\"none\" stroke=\"#000000\" d=\"M501.5,-507.9832C501.5,-500.1157 501.5,-490.6973 501.5,-482.4019\"/>\n",
       "<polygon fill=\"#000000\" stroke=\"#000000\" points=\"505.0001,-482.3686 501.5,-472.3687 498.0001,-482.3687 505.0001,-482.3686\"/>\n",
       "</g>\n",
       "<!-- 139623610050512 -->\n",
       "<g id=\"node34\" class=\"node\">\n",
       "<title>139623610050512</title>\n",
       "<polygon fill=\"#add8e6\" stroke=\"#000000\" points=\"687,-542 580,-542 580,-508 687,-508 687,-542\"/>\n",
       "<text text-anchor=\"middle\" x=\"633.5\" y=\"-528.4\" font-family=\"Times,serif\" font-size=\"12.00\" fill=\"#000000\">conv22.norm1.bias</text>\n",
       "<text text-anchor=\"middle\" x=\"633.5\" y=\"-515.4\" font-family=\"Times,serif\" font-size=\"12.00\" fill=\"#000000\"> (1)</text>\n",
       "</g>\n",
       "<!-- 139623610050512&#45;&gt;139623610048784 -->\n",
       "<g id=\"edge33\" class=\"edge\">\n",
       "<title>139623610050512&#45;&gt;139623610048784</title>\n",
       "<path fill=\"none\" stroke=\"#000000\" d=\"M598.1264,-507.9832C577.7817,-498.1961 552.4483,-486.0092 532.8257,-476.5696\"/>\n",
       "<polygon fill=\"#000000\" stroke=\"#000000\" points=\"534.2273,-473.3599 523.6985,-472.1788 531.1927,-479.668 534.2273,-473.3599\"/>\n",
       "</g>\n",
       "<!-- 139623610049424 -->\n",
       "<g id=\"node35\" class=\"node\">\n",
       "<title>139623610049424</title>\n",
       "<polygon fill=\"#add8e6\" stroke=\"#000000\" points=\"686,-415 567,-415 567,-381 686,-381 686,-415\"/>\n",
       "<text text-anchor=\"middle\" x=\"626.5\" y=\"-401.4\" font-family=\"Times,serif\" font-size=\"12.00\" fill=\"#000000\">conv22.conv2.weight</text>\n",
       "<text text-anchor=\"middle\" x=\"626.5\" y=\"-388.4\" font-family=\"Times,serif\" font-size=\"12.00\" fill=\"#000000\"> (2, 1, 5, 5)</text>\n",
       "</g>\n",
       "<!-- 139623610049424&#45;&gt;139623610051344 -->\n",
       "<g id=\"edge34\" class=\"edge\">\n",
       "<title>139623610049424&#45;&gt;139623610051344</title>\n",
       "<path fill=\"none\" stroke=\"#000000\" d=\"M626.5,-380.6966C626.5,-371.0634 626.5,-359.003 626.5,-348.8518\"/>\n",
       "<polygon fill=\"#000000\" stroke=\"#000000\" points=\"630.0001,-348.7912 626.5,-338.7913 623.0001,-348.7913 630.0001,-348.7912\"/>\n",
       "</g>\n",
       "<!-- 139623610051280 -->\n",
       "<g id=\"node36\" class=\"node\">\n",
       "<title>139623610051280</title>\n",
       "<polygon fill=\"#add8e6\" stroke=\"#000000\" points=\"810.5,-415 704.5,-415 704.5,-381 810.5,-381 810.5,-415\"/>\n",
       "<text text-anchor=\"middle\" x=\"757.5\" y=\"-401.4\" font-family=\"Times,serif\" font-size=\"12.00\" fill=\"#000000\">conv22.conv2.bias</text>\n",
       "<text text-anchor=\"middle\" x=\"757.5\" y=\"-388.4\" font-family=\"Times,serif\" font-size=\"12.00\" fill=\"#000000\"> (2)</text>\n",
       "</g>\n",
       "<!-- 139623610051280&#45;&gt;139623610051344 -->\n",
       "<g id=\"edge35\" class=\"edge\">\n",
       "<title>139623610051280&#45;&gt;139623610051344</title>\n",
       "<path fill=\"none\" stroke=\"#000000\" d=\"M725.4538,-380.8761C704.0399,-369.4336 676.1051,-354.5065 655.379,-343.4315\"/>\n",
       "<polygon fill=\"#000000\" stroke=\"#000000\" points=\"656.8821,-340.2664 646.4128,-338.6404 653.5831,-346.4403 656.8821,-340.2664\"/>\n",
       "</g>\n",
       "<!-- 139623610049360 -->\n",
       "<g id=\"node37\" class=\"node\">\n",
       "<title>139623610049360</title>\n",
       "<polygon fill=\"#add8e6\" stroke=\"#000000\" points=\"844,-345 723,-345 723,-311 844,-311 844,-345\"/>\n",
       "<text text-anchor=\"middle\" x=\"783.5\" y=\"-331.4\" font-family=\"Times,serif\" font-size=\"12.00\" fill=\"#000000\">conv22.norm2.weight</text>\n",
       "<text text-anchor=\"middle\" x=\"783.5\" y=\"-318.4\" font-family=\"Times,serif\" font-size=\"12.00\" fill=\"#000000\"> (2)</text>\n",
       "</g>\n",
       "<!-- 139623610049360&#45;&gt;139623610052176 -->\n",
       "<g id=\"edge36\" class=\"edge\">\n",
       "<title>139623610049360&#45;&gt;139623610052176</title>\n",
       "<path fill=\"none\" stroke=\"#000000\" d=\"M783.5,-310.9832C783.5,-303.1157 783.5,-293.6973 783.5,-285.4019\"/>\n",
       "<polygon fill=\"#000000\" stroke=\"#000000\" points=\"787.0001,-285.3686 783.5,-275.3687 780.0001,-285.3687 787.0001,-285.3686\"/>\n",
       "</g>\n",
       "<!-- 139623610051088 -->\n",
       "<g id=\"node38\" class=\"node\">\n",
       "<title>139623610051088</title>\n",
       "<polygon fill=\"#add8e6\" stroke=\"#000000\" points=\"969,-345 862,-345 862,-311 969,-311 969,-345\"/>\n",
       "<text text-anchor=\"middle\" x=\"915.5\" y=\"-331.4\" font-family=\"Times,serif\" font-size=\"12.00\" fill=\"#000000\">conv22.norm2.bias</text>\n",
       "<text text-anchor=\"middle\" x=\"915.5\" y=\"-318.4\" font-family=\"Times,serif\" font-size=\"12.00\" fill=\"#000000\"> (2)</text>\n",
       "</g>\n",
       "<!-- 139623610051088&#45;&gt;139623610052176 -->\n",
       "<g id=\"edge37\" class=\"edge\">\n",
       "<title>139623610051088&#45;&gt;139623610052176</title>\n",
       "<path fill=\"none\" stroke=\"#000000\" d=\"M880.1264,-310.9832C859.7817,-301.1961 834.4483,-289.0092 814.8257,-279.5696\"/>\n",
       "<polygon fill=\"#000000\" stroke=\"#000000\" points=\"816.2273,-276.3599 805.6985,-275.1788 813.1927,-282.668 816.2273,-276.3599\"/>\n",
       "</g>\n",
       "<!-- 139623610051728 -->\n",
       "<g id=\"node39\" class=\"node\">\n",
       "<title>139623610051728</title>\n",
       "<polygon fill=\"#d3d3d3\" stroke=\"#000000\" points=\"926,-141.5 853,-141.5 853,-120.5 926,-120.5 926,-141.5\"/>\n",
       "<text text-anchor=\"middle\" x=\"889.5\" y=\"-127.9\" font-family=\"Times,serif\" font-size=\"12.00\" fill=\"#000000\">TBackward</text>\n",
       "</g>\n",
       "<!-- 139623610051728&#45;&gt;139623648936720 -->\n",
       "<g id=\"edge38\" class=\"edge\">\n",
       "<title>139623610051728&#45;&gt;139623648936720</title>\n",
       "<path fill=\"none\" stroke=\"#000000\" d=\"M871.8578,-120.2281C855.3233,-110.1325 830.3999,-94.9149 811.5716,-83.4187\"/>\n",
       "<polygon fill=\"#000000\" stroke=\"#000000\" points=\"813.2404,-80.3369 802.8816,-78.1128 809.5926,-86.3113 813.2404,-80.3369\"/>\n",
       "</g>\n",
       "<!-- 139623610052112 -->\n",
       "<g id=\"node40\" class=\"node\">\n",
       "<title>139623610052112</title>\n",
       "<polygon fill=\"#add8e6\" stroke=\"#000000\" points=\"932.5,-218 848.5,-218 848.5,-184 932.5,-184 932.5,-218\"/>\n",
       "<text text-anchor=\"middle\" x=\"890.5\" y=\"-204.4\" font-family=\"Times,serif\" font-size=\"12.00\" fill=\"#000000\">linear1.weight</text>\n",
       "<text text-anchor=\"middle\" x=\"890.5\" y=\"-191.4\" font-family=\"Times,serif\" font-size=\"12.00\" fill=\"#000000\"> (2, 8352)</text>\n",
       "</g>\n",
       "<!-- 139623610052112&#45;&gt;139623610051728 -->\n",
       "<g id=\"edge39\" class=\"edge\">\n",
       "<title>139623610052112&#45;&gt;139623610051728</title>\n",
       "<path fill=\"none\" stroke=\"#000000\" d=\"M890.2528,-183.6966C890.1152,-174.0634 889.9429,-162.003 889.7979,-151.8518\"/>\n",
       "<polygon fill=\"#000000\" stroke=\"#000000\" points=\"893.2967,-151.7402 889.6542,-141.7913 886.2975,-151.8403 893.2967,-151.7402\"/>\n",
       "</g>\n",
       "</g>\n",
       "</svg>\n"
      ],
      "text/plain": [
       "<graphviz.dot.Digraph at 0x7efca7ade690>"
      ]
     },
     "execution_count": 97,
     "metadata": {},
     "output_type": "execute_result"
    }
   ],
   "source": [
    "out = net(torch.randn(1,1,2500).cuda())\n",
    "make_dot(out,params = dict(net.named_parameters()))"
   ]
  },
  {
   "cell_type": "code",
   "execution_count": 101,
   "metadata": {},
   "outputs": [
    {
     "name": "stdout",
     "output_type": "stream",
     "text": [
      "steps  14\n",
      "EPOCH    1\n",
      "Training loss fo 0.05 val_Class_loss   0.69\n",
      "EPOCH    2\n",
      "Training loss fo 0.05 val_Class_loss   0.69\n",
      "EPOCH    3\n",
      "Training loss fo 0.05 val_Class_loss   0.69\n",
      "EPOCH    4\n",
      "Training loss fo 0.05 val_Class_loss   0.69\n",
      "EPOCH    5\n",
      "Training loss fo 0.05 val_Class_loss   0.69\n",
      "EPOCH    6\n",
      "Training loss fo 0.05 val_Class_loss   0.69\n",
      "EPOCH    7\n",
      "Training loss fo 0.05 val_Class_loss   0.69\n",
      "EPOCH    8\n",
      "Training loss fo 0.05 val_Class_loss   0.69\n",
      "EPOCH    9\n",
      "Training loss fo 0.05 val_Class_loss   0.69\n",
      "EPOCH    10\n",
      "Training loss fo 0.05 val_Class_loss   0.69\n"
     ]
    }
   ],
   "source": [
    "net.cuda()\n",
    "epochs = 10\n",
    "\n",
    "print(\"steps \", flow.steps_per_epoch)\n",
    "\n",
    "\n",
    "for e in range(epochs):\n",
    "    print(\"EPOCH   \",e+1)\n",
    "    net.train()\n",
    "    epoch_loss = 0\n",
    "    epoch_class_loss = 0\n",
    "    epoch_domain_loss = 0\n",
    "    cls_pred = None\n",
    "    dom_pred = None\n",
    "    y_label = None\n",
    "    \n",
    "    for i in range(flow.steps_per_epoch+1):\n",
    "        \n",
    "        optimizer.zero_grad()\n",
    "        \n",
    "        x,y = flow.next()\n",
    "        x,y = torch.from_numpy(x),torch.from_numpy(y)\n",
    "        x,y = Variable(x),Variable(y)\n",
    "        x = x.type(torch.FloatTensor).cuda()\n",
    "        y = y.long().cuda()\n",
    "        cls = net(x)\n",
    "        class_loss = class_criterion(cls,torch.argmax(y,axis=1)).type(torch.FloatTensor)\n",
    "        \n",
    "        loss = class_loss\n",
    "        epoch_loss = epoch_loss + loss\n",
    "        \n",
    "        loss.backward()\n",
    "        optimizer.step()\n",
    "\n",
    "    epoch_loss = epoch_loss/flow.steps_per_epoch\n",
    "    \n",
    "    \n",
    "    print(\"Training loss fo\", \"%.2f\"%(epoch_loss.item()/flow.steps_per_epoch),end=' ')\n",
    "    # Validate \n",
    "    net.eval()\n",
    "    with torch.no_grad():\n",
    "        cls_pred = None\n",
    "        dom_pred = None\n",
    "        epoch_val_loss = 0\n",
    "        epoch_val_class_loss = 0\n",
    "        epoch_val_domain_loss = 0\n",
    "        s = 0\n",
    "        for part in val_parts:\n",
    "            x,y = torch.from_numpy(x_val[s:s+part]),torch.from_numpy(y_val[s:s+part])\n",
    "            s = s + part\n",
    "            x,y = Variable(x),Variable(y)\n",
    "            x = x.type(torch.FloatTensor).cuda()\n",
    "            if(args.mfcc):\n",
    "                x = x.reshape(x.shape[0],1,x.shape[1],x.shape[2])\n",
    "            y = y.long().cuda()\n",
    "            \n",
    "            #print(\"hwat\",x.shape)\n",
    "            cls = net(x)\n",
    "            if(cls_pred is None):\n",
    "                cls_pred = cls\n",
    "            else:\n",
    "                cls_pred = torch.cat((cls_pred,cls),axis=0)\n",
    "            val_class_loss = class_criterion(cls,torch.argmax(y,axis=1))\n",
    "            epoch_val_class_loss = epoch_val_class_loss + val_class_loss\n",
    "        epoch_val_class_loss = epoch_val_class_loss/len(val_parts)\n",
    "        print(\"val_Class_loss  \",\"%.2f\"%epoch_val_class_loss.item())\n",
    "\n",
    "    \n",
    "    \n",
    "    flow.reset()"
   ]
  },
  {
   "cell_type": "code",
   "execution_count": 102,
   "metadata": {},
   "outputs": [
    {
     "ename": "AttributeError",
     "evalue": "'Branch2d' object has no attribute 'out'",
     "output_type": "error",
     "traceback": [
      "\u001b[0;31m---------------------------------------------------------------------------\u001b[0m",
      "\u001b[0;31mAttributeError\u001b[0m                            Traceback (most recent call last)",
      "\u001b[0;32m<ipython-input-102-d939690a7859>\u001b[0m in \u001b[0;36m<module>\u001b[0;34m\u001b[0m\n\u001b[0;32m----> 1\u001b[0;31m \u001b[0mnet\u001b[0m\u001b[0;34m.\u001b[0m\u001b[0mconv22\u001b[0m\u001b[0;34m.\u001b[0m\u001b[0mout\u001b[0m\u001b[0;34m\u001b[0m\u001b[0;34m\u001b[0m\u001b[0m\n\u001b[0m",
      "\u001b[0;32m~/anaconda3/envs/torch/lib/python3.7/site-packages/torch/nn/modules/module.py\u001b[0m in \u001b[0;36m__getattr__\u001b[0;34m(self, name)\u001b[0m\n\u001b[1;32m    589\u001b[0m                 \u001b[0;32mreturn\u001b[0m \u001b[0mmodules\u001b[0m\u001b[0;34m[\u001b[0m\u001b[0mname\u001b[0m\u001b[0;34m]\u001b[0m\u001b[0;34m\u001b[0m\u001b[0;34m\u001b[0m\u001b[0m\n\u001b[1;32m    590\u001b[0m         raise AttributeError(\"'{}' object has no attribute '{}'\".format(\n\u001b[0;32m--> 591\u001b[0;31m             type(self).__name__, name))\n\u001b[0m\u001b[1;32m    592\u001b[0m \u001b[0;34m\u001b[0m\u001b[0m\n\u001b[1;32m    593\u001b[0m     \u001b[0;32mdef\u001b[0m \u001b[0m__setattr__\u001b[0m\u001b[0;34m(\u001b[0m\u001b[0mself\u001b[0m\u001b[0;34m,\u001b[0m \u001b[0mname\u001b[0m\u001b[0;34m,\u001b[0m \u001b[0mvalue\u001b[0m\u001b[0;34m)\u001b[0m\u001b[0;34m:\u001b[0m\u001b[0;34m\u001b[0m\u001b[0;34m\u001b[0m\u001b[0m\n",
      "\u001b[0;31mAttributeError\u001b[0m: 'Branch2d' object has no attribute 'out'"
     ]
    }
   ],
   "source": [
    "net.mfcc"
   ]
  },
  {
   "cell_type": "code",
   "execution_count": null,
   "metadata": {},
   "outputs": [],
   "source": []
  },
  {
   "cell_type": "code",
   "execution_count": null,
   "metadata": {},
   "outputs": [],
   "source": []
  },
  {
   "cell_type": "code",
   "execution_count": 12,
   "metadata": {},
   "outputs": [],
   "source": [
    "import torch\n",
    "import torch.nn as nn\n",
    "from torch.autograd import Variable\n",
    "\n",
    "from collections import OrderedDict\n",
    "import numpy as np\n",
    "\n",
    "def register_hook(module):\n",
    "\n",
    "    def hook(module, input, output):\n",
    "        class_name = str(module.__class__).split(\".\")[-1].split(\"'\")[0]\n",
    "        module_idx = len(summary)\n",
    "        \n",
    "        \n",
    "        m_key = \"%s-%i\" % (class_name, module_idx + 1)\n",
    "        summary[m_key] = OrderedDict()\n",
    "        summary[m_key][\"input_shape\"] = list(input[0].size())\n",
    "        summary[m_key][\"input_shape\"][0] = batch_size\n",
    "        if isinstance(output, (list, tuple)):\n",
    "            summary[m_key][\"output_shape\"] = [\n",
    "                [-1] + list(o.size())[1:] for o in output\n",
    "            ]\n",
    "        else:\n",
    "            summary[m_key][\"output_shape\"] = list(output.size())\n",
    "            summary[m_key][\"output_shape\"][0] = batch_size\n",
    "\n",
    "        params = 0\n",
    "        \n",
    "        ### updated part\n",
    "        for (name,weight) in module.named_parameters():\n",
    "            params += torch.prod(torch.LongTensor(list(weight.shape)))\n",
    "            summary[m_key][\"trainable\"] = weight.requires_grad\n",
    "        ###\n",
    "           \n",
    "        ### previously was this\n",
    "#         if hasattr(module, \"weight\") and hasattr(module.weight, \"size\"):\n",
    "#             params += torch.prod(torch.LongTensor(list(module.weight.size())))\n",
    "#             summary[m_key][\"trainable\"] = module.weight.requires_grad\n",
    "        ###\n",
    "    \n",
    "    \n",
    "        if hasattr(module, \"bias\") and hasattr(module.bias, \"size\"):\n",
    "            params += torch.prod(torch.LongTensor(list(module.bias.size())))\n",
    "        summary[m_key][\"nb_params\"] = params\n",
    "\n",
    "    if (\n",
    "        not isinstance(module, nn.Sequential)\n",
    "        and not isinstance(module, nn.ModuleList)\n",
    "        and not (module == model)\n",
    "    ):\n",
    "        hooks.append(module.register_forward_hook(hook))"
   ]
  },
  {
   "cell_type": "code",
   "execution_count": 13,
   "metadata": {},
   "outputs": [],
   "source": [
    "device=\"cuda\"\n",
    "if device == \"cuda\" and torch.cuda.is_available():\n",
    "    dtype = torch.cuda.FloatTensor\n",
    "else:\n",
    "    dtype = torch.FloatTensor"
   ]
  },
  {
   "cell_type": "code",
   "execution_count": 14,
   "metadata": {},
   "outputs": [],
   "source": [
    "input_size = (1,2500)\n",
    "if isinstance(input_size, tuple):\n",
    "    input_size = [input_size]\n",
    "x = [torch.rand(2, *in_size).type(dtype) for in_size in input_size]"
   ]
  },
  {
   "cell_type": "code",
   "execution_count": 15,
   "metadata": {},
   "outputs": [],
   "source": [
    "summary = OrderedDict()\n",
    "hooks = []"
   ]
  },
  {
   "cell_type": "code",
   "execution_count": 16,
   "metadata": {},
   "outputs": [
    {
     "data": {
      "text/plain": [
       "(OrderedDict(), [])"
      ]
     },
     "execution_count": 16,
     "metadata": {},
     "output_type": "execute_result"
    }
   ],
   "source": [
    "summary,hooks"
   ]
  },
  {
   "cell_type": "code",
   "execution_count": 17,
   "metadata": {},
   "outputs": [
    {
     "data": {
      "text/plain": [
       "Net(\n",
       "  (conv1): Conv_Gammatone(1, 64, kernel_size=(81,), stride=(1,), bias=False)\n",
       "  (pool): MaxPool1d(kernel_size=2, stride=2, padding=0, dilation=1, ceil_mode=False)\n",
       "  (soft): Softmax(dim=0)\n",
       ")"
      ]
     },
     "execution_count": 17,
     "metadata": {},
     "output_type": "execute_result"
    }
   ],
   "source": [
    "model = net.cuda()\n",
    "model.apply(register_hook)"
   ]
  },
  {
   "cell_type": "code",
   "execution_count": 18,
   "metadata": {},
   "outputs": [],
   "source": [
    "batch_size = 2\n",
    "model(*x)"
   ]
  },
  {
   "cell_type": "code",
   "execution_count": 19,
   "metadata": {},
   "outputs": [],
   "source": [
    "for h in hooks:\n",
    "    h.remove()"
   ]
  },
  {
   "cell_type": "code",
   "execution_count": 20,
   "metadata": {},
   "outputs": [
    {
     "name": "stdout",
     "output_type": "stream",
     "text": [
      "----------------------------------------------------------------\n",
      "        Layer (type)               Output Shape         Param #\n",
      "================================================================\n"
     ]
    }
   ],
   "source": [
    "print(\"----------------------------------------------------------------\")\n",
    "line_new = \"{:>20}  {:>25} {:>15}\".format(\"Layer (type)\", \"Output Shape\", \"Param #\")\n",
    "print(line_new)\n",
    "print(\"================================================================\")\n",
    "total_params = 0\n",
    "total_output = 0\n",
    "trainable_params = 0"
   ]
  },
  {
   "cell_type": "code",
   "execution_count": 21,
   "metadata": {},
   "outputs": [
    {
     "name": "stdout",
     "output_type": "stream",
     "text": [
      "Conv_Gammatone-1\n",
      "\n",
      "MaxPool1d-2\n",
      "\n",
      "Softmax-3\n",
      "\n"
     ]
    }
   ],
   "source": [
    "for layer in summary:\n",
    "    print(layer)\n",
    "    print()"
   ]
  },
  {
   "cell_type": "code",
   "execution_count": 22,
   "metadata": {},
   "outputs": [
    {
     "name": "stdout",
     "output_type": "stream",
     "text": [
      "Conv_Gammatone-1\n",
      "tensor(192)\n",
      "    Conv_Gammatone-1              [2, 64, 2420]             192\n",
      "MaxPool1d-2\n",
      "0\n",
      "         MaxPool1d-2              [2, 64, 1210]               0\n",
      "Softmax-3\n",
      "0\n",
      "           Softmax-3              [2, 64, 1210]               0\n"
     ]
    }
   ],
   "source": [
    "for layer in summary:\n",
    "    print(layer)\n",
    "    print(summary[layer][\"nb_params\"])\n",
    "    # input_shape, output_shape, trainable, nb_params\n",
    "    line_new = \"{:>20}  {:>25} {:>15}\".format(\n",
    "        layer,\n",
    "        str(summary[layer][\"output_shape\"]),\n",
    "        \"{0:,}\".format(summary[layer][\"nb_params\"]),\n",
    "    )\n",
    "    total_params += summary[layer][\"nb_params\"]\n",
    "    total_output += np.prod(summary[layer][\"output_shape\"])\n",
    "    if \"trainable\" in summary[layer]:\n",
    "        if summary[layer][\"trainable\"] == True:\n",
    "            trainable_params += summary[layer][\"nb_params\"]\n",
    "    print(line_new)"
   ]
  },
  {
   "cell_type": "code",
   "execution_count": 24,
   "metadata": {},
   "outputs": [
    {
     "data": {
      "text/plain": [
       "array(192)"
      ]
     },
     "execution_count": 24,
     "metadata": {},
     "output_type": "execute_result"
    }
   ],
   "source": [
    "total_params.numpy()"
   ]
  },
  {
   "cell_type": "code",
   "execution_count": 243,
   "metadata": {},
   "outputs": [
    {
     "ename": "NameError",
     "evalue": "name 'in_channels' is not defined",
     "output_type": "error",
     "traceback": [
      "\u001b[0;31m----------------------------------------------------------------------\u001b[0m",
      "\u001b[0;31mNameError\u001b[0m                            Traceback (most recent call last)",
      "\u001b[0;32m<ipython-input-243-bac9259948f8>\u001b[0m in \u001b[0;36m<module>\u001b[0;34m\u001b[0m\n\u001b[0;32m----> 1\u001b[0;31m \u001b[0mParameter\u001b[0m\u001b[0;34m(\u001b[0m\u001b[0mtorch\u001b[0m\u001b[0;34m.\u001b[0m\u001b[0mTensor\u001b[0m\u001b[0;34m(\u001b[0m\u001b[0min_channels\u001b[0m\u001b[0;34m,\u001b[0m \u001b[0mout_channels\u001b[0m \u001b[0;34m//\u001b[0m \u001b[0mgroups\u001b[0m\u001b[0;34m,\u001b[0m \u001b[0;34m*\u001b[0m\u001b[0mkernel_size\u001b[0m\u001b[0;34m)\u001b[0m\u001b[0;34m)\u001b[0m\u001b[0;34m\u001b[0m\u001b[0;34m\u001b[0m\u001b[0m\n\u001b[0m\u001b[1;32m      2\u001b[0m \u001b[0mParameter\u001b[0m\u001b[0;34m(\u001b[0m\u001b[0mtorch\u001b[0m\u001b[0;34m.\u001b[0m\u001b[0mTensor\u001b[0m\u001b[0;34m(\u001b[0m\u001b[0;36m1\u001b[0m\u001b[0;34m,\u001b[0m \u001b[0mfilters\u001b[0m\u001b[0;34m,\u001b[0m \u001b[0mkernel_size\u001b[0m\u001b[0;34m)\u001b[0m\u001b[0;34m)\u001b[0m\u001b[0;34m\u001b[0m\u001b[0;34m\u001b[0m\u001b[0m\n",
      "\u001b[0;31mNameError\u001b[0m: name 'in_channels' is not defined"
     ]
    }
   ],
   "source": [
    "Parameter(torch.Tensor(in_channels, out_channels // groups, *kernel_size))\n",
    "Parameter(torch.Tensor(1, filters, kernel_size))"
   ]
  },
  {
   "cell_type": "code",
   "execution_count": 29,
   "metadata": {},
   "outputs": [],
   "source": [
    "def hz2mel(hz):\n",
    "        return 2595 * np.log10(1+hz/700.)\n",
    "def mel2hz(mel):\n",
    "    return 700*(10**(mel/2595.0)-1)"
   ]
  },
  {
   "cell_type": "code",
   "execution_count": 200,
   "metadata": {},
   "outputs": [
    {
     "data": {
      "text/plain": [
       "Parameter containing:\n",
       "tensor([[20.],\n",
       "        [20.],\n",
       "        [20.],\n",
       "        [20.],\n",
       "        [20.]], requires_grad=True)"
      ]
     },
     "execution_count": 200,
     "metadata": {},
     "output_type": "execute_result"
    }
   ],
   "source": [
    "Parameter(torch.ones((5,1))*20)"
   ]
  },
  {
   "cell_type": "code",
   "execution_count": 21,
   "metadata": {},
   "outputs": [],
   "source": [
    "from torch.nn.parameter import Parameter\n",
    "from torch.nn.modules.utils import _single\n",
    "class Conv_Gammatone(Module):\n",
    "\n",
    "    __constants__ = ['stride', 'padding', 'dilation', 'groups', 'bias',\n",
    "                     'padding_mode', 'output_padding', 'in_channels',\n",
    "                     'out_channels', 'kernel_size']\n",
    "\n",
    "    def __init__(self, in_channels, out_channels, kernel_size,fsHz, stride=1,\n",
    "                 padding=0, dilation=1, transposed=False, output_padding=(0,),\n",
    "                 groups=1, bias=False, padding_mode='zeros',fc=None,\n",
    "                 beta_val=100,amp_val=10**4,n_order=4):\n",
    "        super(Conv_Gammatone, self).__init__()\n",
    "        if in_channels % groups != 0:\n",
    "            raise ValueError('in_channels must be divisible by groups')\n",
    "        if out_channels % groups != 0:\n",
    "            raise ValueError('out_channels must be divisible by groups')\n",
    "        self.in_channels = in_channels\n",
    "        self.out_channels = out_channels\n",
    "        self.filters = out_channels\n",
    "        self.kernel_size = _single(kernel_size)\n",
    "        self.stride = _single(stride)\n",
    "        self.padding = _single(padding)\n",
    "        self.dilation = _single(dilation)\n",
    "        self.transposed = transposed\n",
    "        self.output_padding = output_padding\n",
    "        self.groups = groups\n",
    "        self.padding_mode = padding_mode\n",
    "        self.fsHz = fsHz\n",
    "        if(fc is not None):\n",
    "            if isinstance(fc,tuple):\n",
    "                (minf,maxf)=fc\n",
    "            else:\n",
    "                minf = 0\n",
    "                maxf = fc\n",
    "        else:\n",
    "            minf = 0\n",
    "            maxf = self.fsHz/2\n",
    "        self.fc = Parameter(torch.from_numpy(self.mel2hz(np.linspace(self.hz2mel(minf),self.hz2mel(maxf),\n",
    "                            self.filters,dtype=np.float32))).unsqueeze(-1))\n",
    "        \n",
    "        self.beta = Parameter(torch.ones((self.filters,1))*beta_val)\n",
    "        \n",
    "        self.amp = Parameter(torch.ones((self.filters,1))*amp_val)\n",
    "        \n",
    "        self.n_order = (torch.tensor(n_order,dtype=torch.float))\n",
    "        \n",
    "#         self.weight = torch.([self.fc, self.beta, self.amp])\n",
    "        \n",
    "        self.register_parameter('bias', None)\n",
    "    def impulse_gammatone(self):\n",
    "        device = 0\n",
    "#         print(self.amp.get_device())\n",
    "#         print(self.beta.get_device())\n",
    "#         print(self.fc.get_device())\n",
    "#         print(self.n_order.get_device())\n",
    "        \n",
    "        self.t = torch.arange(0,self.kernel_size[0]/self.fsHz,\n",
    "                            1/self.fsHz,dtype = torch.float32).unsqueeze(-1).transpose(1,0)\n",
    "    \n",
    "        self.t = self.t.type(torch.FloatTensor)\n",
    "        self.n_order = self.n_order.type(torch.FloatTensor)\n",
    "#         print(\"device\",self.t.get_device())\n",
    "#         print(self.n_order.get_device())\n",
    "#         print(self.amp.get_device())\n",
    "        power = torch.pow(self.t,self.n_order-1)\n",
    "#         print(\"power \", power.get_device())\n",
    "        power = power.to(device = device)\n",
    "#         print(\"power \", power.get_device())\n",
    "        \n",
    "        at = self.amp.to(device=device)*power\n",
    "        \n",
    "#         print(\"exp\")\n",
    "#         print((-2*torch.tensor(np.pi).to(device)).get_device())\n",
    "#         print(\":/ \"torch.mm(self.beta,self.t.to(device)).get_device())\n",
    "        \n",
    "        exp = torch.exp(-2*torch.tensor(np.pi).to(device)*torch.mm(self.beta.to(device),self.t.to(device)))\n",
    "        cos = torch.cos(2*torch.tensor(np.pi).to(device)*torch.mm(self.fc.to(device),self.t.to(device)))\n",
    "        return at*exp*cos\n",
    "    def forward(self, input):\n",
    "        gammatone = self.impulse_gammatone().unsqueeze(1)\n",
    "#         if self.padding_mode == 'circular':\n",
    "#             expanded_padding = ((self.padding[0] + 1) // 2, self.padding[0] // 2)\n",
    "#             return F.conv1d(F.pad(input, expanded_padding, mode='circular'),\n",
    "#                             gammatone, self.bias, self.stride,\n",
    "#                             _single(0), self.dilation, self.groups)\n",
    "        return F.conv1d(input, gammatone, self.bias, self.stride,\n",
    "                        self.padding, self.dilation, self.groups)\n",
    "    \n",
    "    \n",
    "#     def reset_parameters(self):\n",
    "#         init.kaiming_uniform_(self.weight, a=math.sqrt(5))\n",
    "#         if self.bias is not None:\n",
    "#             fan_in, _ = init._calculate_fan_in_and_fan_out(self.weight)\n",
    "#             bound = 1 / math.sqrt(fan_in)\n",
    "#             init.uniform_(self.bias, -bound, bound)\n",
    "    def hz2mel(self,hz):\n",
    "        return 2595 * np.log10(1+hz/700.)\n",
    "    def mel2hz(self,mel):\n",
    "        return 700*(10**(mel/2595.0)-1)\n",
    "    def extra_repr(self):\n",
    "        s = ('{in_channels}, {out_channels}, kernel_size={kernel_size}'\n",
    "             ', stride={stride}')\n",
    "        if self.padding != (0,) * len(self.padding):\n",
    "            s += ', padding={padding}'\n",
    "        if self.dilation != (1,) * len(self.dilation):\n",
    "            s += ', dilation={dilation}'\n",
    "        if self.output_padding != (0,) * len(self.output_padding):\n",
    "            s += ', output_padding={output_padding}'\n",
    "        if self.groups != 1:\n",
    "            s += ', groups={groups}'\n",
    "        if self.bias is None:\n",
    "            s += ', bias=False'\n",
    "        return s.format(**self.__dict__)\n",
    "\n",
    "    def __setstate__(self, state):\n",
    "        super(Conv_Gammatone, self).__setstate__(state)\n",
    "        if not hasattr(self, 'padding_mode'):\n",
    "            self.padding_mode = 'zeros'"
   ]
  },
  {
   "cell_type": "code",
   "execution_count": 9,
   "metadata": {},
   "outputs": [],
   "source": [
    "from torch.nn.parameter import Parameter\n",
    "from torch.nn.modules.utils import _single\n",
    "class Conv_Gammatone_coeff(Module):\n",
    "\n",
    "    __constants__ = ['stride', 'padding', 'dilation', 'groups', 'bias',\n",
    "                     'padding_mode', 'output_padding', 'in_channels',\n",
    "                     'out_channels', 'kernel_size']\n",
    "\n",
    "    def __init__(self, in_channels, out_channels, kernel_size,fsHz, stride=1,\n",
    "                 padding=0, dilation=1, transposed=False, output_padding=(0,),\n",
    "                 groups=1, bias=False, padding_mode='zeros',fc=None,\n",
    "                 beta_val=100,amp_val=10**4,n_order=4):\n",
    "        super(Conv_Gammatone_coeff, self).__init__()\n",
    "        if in_channels % groups != 0:\n",
    "            raise ValueError('in_channels must be divisible by groups')\n",
    "        if out_channels % groups != 0:\n",
    "            raise ValueError('out_channels must be divisible by groups')\n",
    "        self.in_channels = in_channels\n",
    "        self.out_channels = out_channels\n",
    "        self.filters = out_channels\n",
    "        self.kernel_size = _single(kernel_size)\n",
    "        self.stride = _single(stride)\n",
    "        self.padding = _single(padding)\n",
    "        self.dilation = _single(dilation)\n",
    "        self.transposed = transposed\n",
    "        self.output_padding = output_padding\n",
    "        self.groups = groups\n",
    "        self.padding_mode = padding_mode\n",
    "        self.fsHz = fsHz\n",
    "        if(fc is not None):\n",
    "            if isinstance(fc,tuple):\n",
    "                (minf,maxf)=fc\n",
    "            else:\n",
    "                minf = 0\n",
    "                maxf = fc\n",
    "        else:\n",
    "            minf = 0\n",
    "            maxf = self.fsHz/2\n",
    "        self.fc = (torch.from_numpy(self.mel2hz(np.linspace(self.hz2mel(minf),self.hz2mel(maxf),\n",
    "                            self.filters,dtype=np.float32))).unsqueeze(-1))\n",
    "        \n",
    "        self.beta = (torch.ones((self.filters,1))*beta_val)\n",
    "        \n",
    "        self.amp = (torch.ones((self.filters,1))*amp_val)\n",
    "        \n",
    "        self.n_order = (torch.tensor(n_order,dtype=torch.float))\n",
    "        \n",
    "        self.weight = Parameter(self.impulse_gammatone().unsqueeze(1))\n",
    "        \n",
    "        self.register_parameter('bias', None)\n",
    "    def impulse_gammatone(self):\n",
    "        device = 0\n",
    "#         print(self.amp.get_device())\n",
    "#         print(self.beta.get_device())\n",
    "#         print(self.fc.get_device())\n",
    "#         print(self.n_order.get_device())\n",
    "        \n",
    "        self.t = torch.arange(0,self.kernel_size[0]/self.fsHz,\n",
    "                            1/self.fsHz,dtype = torch.float32).unsqueeze(-1).transpose(1,0)\n",
    "    \n",
    "        self.t = self.t.type(torch.FloatTensor)\n",
    "        self.n_order = self.n_order.type(torch.FloatTensor)\n",
    "#         print(\"device\",self.t.get_device())\n",
    "#         print(self.n_order.get_device())\n",
    "#         print(self.amp.get_device())\n",
    "        power = torch.pow(self.t,self.n_order-1)\n",
    "#         print(\"power \", power.get_device())\n",
    "        power = power.to(device = device)\n",
    "#         print(\"power \", power.get_device())\n",
    "        \n",
    "        at = self.amp.to(device=device)*power\n",
    "        \n",
    "#         print(\"exp\")\n",
    "#         print((-2*torch.tensor(np.pi).to(device)).get_device())\n",
    "#         print(\":/ \"torch.mm(self.beta,self.t.to(device)).get_device())\n",
    "        \n",
    "        exp = torch.exp(-2*torch.tensor(np.pi).to(device)*torch.mm(self.beta.to(device),self.t.to(device)))\n",
    "        cos = torch.cos(2*torch.tensor(np.pi).to(device)*torch.mm(self.fc.to(device),self.t.to(device)))\n",
    "        return at*exp*cos\n",
    "    def forward(self, input):\n",
    "#         gammatone = self.impulse_gammatone().unsqueeze(1)\n",
    "#         if self.padding_mode == 'circular':\n",
    "#             expanded_padding = ((self.padding[0] + 1) // 2, self.padding[0] // 2)\n",
    "#             return F.conv1d(F.pad(input, expanded_padding, mode='circular'),\n",
    "#                             gammatone, self.bias, self.stride,\n",
    "#                             _single(0), self.dilation, self.groups)\n",
    "        return F.conv1d(input, self.weight, self.bias, self.stride,\n",
    "                        self.padding, self.dilation, self.groups)\n",
    "    \n",
    "    \n",
    "#     def reset_parameters(self):\n",
    "#         init.kaiming_uniform_(self.weight, a=math.sqrt(5))\n",
    "#         if self.bias is not None:\n",
    "#             fan_in, _ = init._calculate_fan_in_and_fan_out(self.weight)\n",
    "#             bound = 1 / math.sqrt(fan_in)\n",
    "#             init.uniform_(self.bias, -bound, bound)\n",
    "    def hz2mel(self,hz):\n",
    "        return 2595 * np.log10(1+hz/700.)\n",
    "    def mel2hz(self,mel):\n",
    "        return 700*(10**(mel/2595.0)-1)\n",
    "    def extra_repr(self):\n",
    "        s = ('{in_channels}, {out_channels}, kernel_size={kernel_size}'\n",
    "             ', stride={stride}')\n",
    "        if self.padding != (0,) * len(self.padding):\n",
    "            s += ', padding={padding}'\n",
    "        if self.dilation != (1,) * len(self.dilation):\n",
    "            s += ', dilation={dilation}'\n",
    "        if self.output_padding != (0,) * len(self.output_padding):\n",
    "            s += ', output_padding={output_padding}'\n",
    "        if self.groups != 1:\n",
    "            s += ', groups={groups}'\n",
    "        if self.bias is None:\n",
    "            s += ', bias=False'\n",
    "        return s.format(**self.__dict__)\n",
    "\n",
    "    def __setstate__(self, state):\n",
    "        super(Conv_Gammatone, self).__setstate__(state)\n",
    "        if not hasattr(self, 'padding_mode'):\n",
    "            self.padding_mode = 'zeros'"
   ]
  },
  {
   "cell_type": "code",
   "execution_count": null,
   "metadata": {},
   "outputs": [],
   "source": [
    "from torch.nn.parameter import Parameter\n",
    "from torch.nn.modules.utils import _single\n",
    "class Conv_Gammatone_coeff_3d(Module):\n",
    "\n",
    "    __constants__ = ['stride', 'padding', 'dilation', 'groups', 'bias',\n",
    "                     'padding_mode', 'output_padding', 'in_channels',\n",
    "                     'out_channels', 'kernel_size']\n",
    "\n",
    "    def __init__(self, in_channels, out_channels, kernel_size,fsHz, stride=1,\n",
    "                 padding=0, dilation=1, transposed=False, output_padding=(0,),\n",
    "                 groups=1, bias=False, padding_mode='zeros',fc=None,\n",
    "                 beta_val=100,amp_val=10**4,n_order=4):\n",
    "        super(Conv_Gammatone_coeff, self).__init__()\n",
    "        if in_channels % groups != 0:\n",
    "            raise ValueError('in_channels must be divisible by groups')\n",
    "        if out_channels % groups != 0:\n",
    "            raise ValueError('out_channels must be divisible by groups')\n",
    "        self.in_channels = in_channels\n",
    "        self.out_channels = out_channels\n",
    "        self.filters = out_channels\n",
    "        self.kernel_size = _single(kernel_size)\n",
    "        self.stride = _single(stride)\n",
    "        self.padding = _single(padding)\n",
    "        self.dilation = _single(dilation)\n",
    "        self.transposed = transposed\n",
    "        self.output_padding = output_padding\n",
    "        self.groups = groups\n",
    "        self.padding_mode = padding_mode\n",
    "        self.fsHz = fsHz\n",
    "        if(fc is not None):\n",
    "            if isinstance(fc,tuple):\n",
    "                (minf,maxf)=fc\n",
    "            else:\n",
    "                minf = 0\n",
    "                maxf = fc\n",
    "        else:\n",
    "            minf = 0\n",
    "            maxf = self.fsHz/2\n",
    "        self.fc = (torch.from_numpy(self.mel2hz(np.linspace(self.hz2mel(minf),self.hz2mel(maxf),\n",
    "                            self.filters,dtype=np.float32))).unsqueeze(-1))\n",
    "        \n",
    "        self.beta = (torch.ones((self.filters,1))*beta_val)\n",
    "        \n",
    "        self.amp = (torch.ones((self.filters,1))*amp_val)\n",
    "        \n",
    "        self.n_order = (torch.tensor(n_order,dtype=torch.float))\n",
    "        \n",
    "        self.weight = Parameter(self.impulse_gammatone().unsqueeze(1))\n",
    "        \n",
    "        self.register_parameter('bias', None)\n",
    "    def impulse_gammatone(self):\n",
    "        device = 0\n",
    "#         print(self.amp.get_device())\n",
    "#         print(self.beta.get_device())\n",
    "#         print(self.fc.get_device())\n",
    "#         print(self.n_order.get_device())\n",
    "        \n",
    "        self.t = torch.arange(0,self.kernel_size[0]/self.fsHz,\n",
    "                            1/self.fsHz,dtype = torch.float32).unsqueeze(-1).transpose(1,0)\n",
    "    \n",
    "        self.t = self.t.type(torch.FloatTensor)\n",
    "        self.n_order = self.n_order.type(torch.FloatTensor)\n",
    "#         print(\"device\",self.t.get_device())\n",
    "#         print(self.n_order.get_device())\n",
    "#         print(self.amp.get_device())\n",
    "        power = torch.pow(self.t,self.n_order-1)\n",
    "#         print(\"power \", power.get_device())\n",
    "        power = power.to(device = device)\n",
    "#         print(\"power \", power.get_device())\n",
    "        \n",
    "        at = self.amp.to(device=device)*power\n",
    "        \n",
    "#         print(\"exp\")\n",
    "#         print((-2*torch.tensor(np.pi).to(device)).get_device())\n",
    "#         print(\":/ \"torch.mm(self.beta,self.t.to(device)).get_device())\n",
    "        \n",
    "        exp = torch.exp(-2*torch.tensor(np.pi).to(device)*torch.mm(self.beta.to(device),self.t.to(device)))\n",
    "        cos = torch.cos(2*torch.tensor(np.pi).to(device)*torch.mm(self.fc.to(device),self.t.to(device)))\n",
    "        return at*exp*cos\n",
    "    def forward(self, input):\n",
    "#         gammatone = self.impulse_gammatone().unsqueeze(1)\n",
    "#         if self.padding_mode == 'circular':\n",
    "#             expanded_padding = ((self.padding[0] + 1) // 2, self.padding[0] // 2)\n",
    "#             return F.conv1d(F.pad(input, expanded_padding, mode='circular'),\n",
    "#                             gammatone, self.bias, self.stride,\n",
    "#                             _single(0), self.dilation, self.groups)\n",
    "        return F.conv1d(input, self.weight, self.bias, self.stride,\n",
    "                        self.padding, self.dilation, self.groups)\n",
    "    \n",
    "    \n",
    "#     def reset_parameters(self):\n",
    "#         init.kaiming_uniform_(self.weight, a=math.sqrt(5))\n",
    "#         if self.bias is not None:\n",
    "#             fan_in, _ = init._calculate_fan_in_and_fan_out(self.weight)\n",
    "#             bound = 1 / math.sqrt(fan_in)\n",
    "#             init.uniform_(self.bias, -bound, bound)\n",
    "    def hz2mel(self,hz):\n",
    "        return 2595 * np.log10(1+hz/700.)\n",
    "    def mel2hz(self,mel):\n",
    "        return 700*(10**(mel/2595.0)-1)\n",
    "    def extra_repr(self):\n",
    "        s = ('{in_channels}, {out_channels}, kernel_size={kernel_size}'\n",
    "             ', stride={stride}')\n",
    "        if self.padding != (0,) * len(self.padding):\n",
    "            s += ', padding={padding}'\n",
    "        if self.dilation != (1,) * len(self.dilation):\n",
    "            s += ', dilation={dilation}'\n",
    "        if self.output_padding != (0,) * len(self.output_padding):\n",
    "            s += ', output_padding={output_padding}'\n",
    "        if self.groups != 1:\n",
    "            s += ', groups={groups}'\n",
    "        if self.bias is None:\n",
    "            s += ', bias=False'\n",
    "        return s.format(**self.__dict__)\n",
    "\n",
    "    def __setstate__(self, state):\n",
    "        super(Conv_Gammatone, self).__setstate__(state)\n",
    "        if not hasattr(self, 'padding_mode'):\n",
    "            self.padding_mode = 'zeros'"
   ]
  },
  {
   "cell_type": "code",
   "execution_count": 9,
   "metadata": {},
   "outputs": [],
   "source": [
    "def hz2mel(hz):\n",
    "    return 2595 * np.log10(1+hz/700.)\n",
    "def mel2hz(mel):\n",
    "    return 700*(10**(mel/2595.0)-1)"
   ]
  },
  {
   "cell_type": "code",
   "execution_count": 180,
   "metadata": {},
   "outputs": [],
   "source": [
    "fsHz = 16000\n",
    "n_order = torch.tensor(4)\n",
    "minf=0\n",
    "maxf=500\n",
    "filters = 64\n",
    "kernel_size = (81,)\n",
    "fc = (torch.from_numpy(mel2hz(np.linspace(hz2mel(minf),hz2mel(maxf),\n",
    "                            filters,dtype=np.float32))).unsqueeze(-1))\n",
    "device = 0\n",
    "beta = (torch.ones((filters,1))*100)\n",
    "\n",
    "amp = (torch.ones((filters,1))*100000)"
   ]
  },
  {
   "cell_type": "code",
   "execution_count": 181,
   "metadata": {},
   "outputs": [
    {
     "data": {
      "text/plain": [
       "16000"
      ]
     },
     "execution_count": 181,
     "metadata": {},
     "output_type": "execute_result"
    }
   ],
   "source": [
    "fsHz"
   ]
  },
  {
   "cell_type": "code",
   "execution_count": 182,
   "metadata": {},
   "outputs": [],
   "source": [
    "t = torch.arange(0,kernel_size[0]/fsHz,\n",
    "                            1/fsHz,dtype = torch.float).unsqueeze(-1).transpose(1,0)\n",
    "    \n",
    "t = t.type(torch.FloatTensor)\n",
    "n_order = n_order.type(torch.FloatTensor)\n",
    "#         print(\"device\",t.get_device())\n",
    "#         print(n_order.get_device())\n",
    "#         print(amp.get_device())\n",
    "power = torch.pow(t,n_order-1)\n",
    "#         print(\"power \", power.get_device())\n",
    "power = power.to(device = device)\n",
    "#         print(\"power \", power.get_device())\n",
    "\n",
    "at = amp.to(device=device)*power\n",
    "\n",
    "#         print(\"exp\")\n",
    "#         print((-2*torch.tensor(np.pi).to(device)).get_device())\n",
    "#         print(\":/ \"torch.mm(beta,t.to(device)).get_device())\n",
    "\n",
    "exp = torch.exp(-2*torch.tensor(np.pi).to(device)*torch.mm(beta.to(device),t.to(device)))\n",
    "cos = torch.cos(2*torch.tensor(np.pi).to(device)*torch.mm(fc.to(device),t.to(device)))\n",
    "# return at*exp*cos"
   ]
  },
  {
   "cell_type": "code",
   "execution_count": 238,
   "metadata": {},
   "outputs": [],
   "source": [
    "mm = torch.matmul(fc.to(device),t.to(device))"
   ]
  },
  {
   "cell_type": "code",
   "execution_count": 240,
   "metadata": {},
   "outputs": [
    {
     "data": {
      "text/plain": [
       "tensor([[0.0000e+00, 0.0000e+00, 0.0000e+00,  ..., 0.0000e+00, 0.0000e+00,\n",
       "         0.0000e+00],\n",
       "        [0.0000e+00, 3.7591e-04, 7.5182e-04,  ..., 2.9321e-02, 2.9697e-02,\n",
       "         3.0073e-02],\n",
       "        [0.0000e+00, 7.5505e-04, 1.5101e-03,  ..., 5.8894e-02, 5.9649e-02,\n",
       "         6.0404e-02],\n",
       "        ...,\n",
       "        [0.0000e+00, 2.9978e-02, 5.9955e-02,  ..., 2.3383e+00, 2.3682e+00,\n",
       "         2.3982e+00],\n",
       "        [0.0000e+00, 3.0611e-02, 6.1222e-02,  ..., 2.3877e+00, 2.4183e+00,\n",
       "         2.4489e+00],\n",
       "        [0.0000e+00, 3.1250e-02, 6.2500e-02,  ..., 2.4375e+00, 2.4688e+00,\n",
       "         2.5000e+00]], device='cuda:0')"
      ]
     },
     "execution_count": 240,
     "metadata": {},
     "output_type": "execute_result"
    }
   ],
   "source": [
    "mm"
   ]
  }
 ],
 "metadata": {
  "kernelspec": {
   "display_name": "Python 3",
   "language": "python",
   "name": "python3"
  },
  "language_info": {
   "codemirror_mode": {
    "name": "ipython",
    "version": 3
   },
   "file_extension": ".py",
   "mimetype": "text/x-python",
   "name": "python",
   "nbconvert_exporter": "python",
   "pygments_lexer": "ipython3",
   "version": "3.6.8"
  }
 },
 "nbformat": 4,
 "nbformat_minor": 2
}
