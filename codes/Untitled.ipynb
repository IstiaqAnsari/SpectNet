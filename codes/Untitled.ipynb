{
 "cells": [],
 "metadata": {
  "environment": {
   "name": "tf2-2-2-gpu.2-2.m48",
   "type": "gcloud",
   "uri": "gcr.io/deeplearning-platform-release/tf2-2-2-gpu.2-2:m48"
  }
 },
 "nbformat": 4,
 "nbformat_minor": 4
}
