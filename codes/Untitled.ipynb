{
 "cells": [
  {
   "cell_type": "code",
   "execution_count": 28,
   "metadata": {},
   "outputs": [],
   "source": [
    "import numpy as np\n",
    "from itertools import combinations"
   ]
  },
  {
   "cell_type": "code",
   "execution_count": 37,
   "metadata": {},
   "outputs": [],
   "source": [
    "from dataLoader import getData\n",
    "fold_dir = '../../feature/potes_1DCNN/balancedCV/folds/folds_phys_compare_pascal/'\n",
    "x,y,yd,p = getData(fold_dir,'abcd')"
   ]
  },
  {
   "cell_type": "code",
   "execution_count": 38,
   "metadata": {},
   "outputs": [
    {
     "data": {
      "text/plain": [
       "((2500, 19734), (19734,), 19734, (839,))"
      ]
     },
     "execution_count": 38,
     "metadata": {},
     "output_type": "execute_result"
    }
   ],
   "source": [
    "x.shape,y.shape,len(yd),p.shape"
   ]
  },
  {
   "cell_type": "code",
   "execution_count": 15,
   "metadata": {},
   "outputs": [],
   "source": [
    "def reshape_folds(x_train, x_val, y_train, y_val):\n",
    "    x1 = np.reshape(x_train, [x_train.shape[0], x_train.shape[1], 1])\n",
    "    y_train = np.reshape(y_train, [y_train.shape[0], 1])\n",
    "\n",
    "    print(x1.shape)\n",
    "    print(y_train.shape)\n",
    "\n",
    "    v1 = np.transpose(x_val[:, :])\n",
    "\n",
    "    v1 = np.reshape(v1, [v1.shape[0], v1.shape[1], 1])\n",
    "\n",
    "    y_val = np.reshape(y_val, [y_val.shape[0], 1])\n",
    "\n",
    "    print(v1.shape)\n",
    "    print(y_val.shape)\n",
    "    return x1, y_train, v1 , y_val"
   ]
  },
  {
   "cell_type": "code",
   "execution_count": 40,
   "metadata": {},
   "outputs": [],
   "source": [
    "hey = []\n",
    "for cls in range(2):\n",
    "    for dfc in 'abcdg':\n",
    "        hey.append((cls,dfc))"
   ]
  },
  {
   "cell_type": "code",
   "execution_count": 43,
   "metadata": {},
   "outputs": [],
   "source": [
    "domainClass = [(cls,dfc) for cls in range(2) for dfc in train_domain]\n",
    "meta_label = [hey.index((cl,df)) for (cl,df) in zip(y,yd)]"
   ]
  },
  {
   "cell_type": "code",
   "execution_count": 69,
   "metadata": {},
   "outputs": [
    {
     "data": {
      "text/plain": [
       "4"
      ]
     },
     "execution_count": 69,
     "metadata": {},
     "output_type": "execute_result"
    }
   ],
   "source": [
    "np.array([list(set('abcd'+'ef')).index(lab) for lab in yd])"
   ]
  },
  {
   "cell_type": "code",
   "execution_count": 64,
   "metadata": {},
   "outputs": [
    {
     "data": {
      "text/plain": [
       "['f', 's', 'd', 'c']"
      ]
     },
     "execution_count": 64,
     "metadata": {},
     "output_type": "execute_result"
    }
   ],
   "source": [
    "list(set('sdff'+'cdc'))"
   ]
  },
  {
   "cell_type": "code",
   "execution_count": 54,
   "metadata": {},
   "outputs": [
    {
     "data": {
      "text/plain": [
       "(array([1., 1., 1., 1., 1., 1., 1., 1., 1., 1., 1., 1., 1., 1., 1., 1., 1.,\n",
       "        1., 1., 1., 1., 1., 1., 1., 1., 1., 1., 1., 1., 1., 1., 1., 1., 1.,\n",
       "        1., 1., 1., 1., 1., 1., 1., 1., 1., 1., 1., 1., 1., 1., 1., 1., 1.,\n",
       "        1., 1., 1., 1., 1., 1., 1., 1., 1., 1., 1., 1., 1., 1., 1., 1., 1.,\n",
       "        1., 1., 1., 1., 1., 1., 1., 1., 1., 1., 1., 1., 1., 1., 1., 1., 1.,\n",
       "        1., 1., 1., 1., 1., 1., 1., 1., 1., 1., 1., 1., 1., 1., 1.]),\n",
       " ['c',\n",
       "  'c',\n",
       "  'c',\n",
       "  'c',\n",
       "  'c',\n",
       "  'c',\n",
       "  'c',\n",
       "  'c',\n",
       "  'c',\n",
       "  'c',\n",
       "  'c',\n",
       "  'c',\n",
       "  'c',\n",
       "  'c',\n",
       "  'c',\n",
       "  'c',\n",
       "  'c',\n",
       "  'c',\n",
       "  'c',\n",
       "  'c',\n",
       "  'c',\n",
       "  'c',\n",
       "  'c',\n",
       "  'c',\n",
       "  'c',\n",
       "  'c',\n",
       "  'c',\n",
       "  'c',\n",
       "  'c',\n",
       "  'c',\n",
       "  'c',\n",
       "  'c',\n",
       "  'c',\n",
       "  'c',\n",
       "  'c',\n",
       "  'c',\n",
       "  'c',\n",
       "  'c',\n",
       "  'c',\n",
       "  'c',\n",
       "  'c',\n",
       "  'c',\n",
       "  'c',\n",
       "  'c',\n",
       "  'c',\n",
       "  'c',\n",
       "  'c',\n",
       "  'c',\n",
       "  'c',\n",
       "  'c',\n",
       "  'c',\n",
       "  'c',\n",
       "  'c',\n",
       "  'c',\n",
       "  'c',\n",
       "  'c',\n",
       "  'c',\n",
       "  'c',\n",
       "  'c',\n",
       "  'c',\n",
       "  'c',\n",
       "  'c',\n",
       "  'c',\n",
       "  'c',\n",
       "  'c',\n",
       "  'c',\n",
       "  'c',\n",
       "  'c',\n",
       "  'c',\n",
       "  'c',\n",
       "  'c',\n",
       "  'c',\n",
       "  'c',\n",
       "  'c',\n",
       "  'c',\n",
       "  'c',\n",
       "  'c',\n",
       "  'c',\n",
       "  'c',\n",
       "  'c',\n",
       "  'c',\n",
       "  'c',\n",
       "  'c',\n",
       "  'c',\n",
       "  'c',\n",
       "  'c',\n",
       "  'c',\n",
       "  'c',\n",
       "  'c',\n",
       "  'c',\n",
       "  'c',\n",
       "  'c',\n",
       "  'c',\n",
       "  'c',\n",
       "  'c',\n",
       "  'c',\n",
       "  'c',\n",
       "  'c',\n",
       "  'c',\n",
       "  'c'],\n",
       " [7,\n",
       "  7,\n",
       "  7,\n",
       "  7,\n",
       "  7,\n",
       "  7,\n",
       "  7,\n",
       "  7,\n",
       "  7,\n",
       "  7,\n",
       "  7,\n",
       "  7,\n",
       "  7,\n",
       "  7,\n",
       "  7,\n",
       "  7,\n",
       "  7,\n",
       "  7,\n",
       "  7,\n",
       "  7,\n",
       "  7,\n",
       "  7,\n",
       "  7,\n",
       "  7,\n",
       "  7,\n",
       "  7,\n",
       "  7,\n",
       "  7,\n",
       "  7,\n",
       "  7,\n",
       "  7,\n",
       "  7,\n",
       "  7,\n",
       "  7,\n",
       "  7,\n",
       "  7,\n",
       "  7,\n",
       "  7,\n",
       "  7,\n",
       "  7,\n",
       "  7,\n",
       "  7,\n",
       "  7,\n",
       "  7,\n",
       "  7,\n",
       "  7,\n",
       "  7,\n",
       "  7,\n",
       "  7,\n",
       "  7,\n",
       "  7,\n",
       "  7,\n",
       "  7,\n",
       "  7,\n",
       "  7,\n",
       "  7,\n",
       "  7,\n",
       "  7,\n",
       "  7,\n",
       "  7,\n",
       "  7,\n",
       "  7,\n",
       "  7,\n",
       "  7,\n",
       "  7,\n",
       "  7,\n",
       "  7,\n",
       "  7,\n",
       "  7,\n",
       "  7,\n",
       "  7,\n",
       "  7,\n",
       "  7,\n",
       "  7,\n",
       "  7,\n",
       "  7,\n",
       "  7,\n",
       "  7,\n",
       "  7,\n",
       "  7,\n",
       "  7,\n",
       "  7,\n",
       "  7,\n",
       "  7,\n",
       "  7,\n",
       "  7,\n",
       "  7,\n",
       "  7,\n",
       "  7,\n",
       "  7,\n",
       "  7,\n",
       "  7,\n",
       "  7,\n",
       "  7,\n",
       "  7,\n",
       "  7,\n",
       "  7,\n",
       "  7,\n",
       "  7,\n",
       "  7])"
      ]
     },
     "execution_count": 54,
     "metadata": {},
     "output_type": "execute_result"
    }
   ],
   "source": [
    "y[18000:18100],yd[18000:18100],meta_label[18000:18100]"
   ]
  },
  {
   "cell_type": "code",
   "execution_count": 53,
   "metadata": {},
   "outputs": [
    {
     "data": {
      "text/plain": [
       "Counter({'a': 14167, 'b': 2985, 'c': 1781, 'd': 801})"
      ]
     },
     "execution_count": 53,
     "metadata": {},
     "output_type": "execute_result"
    }
   ],
   "source": [
    "from collections import Counter\n",
    "Counter(yd)"
   ]
  },
  {
   "cell_type": "code",
   "execution_count": 55,
   "metadata": {},
   "outputs": [
    {
     "data": {
      "text/plain": [
       "[(0, 'a'),\n",
       " (0, 'b'),\n",
       " (0, 'c'),\n",
       " (0, 'd'),\n",
       " (0, 'g'),\n",
       " (1, 'a'),\n",
       " (1, 'b'),\n",
       " (1, 'c'),\n",
       " (1, 'd'),\n",
       " (1, 'g')]"
      ]
     },
     "execution_count": 55,
     "metadata": {},
     "output_type": "execute_result"
    }
   ],
   "source": [
    "hey"
   ]
  },
  {
   "cell_type": "code",
   "execution_count": null,
   "metadata": {},
   "outputs": [],
   "source": []
  }
 ],
 "metadata": {
  "kernelspec": {
   "display_name": "Python 3",
   "language": "python",
   "name": "python3"
  },
  "language_info": {
   "codemirror_mode": {
    "name": "ipython",
    "version": 3
   },
   "file_extension": ".py",
   "mimetype": "text/x-python",
   "name": "python",
   "nbconvert_exporter": "python",
   "pygments_lexer": "ipython3",
   "version": "3.7.3"
  }
 },
 "nbformat": 4,
 "nbformat_minor": 2
}
