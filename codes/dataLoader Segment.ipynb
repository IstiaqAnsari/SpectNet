{
 "cells": [
  {
   "cell_type": "code",
   "execution_count": 1,
   "metadata": {},
   "outputs": [],
   "source": [
    "import os,tables,numpy as np,matplotlib.pyplot as plt,pandas as pd,json,h5py\n",
    "from scipy.io import loadmat\n",
    "from collections import Counter\n",
    "from  itertools import combinations\n",
    "#from dataholder import Data\n",
    "import random,pickle"
   ]
  },
  {
   "cell_type": "code",
   "execution_count": 2,
   "metadata": {},
   "outputs": [
    {
     "data": {
      "text/plain": [
       "'/media/mhealthra2/Data/heart_sound/Adversarial-Heart-Sound-Classification/codes'"
      ]
     },
     "execution_count": 2,
     "metadata": {},
     "output_type": "execute_result"
    }
   ],
   "source": [
    "os.getcwd()"
   ]
  },
  {
   "cell_type": "code",
   "execution_count": null,
   "metadata": {},
   "outputs": [],
   "source": []
  },
  {
   "cell_type": "code",
   "execution_count": 3,
   "metadata": {
    "scrolled": true
   },
   "outputs": [
    {
     "data": {
      "text/plain": [
       "['fold_a.mat']"
      ]
     },
     "execution_count": 3,
     "metadata": {},
     "output_type": "execute_result"
    }
   ],
   "source": []
  },
  {
   "cell_type": "code",
   "execution_count": 4,
   "metadata": {},
   "outputs": [
    {
     "name": "stdout",
     "output_type": "stream",
     "text": [
      "fold_a.mat ['#refs#', 'diastole', 's1', 's2', 'systole', 'trainY', 'train_files', 'train_parts', 'wav_name']\n"
     ]
    }
   ],
   "source": [
    "for x in os.listdir(fold_dir):\n",
    "    data = h5py.File(fold_dir+x, 'r')\n",
    "    print(x,list(data.keys()))"
   ]
  },
  {
   "cell_type": "code",
   "execution_count": 5,
   "metadata": {},
   "outputs": [
    {
     "name": "stdout",
     "output_type": "stream",
     "text": [
      "fold_a.mat ['#refs#', 'diastole', 's1', 's2', 'systole', 'trainY', 'train_files', 'train_parts', 'wav_name']\n"
     ]
    }
   ],
   "source": [
    "data = h5py.File(fold_dir+'fold_a.mat', 'r')\n",
    "print(x,list(data.keys()))"
   ]
  },
  {
   "cell_type": "code",
   "execution_count": 75,
   "metadata": {},
   "outputs": [],
   "source": [
    "path = '/media/mhealthra2/Data/heart_sound/Adversarial Heart Sound Results/logs/SmallNet/self_train/a repeated 0 0 400 2019-11-18 15:36:10.354170/params.pickle'"
   ]
  },
  {
   "cell_type": "code",
   "execution_count": 87,
   "metadata": {},
   "outputs": [],
   "source": [
    "with open(path, \"rb\") as output_file:\n",
    "    hm = pickle.load(output_file)"
   ]
  },
  {
   "cell_type": "code",
   "execution_count": 90,
   "metadata": {
    "collapsed": true
   },
   "outputs": [
    {
     "data": {
      "text/plain": [
       "((0.99,\n",
       "  0.1486491106509375,\n",
       "  0.01,\n",
       "  5,\n",
       "  10000.0,\n",
       "  0.5,\n",
       "  0.2,\n",
       "  'valid',\n",
       "  'relu',\n",
       "  2,\n",
       "  True,\n",
       "  True),\n",
       " ['bn_momentum',\n",
       "  'l2_reg',\n",
       "  'l2_reg_dense',\n",
       "  'kernel_size',\n",
       "  'maxnorm',\n",
       "  'dropout_rate',\n",
       "  'dropout_rate_dense',\n",
       "  'padding',\n",
       "  'activation_function',\n",
       "  'subsam',\n",
       "  'FIR_train',\n",
       "  'trainable',\n",
       "  'optim',\n",
       "  'equ'])"
      ]
     },
     "execution_count": 90,
     "metadata": {},
     "output_type": "execute_result"
    }
   ],
   "source": [
    "hm,['bn_momentum',\n",
    "                 'l2_reg',\n",
    "                 'l2_reg_dense',\n",
    "                 'kernel_size',\n",
    "                 'maxnorm',\n",
    "                 'dropout_rate',\n",
    "                 'dropout_rate_dense',\n",
    "                 'padding',\n",
    "                 'activation_function',\n",
    "                 'subsam',\n",
    "                 'FIR_train',\n",
    "                 'trainable',\n",
    "                 'optim',\n",
    "                 'equ']"
   ]
  },
  {
   "cell_type": "code",
   "execution_count": 16,
   "metadata": {
    "scrolled": true
   },
   "outputs": [
    {
     "name": "stdout",
     "output_type": "stream",
     "text": [
      "../../feature/potes_1DCNN/balancedCV/folds/individual_fold_4_segments/\n"
     ]
    }
   ],
   "source": [
    "d = Data(fold_dir,'fold_a.mat','a',split=0.3,shuffle=0)"
   ]
  },
  {
   "cell_type": "code",
   "execution_count": 17,
   "metadata": {},
   "outputs": [
    {
     "data": {
      "text/plain": [
       "(11792,)"
      ]
     },
     "execution_count": 17,
     "metadata": {},
     "output_type": "execute_result"
    }
   ],
   "source": [
    "d.trainY.shape"
   ]
  },
  {
   "cell_type": "code",
   "execution_count": 18,
   "metadata": {},
   "outputs": [
    {
     "data": {
      "text/plain": [
       "[(200, 11792), (800, 11792), (200, 11792), (1700, 11792)]"
      ]
     },
     "execution_count": 18,
     "metadata": {},
     "output_type": "execute_result"
    }
   ],
   "source": [
    "[d.trainX[k].shape for k in d.segments]"
   ]
  },
  {
   "cell_type": "code",
   "execution_count": 14,
   "metadata": {},
   "outputs": [
    {
     "data": {
      "text/plain": [
       "True"
      ]
     },
     "execution_count": 14,
     "metadata": {},
     "output_type": "execute_result"
    }
   ],
   "source": [
    "'4_segments' in 'nasidf4_segmentsasdf'"
   ]
  },
  {
   "cell_type": "code",
   "execution_count": 5,
   "metadata": {},
   "outputs": [],
   "source": [
    "import matplotlib.pyplot as plt,h5py,numpy as np,random\n",
    "from collections import Counter\n",
    "class Data():\n",
    "    def __init__(self,path,f,n,severe = True,split=0,normalize=False,shuffle=None):\n",
    "        \n",
    "        if(split>=1 or split<0):\n",
    "            print(\"make sure split follow  1<split<=0 \")\n",
    "            raise ValueError\n",
    "        self.split = split\n",
    "        self.data = h5py.File(path+f, 'r')\n",
    "        self.file = f\n",
    "        self.dom = n\n",
    "        self.segments = ['s1','systole','s2','diastole']\n",
    "        print(path)\n",
    "        self.seg = ('4_segments' in path)\n",
    "        if(self.seg):\n",
    "            self.trainX = {k:np.array(self.data[k][:]).astype('float32') for k in self.segments}\n",
    "        else:\n",
    "            self.trainX = np.array(self.data['trainX'][:]).astype('float32')\n",
    "        self.trainY = self.data['trainY'][:][0].astype('int8')\n",
    "        self.train_parts = self.data['train_parts'][0].astype('int32')\n",
    "        self.wav_name = [''.join([chr(c[0]) for c in self.data[stp]]) for stp in self.data['wav_name'][0]]\n",
    "        self.valX = None\n",
    "        self.valY = None\n",
    "        self.val_wav_name = None\n",
    "        self.valdomY = None\n",
    "        self.val_parts = None\n",
    "        self.domainY = [n]*self.trainY.shape[0]\n",
    "        ##calculate the normal and abnormal beats count\n",
    "        self.normal = Counter(self.trainY)[0]\n",
    "        self.abnormal = Counter(self.trainY)[1]\n",
    "        self.total = self.normal+self.abnormal\n",
    "        self.normfiles, self.abnormfiles = self.parts() \n",
    "        \n",
    "        if(f[:3]=='com'):self.processCompare(severe) ### select severe files only\n",
    "        else:\n",
    "            self.trainY[self.trainY<0] = 0   \n",
    "        if('fold_e' in f):self.processE()\n",
    "        if(shuffle is not None):self.shuffle_data(shuffle)\n",
    "        if(split>0):self.split_data(split)\n",
    "        if(normalize):self.normalize_data()\n",
    "        if(False):self.cutoff()\n",
    "    def shuffle_data(self,seed=0):\n",
    "        ## The shuffle parameter is None in init(). but if provided and int value it will be\n",
    "        ## used as the random seed\n",
    "        if(self.trainX is not None):\n",
    "            xx = self.trainX.copy()\n",
    "            yy = self.trainY.copy()\n",
    "            pr = [x for x in range(len(self.train_parts))]\n",
    "            random.Random(seed).shuffle(pr)\n",
    "            s = 0\n",
    "            for i,x in enumerate(pr):\n",
    "                if(self.seg):\n",
    "                    for k in self.segments:\n",
    "                        xx[k][:,s:s+self.train_parts[x]] = self.trainX[k][:,sum(self.train_parts[:x]):sum(self.train_parts[:x])+self.train_parts[x]]\n",
    "                else:\n",
    "                    xx[:,s:s+self.train_parts[x]] = self.trainX[:,sum(self.train_parts[:x]):sum(self.train_parts[:x])+self.train_parts[x]]\n",
    "                yy[s:s+self.train_parts[x]] = self.trainY[sum(self.train_parts[:x]):sum(self.train_parts[:x])+self.train_parts[x]]\n",
    "                s = s+self.train_parts[x]\n",
    "            self.train_parts = self.train_parts[pr]\n",
    "            self.wav_name = [self.wav_name[pr[x]] for x in range(len(self.wav_name))]\n",
    "        if(self.valX is not None):\n",
    "            xx = self.valX.copy()\n",
    "            yy = self.valY.copy()\n",
    "            pr = [x for x in range(len(self.val_parts))]\n",
    "            random.Random(seed).shuffle(pr)\n",
    "            s = 0\n",
    "            for i,x in enumerate(pr):\n",
    "                if(self.seg):\n",
    "                    xx[k][:,s:s+self.train_parts[x]] = self.valX[k][:,sum(self.train_parts[:x]):sum(self.train_parts[:x])+self.train_parts[x]]\n",
    "                else:\n",
    "                    xx[:,s:s+self.train_parts[x]] = self.valX[:,sum(self.train_parts[:x]):sum(self.train_parts[:x])+self.train_parts[x]]\n",
    "                yy[s:s+self.train_parts[x]] = self.valY[sum(self.train_parts[:x]):sum(self.train_parts[:x])+self.train_parts[x]]\n",
    "                s = s+self.train_parts[x]\n",
    "            self.train_parts = self.val_parts[pr]\n",
    "            self.val_wav_name = [self.val_wav_name[pr[x]] for x in range(len(self.val_wav_name))]\n",
    "    def normalize_data(self):\n",
    "        self.trainX = np.array([x/(max(abs(x)+10e-6)) for x in self.trainX.transpose()]).transpose()\n",
    "    def cutoff(self):\n",
    "        self.trainX = np.array([self.cut(x)  for x in self.trainX.transpose()]).transpose()\n",
    "    def cut(self,x):\n",
    "        mean = np.mean(x)\n",
    "        std = np.std(x)\n",
    "        x[x>(mean+std*2)] = (mean+std*2)\n",
    "        x[x<(mean-std*2)] = (mean-std*2)\n",
    "        return x\n",
    "    def split_data(self,split):\n",
    "        if(self.file[:3]=='com'):\n",
    "            self.valX = self.data['valX'][:]\n",
    "            self.valY = self.data['valY'][:][0]\n",
    "            self.valY[self.valY>0] = 1\n",
    "            self.val_parts = self.data['val_parts'][0].astype('int32')\n",
    "            self.valdomY = [self.dom]*self.valY.shape[0]\n",
    "            return\n",
    "        taken = 0\n",
    "        left = 0\n",
    "        tmpX = None\n",
    "        tmpY = None\n",
    "        parts = []\n",
    "        wav_name = []\n",
    "        self.val_wav_name = []\n",
    "        \n",
    "        self.val_parts = []\n",
    "        for j,x in enumerate(self.train_parts):\n",
    "            if(taken<split*self.total):\n",
    "                taken = taken + x\n",
    "                if(self.valX is None):\n",
    "                    if(self.seg):\n",
    "                        self.valX = {k:self.trainX[k][:,left:x+left] for k in self.segments}\n",
    "                    else:\n",
    "                        self.valX = self.trainX[:,left:x+left]\n",
    "                    self.valY = self.trainY[left:x+left]\n",
    "                else:\n",
    "                    if(self.seg):\n",
    "                        self.valX = {k:np.concatenate((self.valX[k],self.trainX[k][:,left:x+left]),axis=1) for k in self.segments}\n",
    "                    else:\n",
    "                        self.valX = np.concatenate((self.valX,self.trainX[:,left:x+left]),axis=1)\n",
    "                    self.valY = np.concatenate((self.valY,self.trainY[left:x+left]),axis=0)\n",
    "                self.val_parts.append(x)\n",
    "                self.val_wav_name.append(self.wav_name[j])\n",
    "            else:\n",
    "                if(tmpX is None):\n",
    "                    if(self.seg):\n",
    "                        tmpX = {k:self.trainX[k][:,left:x+left] for k in self.segments}\n",
    "                    else:\n",
    "                        tmpX = self.trainX[:,left:x+left]\n",
    "                    tmpY = self.trainY[left:x+left]\n",
    "                else:\n",
    "                    if(self.seg):\n",
    "                        tmpX = {k:np.concatenate((tmpX[k],self.trainX[k][:,left:x+left]),axis=1) for k in self.segments}\n",
    "                    else:\n",
    "                        tmpX = np.concatenate((tmpX,self.trainX[:,left:x+left]),axis=1)\n",
    "                    tmpY = np.concatenate((tmpY,self.trainY[left:x+left]),axis=0)\n",
    "                parts.append(x)\n",
    "                wav_name.append(self.wav_name[j])\n",
    "            left = left + x\n",
    "        self.trainX = tmpX\n",
    "        self.trainY = tmpY\n",
    "        self.train_parts = parts\n",
    "        self.wav_name = wav_name\n",
    "        self.domainY = [self.dom]*self.trainY.shape[0]\n",
    "        self.valdomY = [self.dom]*self.valY.shape[0]\n",
    "        del tmpX,tmpY,parts\n",
    "    def processCompare(self,severe):\n",
    "        if(severe):\n",
    "            print(\"fixed implementation, normal = 0, mild = 1, sever = 2. mild is being selected\")\n",
    "            self.sevX = None\n",
    "            self.sevY = self.trainY[self.trainY%2==0]\n",
    "            self.sev_parts = []\n",
    "            self.sev_wav_name = []\n",
    "            left = int(0)\n",
    "            for j,x in enumerate(self.train_parts):\n",
    "                x = int(x)\n",
    "                if(all([i%2==0 for i in self.trainY[left:x+left]])):\n",
    "                    if(self.sevX is None):\n",
    "                        self.sevX = self.trainX[:,left:x+left]\n",
    "                    else: \n",
    "                        self.sevX = np.concatenate((self.sevX,self.trainX[:,left:x+left]),axis=1)\n",
    "                    self.sev_parts.append(x)\n",
    "                    self.sev_wav_name.append(self.wav_name[j])\n",
    "                left = x + left\n",
    "                \n",
    "            self.trainX = self.sevX\n",
    "            self.trainY = self.sevY\n",
    "            self.train_parts = self.sev_parts\n",
    "            self.domainY = [self.dom]*self.trainY.shape[0]\n",
    "            self.normal = Counter(self.trainY)[0]\n",
    "            self.abnormal = Counter(self.trainY)[1]\n",
    "            self.total = self.normal+self.abnormal\n",
    "            self.normfiles, self.abnormfiles = self.parts()\n",
    "        else:\n",
    "            self.trainY[self.trainY>0] = 1\n",
    "    def processE(self):\n",
    "        self.trainY[self.trainY<0] = 0\n",
    "        nn = ab = 0\n",
    "        idx = []\n",
    "        left = 0\n",
    "        parts = []\n",
    "        wav_name = []\n",
    "        for j,x in enumerate(self.train_parts):\n",
    "            if(all([(l == 0) for l in self.trainY[left:left+x]])):\n",
    "                if(nn<self.abnormal):\n",
    "                    idx = idx + [True]*x\n",
    "                    nn = nn + x\n",
    "                    parts.append(x)\n",
    "                    wav_name.append(self.wav_name[j])\n",
    "                else:idx = idx + [False]*x\n",
    "            else:\n",
    "                if(ab<self.abnormal):\n",
    "                    idx = idx + [True]*x\n",
    "                    ab = ab + x\n",
    "                    parts.append(x)\n",
    "                    wav_name.append(self.wav_name[j])\n",
    "                else:idx = idx + [False]*x\n",
    "            left = left + x\n",
    "        self.trainY = self.trainY[idx]\n",
    "        self.trainX = np.transpose(np.transpose(self.trainX)[idx])\n",
    "        self.train_parts = parts\n",
    "        self.wav_name = wav_name\n",
    "        self.total = nn+ab\n",
    "        self.domainY = self.domainY[:self.total]\n",
    "    def parts(self):\n",
    "        y = 0\n",
    "        nn = 0\n",
    "        ab = 0\n",
    "        for x in self.train_parts:\n",
    "            if(sum(self.trainY[y:y+int(x)])>0):\n",
    "                ab = ab + 1\n",
    "            else: nn = nn +1 \n",
    "            y = int(x)+y\n",
    "        #print(nn+ab,nn,ab)\n",
    "        return nn,ab\n",
    "    def pie(self):\n",
    "        colors = ['gold','lightskyblue']\n",
    "        explode = (0.07, 0)\n",
    "        size = [self.normal,self.abnormal]\n",
    "        labels = ['N', 'Ab']\n",
    "        plt.pie(size,labels=labels,colors = colors,startangle=140,explode=explode,\n",
    "               shadow=True,autopct=self.value)\n",
    "        plt.title(self.dom)\n",
    "    def value(self,val):\n",
    "        return int(self.total*val/100)\n",
    "    def details(self):\n",
    "        if(self.trainX is  None):print(\"TrainX None/ \",end='')\n",
    "        if(self.trainY is  None):print(\"trainY None/ \",end='')\n",
    "        if(self.domainY is None):print(\"Dom Y/ \",end='')\n",
    "        if(self.train_parts is  None):print(\"train parts/ \")\n",
    "        if(self.valX is None):print(\"valX/ \",end='')\n",
    "        if(self.valY is None) :print(\"valY/ \",end='')\n",
    "        if(self.valdomY is None):print(\"Valdom/ \",end='')\n",
    "        if(self.val_parts is  None):print(\"val parts/ \")"
   ]
  },
  {
   "cell_type": "code",
   "execution_count": null,
   "metadata": {
    "scrolled": true
   },
   "outputs": [],
   "source": []
  },
  {
   "cell_type": "code",
   "execution_count": null,
   "metadata": {},
   "outputs": [],
   "source": []
  },
  {
   "cell_type": "code",
   "execution_count": 74,
   "metadata": {},
   "outputs": [
    {
     "data": {
      "text/plain": [
       "((2500, 14167), (14167,))"
      ]
     },
     "execution_count": 74,
     "metadata": {},
     "output_type": "execute_result"
    }
   ],
   "source": [
    "d.trainX.shape, d.trainY.shape"
   ]
  },
  {
   "cell_type": "code",
   "execution_count": 39,
   "metadata": {
    "scrolled": true
   },
   "outputs": [
    {
     "data": {
      "text/plain": [
       "[<matplotlib.lines.Line2D at 0x7fbfd69c64d0>]"
      ]
     },
     "execution_count": 39,
     "metadata": {},
     "output_type": "execute_result"
    },
    {
     "data": {
      "image/png": "[encoded data removed]",
      "text/plain": [
       "<Figure size 432x288 with 1 Axes>"
      ]
     },
     "metadata": {
      "needs_background": "light"
     },
     "output_type": "display_data"
    }
   ],
   "source": [
    "plt.plot(d.trainX[:,1])\n",
    "plt.plot([x for x in range(2500)],np.mean(d.trainX[:,1])*np.ones(2500))\n",
    "plt.plot([x for x in range(2500)],(np.std(d.trainX[:,1])+np.mean(d.trainX[:,1]))*np.ones(2500))\n",
    "plt.plot([x for x in range(2500)],(-np.std(d.trainX[:,1])+np.mean(d.trainX[:,1]))*np.ones(2500))"
   ]
  },
  {
   "cell_type": "code",
   "execution_count": 42,
   "metadata": {},
   "outputs": [],
   "source": [
    "std = np.std(d.trainX[:,1])\n",
    "mean = np.mean(d.trainX[:,1])\n",
    "x = d.trainX[:,1]"
   ]
  },
  {
   "cell_type": "code",
   "execution_count": 71,
   "metadata": {},
   "outputs": [
    {
     "name": "stdout",
     "output_type": "stream",
     "text": [
      "(2500,)\n"
     ]
    },
    {
     "data": {
      "image/png": "[encoded data removed]",
      "text/plain": [
       "<Figure size 432x288 with 1 Axes>"
      ]
     },
     "metadata": {
      "needs_background": "light"
     },
     "output_type": "display_data"
    }
   ],
   "source": [
    "mean = np.mean(x)\n",
    "std = np.std(x)\n",
    "x[x>(mean+std*2)] = (mean+std*2)\n",
    "x[x<(mean-std*2)] = (mean-std*2)\n"
   ]
  },
  {
   "cell_type": "code",
   "execution_count": null,
   "metadata": {},
   "outputs": [],
   "source": []
  },
  {
   "cell_type": "code",
   "execution_count": null,
   "metadata": {},
   "outputs": [],
   "source": []
  },
  {
   "cell_type": "code",
   "execution_count": null,
   "metadata": {},
   "outputs": [],
   "source": []
  },
  {
   "cell_type": "code",
   "execution_count": null,
   "metadata": {},
   "outputs": [],
   "source": []
  },
  {
   "cell_type": "code",
   "execution_count": null,
   "metadata": {},
   "outputs": [],
   "source": []
  },
  {
   "cell_type": "code",
   "execution_count": null,
   "metadata": {},
   "outputs": [],
   "source": [
    "combinations(dd.train_parts)"
   ]
  },
  {
   "cell_type": "code",
   "execution_count": 13,
   "metadata": {},
   "outputs": [],
   "source": [
    "import os,tables,numpy as np,matplotlib.pyplot as plt,pandas as pd,h5py,json\n",
    "from scipy.io import loadmat\n",
    "from collections import Counter\n",
    "#from  dataholder import Data\n",
    "\n",
    "class DataMerge():\n",
    "    def __init__(self,split = 0):\n",
    "        self.split = split\n",
    "        self.x_train = self.y_train = self.y_domain = self.train_parts = None\n",
    "        self.x_val = self.y_val = self.y_valdom = self.val_parts = None\n",
    "        self.val_wav_name = None\n",
    "        #self.train_normal, self.train_abnormal, self.val_normal, self.val_abnormal = 0\n",
    "        #self.train_total , self.val_total = 0\n",
    "    def merge(self,data,train_test):\n",
    "        if(train_test):\n",
    "            if(self.x_val is None):self.x_val = data.trainX;\n",
    "            elif(data.seg):self.x_val = {k:np.concatenate((self.x_val[k],data.trainX[k]),axis = 1) for k in data.segments}\n",
    "            else:self.x_val = np.concatenate((self.x_val,data.trainX),axis = 1)\n",
    "                \n",
    "            if(self.y_val is None):self.y_val = data.trainY\n",
    "            else:self.y_val = np.concatenate((self.y_val,data.trainY),axis = 0)\n",
    "                \n",
    "            if(self.y_valdom is None):self.y_valdom = data.domainY\n",
    "            else:self.y_valdom = self.y_valdom+data.domainY\n",
    "            if(self.val_parts is None):\n",
    "                if(data.train_parts is not None):self.val_parts = data.train_parts\n",
    "            else:\n",
    "                if(data.train_parts is not None):\n",
    "                    self.val_parts = np.concatenate((self.val_parts,data.train_parts),axis = 0)\n",
    "                else:\n",
    "                    print(\"Data train parts unavailable\")\n",
    "            if(self.val_wav_name is None):\n",
    "                self.val_wav_name = data.wav_name\n",
    "            else:\n",
    "                self.val_wav_name = self.val_wav_name+data.wav_name\n",
    "            if(self.split>0):        \n",
    "                if(self.x_train is None):self.x_train = data.valX\n",
    "                elif(data.seg):self.x_train = {k:np.concatenate((self.x_train[k],data.valX[k]),axis = 1) for k in data.segments}\n",
    "                else:self.x_train = np.concatenate((self.x_train,data.valX),axis = 1)\n",
    "                    \n",
    "                if(self.y_train is None):self.y_train =  data.valY\n",
    "                else:self.y_train = np.concatenate((self.y_train,data.valY),axis = 0)\n",
    "                if(self.y_domain is None):self.y_domain  =  data.valdomY\n",
    "                else:self.y_domain = self.y_domain+data.valdomY\n",
    "                if(self.train_parts is None):self.train_parts = data.val_parts;\n",
    "                else:\n",
    "                    if(data.val_parts is not None):\n",
    "                        self.train_parts = np.concatenate((self.train_parts,data.val_parts),axis = 0) \n",
    "                    else:\n",
    "                        print(\"Data train parts unavailable\")\n",
    "\n",
    "        else:\n",
    "            \n",
    "            if(self.x_train is None):self.x_train = data.trainX;\n",
    "            elif(self.seg):self.x_train = {k:np.concatenate((self.x_train[k],data.trainX[k]),axis = 1) for k in self.segments}\n",
    "            else:self.x_train = np.concatenate((self.x_train,data.trainX),axis = 1)\n",
    "            if(self.y_train is None):self.y_train = data.trainY;\n",
    "            else:self.y_train = np.concatenate((self.y_train,data.trainY),axis = 0)\n",
    "            if(self.y_domain is None):self.y_domain = data.domainY;\n",
    "            else:self.y_domain = self.y_domain+data.domainY\n",
    "            if(self.train_parts is None):\n",
    "                self.train_parts = data.train_parts;\n",
    "            else:\n",
    "                if(data.train_parts is not None):\n",
    "                    self.train_parts = np.concatenate((self.train_parts,data.train_parts),axis = 0) \n",
    "                else:\n",
    "                    print(\"Data train parts nai Train mergee \")\n",
    "\n",
    "    def showDistribution(self):\n",
    "        self.train_normal = Counter(self.y_train)[0]\n",
    "        self.train_abnormal = Counter(self.y_train)[1]\n",
    "        self.train_total = self.train_normal+self.train_abnormal\n",
    "\n",
    "        self.val_normal = Counter(self.y_val)[0]\n",
    "        self.val_abnormal = Counter(self.y_val)[1]\n",
    "        self.val_total = self.val_normal+self.val_abnormal\n",
    "        print(\"Train normal - \", self.train_normal,\"-\",self.train_abnormal,\" Abnormal\")\n",
    "        print(\"               \", int(100*self.train_normal/self.train_total) , \" - \", int(100*self.train_abnormal/self.train_total), \"%\")\n",
    "        print(\"Test normal - \", self.val_normal,\"-\",self.val_abnormal,\" Abnormal\")\n",
    "        print(\"              \",int(100*self.val_normal/self.val_total) , \" - \", int(100*self.val_abnormal/self.val_total), \"%\")\n",
    "\n",
    "\n",
    "def getData(fold_dir, train_folds, test_folds, split = 0, shuffle = None):\n",
    "    try:\n",
    "        with open('../data/domain_filename.json', 'r') as fp:\n",
    "            foldname = json.load(fp)\n",
    "    except:\n",
    "        raise FileNotFoundError(\"The json file in Data folder of the repository, that maps domain character to filename is not here\")\n",
    "\n",
    "    allData = DataMerge(split)\n",
    "    for c in test_folds:\n",
    "        allData.merge(Data(fold_dir,foldname[c],c,severe = False,split=split,shuffle=shuffle),True)\n",
    "    for c in train_folds:\n",
    "        allData.merge(Data(fold_dir,foldname[c],c,shuffle=shuffle),False)\n",
    "    allData.showDistribution()\n",
    "    return allData.x_train, allData.y_train, allData.y_domain, allData.train_parts,allData.x_val,allData.y_val,allData.y_valdom,allData.val_parts,allData.val_wav_name\n",
    "\n",
    "\n",
    "def reshape_folds(x, y):\n",
    "    x_train = []\n",
    "    for x1 in x:\n",
    "        if(isinstance(x1,dict)):\n",
    "            xD = {}\n",
    "            for k in x1.keys():\n",
    "                xd = np.transpose(x1[k][:, :])\n",
    "                xd = np.reshape(xd, [xd.shape[0], xd.shape[1], 1])\n",
    "                xD[k] = xd\n",
    "                print(\"reshaped x_dict \", xd.shape)\n",
    "            x_train.append(xD)\n",
    "        else:\n",
    "            x1 = np.transpose(x1[:, :])\n",
    "            x1 = np.reshape(x1, [x1.shape[0], x1.shape[1], 1])\n",
    "            x_train.append(x1)\n",
    "            print(\"reshaped x \", x1.shape)\n",
    "    y_train = []\n",
    "    for y1 in y:\n",
    "        y1 = np.reshape(y1, [y1.shape[0], 1])\n",
    "        y_train.append(y1)\n",
    "        print(\"reshaped Y \", y1.shape)\n",
    "\n",
    "    return x_train,y_train\n",
    "\n"
   ]
  },
  {
   "cell_type": "code",
   "execution_count": 12,
   "metadata": {},
   "outputs": [
    {
     "name": "stdout",
     "output_type": "stream",
     "text": [
      "../../feature/potes_1DCNN/balancedCV/folds/individual_fold_4_segments/\n",
      "Train normal -  934 - 2257  Abnormal\n",
      "                29  -  70 %\n",
      "Test normal -  3480 - 8321  Abnormal\n",
      "               29  -  70 %\n"
     ]
    }
   ],
   "source": [
    "hm = getData(fold_dir,'','a',split=0.3)"
   ]
  },
  {
   "cell_type": "code",
   "execution_count": 20,
   "metadata": {},
   "outputs": [
    {
     "name": "stdout",
     "output_type": "stream",
     "text": [
      "testc i\n",
      "HMM\n",
      "train  a\n",
      "train  b\n",
      "train  c\n",
      "train  d\n",
      "train  e\n",
      "train  f\n",
      "train  g\n",
      "train  h\n"
     ]
    }
   ],
   "source": [
    "u,i,o,p,uu,ii,oo,pp = getData(fold_dir,'abcdefgh','i',split = 0.0)"
   ]
  },
  {
   "cell_type": "code",
   "execution_count": 130,
   "metadata": {},
   "outputs": [
    {
     "data": {
      "text/plain": [
       "((2500, 20275), (2500, 4159))"
      ]
     },
     "execution_count": 130,
     "metadata": {},
     "output_type": "execute_result"
    }
   ],
   "source": [
    "u.shape, uu.shape"
   ]
  },
  {
   "cell_type": "code",
   "execution_count": 133,
   "metadata": {},
   "outputs": [
    {
     "data": {
      "text/plain": [
       "((2500, 19734), (2500, 4700))"
      ]
     },
     "execution_count": 133,
     "metadata": {},
     "output_type": "execute_result"
    }
   ],
   "source": [
    "u.shape, uu.shape"
   ]
  },
  {
   "cell_type": "code",
   "execution_count": 15,
   "metadata": {},
   "outputs": [],
   "source": [
    "fails = ['fold_a.mat',\n",
    " 'fold_b.mat',\n",
    " 'fold_c.mat',\n",
    " 'fold_d.mat',\n",
    " 'fold_e.mat',\n",
    " 'fold_f.mat',\n",
    " 'pascalA.mat',\n",
    " 'pascalB.mat',\n",
    " 'compare.mat']"
   ]
  },
  {
   "cell_type": "code",
   "execution_count": 18,
   "metadata": {},
   "outputs": [
    {
     "name": "stdout",
     "output_type": "stream",
     "text": [
      "fold_a.mat\n",
      "valX/ valY/ Valdom/ val parts/ \n",
      "<class 'numpy.ndarray'> <class 'numpy.ndarray'> <class 'list'> <class 'numpy.ndarray'>\n",
      "fold_b.mat\n",
      "valX/ valY/ Valdom/ val parts/ \n",
      "<class 'numpy.ndarray'> <class 'numpy.ndarray'> <class 'list'> <class 'numpy.ndarray'>\n",
      "fold_c.mat\n",
      "valX/ valY/ Valdom/ val parts/ \n",
      "<class 'numpy.ndarray'> <class 'numpy.ndarray'> <class 'list'> <class 'numpy.ndarray'>\n",
      "fold_d.mat\n",
      "valX/ valY/ Valdom/ val parts/ \n",
      "<class 'numpy.ndarray'> <class 'numpy.ndarray'> <class 'list'> <class 'numpy.ndarray'>\n",
      "fold_e.mat\n",
      "valX/ valY/ Valdom/ val parts/ \n",
      "<class 'numpy.ndarray'> <class 'numpy.ndarray'> <class 'list'> <class 'list'>\n",
      "fold_f.mat\n",
      "valX/ valY/ Valdom/ val parts/ \n",
      "<class 'numpy.ndarray'> <class 'numpy.ndarray'> <class 'list'> <class 'numpy.ndarray'>\n",
      "pascalA.mat\n",
      "valX/ valY/ Valdom/ val parts/ \n",
      "<class 'numpy.ndarray'> <class 'numpy.ndarray'> <class 'list'> <class 'numpy.ndarray'>\n",
      "pascalB.mat\n",
      "valX/ valY/ Valdom/ val parts/ \n",
      "<class 'numpy.ndarray'> <class 'numpy.ndarray'> <class 'list'> <class 'numpy.ndarray'>\n",
      "compare.mat\n",
      "valX/ valY/ Valdom/ val parts/ \n",
      "<class 'numpy.ndarray'> <class 'numpy.ndarray'> <class 'list'> <class 'numpy.ndarray'>\n"
     ]
    }
   ],
   "source": [
    "for (x,n) in zip(fails,'abcdefghi'):\n",
    "    d = Data(fold_dir,x,n,split=0.0)\n",
    "    print(x)\n",
    "    d.details()\n",
    "    d.types()"
   ]
  },
  {
   "cell_type": "code",
   "execution_count": 98,
   "metadata": {},
   "outputs": [
    {
     "data": {
      "text/plain": [
       "True"
      ]
     },
     "execution_count": 98,
     "metadata": {},
     "output_type": "execute_result"
    }
   ],
   "source": [
    "ww = [2,2,2,2]\n",
    "all([x==2 for x in ww])"
   ]
  },
  {
   "cell_type": "code",
   "execution_count": 101,
   "metadata": {},
   "outputs": [
    {
     "data": {
      "text/plain": [
       "True"
      ]
     },
     "execution_count": 101,
     "metadata": {},
     "output_type": "execute_result"
    }
   ],
   "source": [
    "'fold_e' in \"fold_e_dfasfd\""
   ]
  },
  {
   "cell_type": "code",
   "execution_count": null,
   "metadata": {},
   "outputs": [],
   "source": []
  }
 ],
 "metadata": {
  "kernelspec": {
   "display_name": "Python 3",
   "language": "python",
   "name": "python3"
  },
  "language_info": {
   "codemirror_mode": {
    "name": "ipython",
    "version": 3
   },
   "file_extension": ".py",
   "mimetype": "text/x-python",
   "name": "python",
   "nbconvert_exporter": "python",
   "pygments_lexer": "ipython3",
   "version": "3.7.4"
  }
 },
 "nbformat": 4,
 "nbformat_minor": 2
}
