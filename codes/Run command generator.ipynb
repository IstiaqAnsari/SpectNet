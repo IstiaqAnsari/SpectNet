{
 "cells": [
  {
   "cell_type": "code",
   "execution_count": 83,
   "metadata": {
    "collapsed": true
   },
   "outputs": [
    {
     "data": {
      "text/plain": [
       "'.ArgumentParser(description=\\'Specify fold to process\\')\\n        parser.add_argument(\"test_domains\",\\n                            help=\"which fold to use from balanced folds generated in /media/taufiq/Data/\"\\n                                 \"heart_sound/feature/potes_1DCNN/balancedCV/folds/\")\\n        parser.add_argument(\"--train_domains\",\\n                            help = \"trainer domain \")\\n        parser.add_argument(\"--tune\", type=float,\\n                            help=\"Tuner or data split test_split\")\\n        parser.add_argument(\"--dann\",type=float,\\n                            help = \"if given dann is activated else zero\")\\n        parser.add_argument(\"--seed\", type=int,\\n                            help=\"Random seed for the random number generator (defaults to 1)\")\\n        parser.add_argument(\"--loadmodel\",\\n                            help=\"load previous model checkpoint for retraining (Enter absolute path)\")\\n        parser.add_argument(\"--epochs\", type=int,\\n                            help=\"Number of epochs for training\")\\n        parser.add_argument(\"--batch_size\", type=int,\\n                            help=\"number of minibatches to take during each backwardpass preferably multiple of 2\")\\n        parser.add_argument(\"--verbose\", type=int, choices=[1, 2],\\n                            help=\"Verbosity mode. 1 = progress bar, 2 = one line per epoch (default 2)\")\\n        parser.add_argument(\"--classweights\", type=bool,\\n                            help=\"if True, class weights are added according to the ratio of the \"\\n                                 \"two classes present in the training data\")\\n        parser.add_argument(\"--comment\",\\n                            help = \"Add comments to the log files\")\\n        parser.add_argument(\"--optim\",\\n                            help = \"Add comments to the log files\")\\n        parser.add_argument(\"--type\", type=int)\\n        parser.add_argument(\"--lr\", type=float)\\n        parser.add_argument(\"--eval\",type=bool)\\n        parser.add_argument(\"--att\",type=bool)\\n        parser.add_argument(\"--reduce\",type=float,\\n                            help = \"percentage of training data to be thrown away\")\\n        parser.add_argument(\"--fixed\", type=bool,\\n                            help = \"If true reverse layer parameter lambda doesn\\'t run the scheduler. it stays constant\")\\n        parser.add_argument(\"--self\",type=bool, help = \"If true model train and tests on same data with split\")\\n        parser.add_argument(\"--balanced\",type=bool, help = \"If true model trains with BalancedAudioDataGenerator\")\\n        parser.add_argument(\"--segment\", type=int, help = \"0 = old dataset, 1 = 2500 samples, 2 = repeated beats\")\\n        parser.add_argument(\"--shuffle\", t\\n        '"
      ]
     },
     "execution_count": 83,
     "metadata": {},
     "output_type": "execute_result"
    }
   ],
   "source": [
    "ArgumentParser(description='Specify fold to process')\n",
    "        parser.add_argument(\"test_domains\",\n",
    "                            help=\"which fold to use from balanced folds generated in /media/taufiq/Data/\"\n",
    "                                 \"heart_sound/feature/potes_1DCNN/balancedCV/folds/\")\n",
    "        parser.add_argument(\"--train_domains\",\n",
    "                            help = \"trainer domain \")\n",
    "        parser.add_argument(\"--tune\", type=float,\n",
    "                            help=\"Tuner or data split test_split\")\n",
    "        parser.add_argument(\"--dann\",type=float,\n",
    "                            help = \"if given dann is activated else zero\")\n",
    "        parser.add_argument(\"--seed\", type=int,\n",
    "                            help=\"Random seed for the random number generator (defaults to 1)\")\n",
    "        parser.add_argument(\"--loadmodel\",\n",
    "                            help=\"load previous model checkpoint for retraining (Enter absolute path)\")\n",
    "        parser.add_argument(\"--epochs\", type=int,\n",
    "                            help=\"Number of epochs for training\")\n",
    "        parser.add_argument(\"--batch_size\", type=int,\n",
    "                            help=\"number of minibatches to take during each backwardpass preferably multiple of 2\")\n",
    "        parser.add_argument(\"--verbose\", type=int, choices=[1, 2],\n",
    "                            help=\"Verbosity mode. 1 = progress bar, 2 = one line per epoch (default 2)\")\n",
    "        parser.add_argument(\"--classweights\", type=bool,\n",
    "                            help=\"if True, class weights are added according to the ratio of the \"\n",
    "                                 \"two classes present in the training data\")\n",
    "        parser.add_argument(\"--comment\",\n",
    "                            help = \"Add comments to the log files\")\n",
    "        parser.add_argument(\"--optim\",\n",
    "                            help = \"Add comments to the log files\")\n",
    "        parser.add_argument(\"--type\", type=int)\n",
    "        parser.add_argument(\"--lr\", type=float)\n",
    "        parser.add_argument(\"--eval\",type=bool)\n",
    "        parser.add_argument(\"--att\",type=bool)\n",
    "        parser.add_argument(\"--reduce\",type=float,\n",
    "                            help = \"percentage of training data to be thrown away\")\n",
    "        parser.add_argument(\"--fixed\", type=bool,\n",
    "                            help = \"If true reverse layer parameter lambda doesn't run the scheduler. it stays constant\")\n",
    "        parser.add_argument(\"--self\",type=bool, help = \"If true model train and tests on same data with split\")\n",
    "        parser.add_argument(\"--balanced\",type=bool, help = \"If true model trains with BalancedAudioDataGenerator\")\n",
    "        parser.add_argument(\"--segment\", type=int, help = \"0 = old dataset, 1 = 2500 samples, 2 = repeated beats\")\n",
    "        parser.add_argument(\"--shuffle\", t"
   ]
  },
  {
   "cell_type": "code",
   "execution_count": 13,
   "metadata": {},
   "outputs": [],
   "source": [
    "test_domains = 'a'\n",
    "train_domains = None\n",
    "tune = None\n",
    "dann = 0\n",
    "epochs = 400\n",
    "batch_size = [800,400,200,800,400,200]\n",
    "optim = ['Adam','Adam','Adam','SGD','SGD','SGD']\n",
    "lr = 0.001\n",
    "self = True\n",
    "segment = 2\n",
    "shuffle = 1\n",
    "wow = [test_domains,train_domains,tune,dann,epochs,batch_size,optim,lr,self,segment,shuffle]\n",
    "key = ['','--train_domains ','--tune ','--dann ', '--epochs ','--batch_size ','--optim ','--lr ','--self ','--segment ','--shuffle ']\n",
    "n = max([len(x) for x in wow if isinstance(x,list)])"
   ]
  },
  {
   "cell_type": "code",
   "execution_count": 12,
   "metadata": {},
   "outputs": [
    {
     "name": "stdout",
     "output_type": "stream",
     "text": [
      "python trainer.py a --epochs 400 --batch_size 800 --optim Adam --lr 0.01 --self True --segment 0 --shuffle 1 ;                   python trainer.py a --epochs 400 --batch_size 400 --optim Adam --lr 0.01 --self True --segment 0 --shuffle 1 ;                   python trainer.py a --epochs 400 --batch_size 200 --optim Adam --lr 0.01 --self True --segment 0 --shuffle 1 ;                   python trainer.py a --epochs 400 --batch_size 800 --optim SGD --lr 0.01 --self True --segment 0 --shuffle 1 ;                   python trainer.py a --epochs 400 --batch_size 400 --optim SGD --lr 0.01 --self True --segment 0 --shuffle 1 ;                   python trainer.py a --epochs 400 --batch_size 200 --optim SGD --lr 0.01 --self True --segment 0 --shuffle 1 ;                   python trainer.py a --epochs 400 --batch_size 800 --optim Adam --lr 0.01 --self True --segment 0 --shuffle 1 ;                   python trainer.py a --epochs 400 --batch_size 400 --optim Adam --lr 0.01 --self True --segment 0 --shuffle 1 ;                   python trainer.py a --epochs 400 --batch_size 200 --optim Adam --lr 0.01 --self True --segment 0 --shuffle 1 ;                   python trainer.py a --epochs 400 --batch_size 800 --optim SGD --lr 0.01 --self True --segment 0 --shuffle 1 ;                   python trainer.py a --epochs 400 --batch_size 400 --optim SGD --lr 0.01 --self True --segment 0 --shuffle 1 ;                   python trainer.py a --epochs 400 --batch_size 200 --optim SGD --lr 0.01 --self True --segment 0 --shuffle 1 ;                   "
     ]
    }
   ],
   "source": [
    "getCommands(n)\n",
    "lr = 0.01\n",
    "getCommands(n)"
   ]
  },
  {
   "cell_type": "code",
   "execution_count": 14,
   "metadata": {},
   "outputs": [
    {
     "name": "stdout",
     "output_type": "stream",
     "text": [
      "python trainer.py a --epochs 400 --batch_size 800 --optim Adam --lr 0.001 --self True --segment 2 --shuffle 1 ;                   python trainer.py a --epochs 400 --batch_size 400 --optim Adam --lr 0.001 --self True --segment 2 --shuffle 1 ;                   python trainer.py a --epochs 400 --batch_size 200 --optim Adam --lr 0.001 --self True --segment 2 --shuffle 1 ;                   python trainer.py a --epochs 400 --batch_size 800 --optim SGD --lr 0.001 --self True --segment 2 --shuffle 1 ;                   python trainer.py a --epochs 400 --batch_size 400 --optim SGD --lr 0.001 --self True --segment 2 --shuffle 1 ;                   python trainer.py a --epochs 400 --batch_size 200 --optim SGD --lr 0.001 --self True --segment 2 --shuffle 1 ;                   python trainer.py a --epochs 400 --batch_size 800 --optim Adam --lr 0.01 --self True --segment 2 --shuffle 1 ;                   python trainer.py a --epochs 400 --batch_size 400 --optim Adam --lr 0.01 --self True --segment 2 --shuffle 1 ;                   python trainer.py a --epochs 400 --batch_size 200 --optim Adam --lr 0.01 --self True --segment 2 --shuffle 1 ;                   python trainer.py a --epochs 400 --batch_size 800 --optim SGD --lr 0.01 --self True --segment 2 --shuffle 1 ;                   python trainer.py a --epochs 400 --batch_size 400 --optim SGD --lr 0.01 --self True --segment 2 --shuffle 1 ;                   python trainer.py a --epochs 400 --batch_size 200 --optim SGD --lr 0.01 --self True --segment 2 --shuffle 1 ;                   "
     ]
    }
   ],
   "source": [
    "getCommands(n)\n",
    "lr = 0.01\n",
    "getCommands(n)"
   ]
  },
  {
   "cell_type": "code",
   "execution_count": 8,
   "metadata": {},
   "outputs": [],
   "source": [
    "def getCommands(n):\n",
    "    wow = [test_domains,train_domains,tune,dann,epochs,batch_size,optim,lr,self,segment,shuffle]\n",
    "    for i in range(n):\n",
    "        com = 'python trainer.py '\n",
    "        for x,k in zip(wow,key):\n",
    "            if(isinstance(x,list)):\n",
    "                if(len(x)!=n):\n",
    "                    raise ValueError(\"Please give enough arguments for all command in \", x)\n",
    "                else:\n",
    "                    if((k == '--shuffle 'or k=='--segment ') or not(x[i] is None or x[i] is 0 or (isinstance(x[i],str) and len(x[i])==0))):\n",
    "                        com = com + k + str(x[i]) + ' '\n",
    "            else:\n",
    "                if ((k == '--shuffle 'or k=='--segment ') or not(x is None or x is 0 or (isinstance(x,str) and len(x)==0))):\n",
    "                    com = com + k + str(x) + ' '\n",
    "        com = com + ';'\n",
    "        print(com,end='                   ')\n",
    "        #print(com,end='')"
   ]
  },
  {
   "cell_type": "code",
   "execution_count": null,
   "metadata": {},
   "outputs": [],
   "source": []
  },
  {
   "cell_type": "code",
   "execution_count": null,
   "metadata": {},
   "outputs": [],
   "source": [
    "python trainer.py a --lr 0.001  --optim Adam --batch_size 400 --epoch 401 --self True --segment 1 --shuffle 0;"
   ]
  },
  {
   "cell_type": "code",
   "execution_count": 130,
   "metadata": {},
   "outputs": [
    {
     "data": {
      "text/plain": [
       "True"
      ]
     },
     "execution_count": 130,
     "metadata": {},
     "output_type": "execute_result"
    }
   ],
   "source": [
    "k = '--shuffle '\n",
    "(k == '--shuffle ')"
   ]
  },
  {
   "cell_type": "code",
   "execution_count": null,
   "metadata": {},
   "outputs": [],
   "source": [
    "python trainer.py a --epochs 400 --batch_size 400 --optim Adam --lr 0.001 --self True --segment 2 --shuffle 0 ;\n",
    "python trainer.py a --epochs 400 --batch_size 400 --optim Adam --lr 0.001 --self True --segment 0 --shuffle 0 ;"
   ]
  },
  {
   "cell_type": "code",
   "execution_count": 11,
   "metadata": {},
   "outputs": [
    {
     "data": {
      "text/plain": [
       "2"
      ]
     },
     "execution_count": 11,
     "metadata": {},
     "output_type": "execute_result"
    }
   ],
   "source": [
    "a = [1,2]\n",
    "a[0 if False else 1]"
   ]
  },
  {
   "cell_type": "code",
   "execution_count": null,
   "metadata": {},
   "outputs": [],
   "source": []
  }
 ],
 "metadata": {
  "kernelspec": {
   "display_name": "Python 3",
   "language": "python",
   "name": "python3"
  },
  "language_info": {
   "codemirror_mode": {
    "name": "ipython",
    "version": 3
   },
   "file_extension": ".py",
   "mimetype": "text/x-python",
   "name": "python",
   "nbconvert_exporter": "python",
   "pygments_lexer": "ipython3",
   "version": "3.7.4"
  }
 },
 "nbformat": 4,
 "nbformat_minor": 2
}
