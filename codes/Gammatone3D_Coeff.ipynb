{
 "cells": [
  {
   "cell_type": "code",
   "execution_count": 1,
   "metadata": {},
   "outputs": [],
   "source": [
    "import torch\n",
    "from torch.nn.modules import Module\n",
    "import torch.nn as nn\n",
    "import torch.nn.functional as F\n",
    "from torchsummary import summary\n",
    "from math import floor,ceil\n",
    "import numpy as np, matplotlib.pyplot as plt, pandas as pd, os\n",
    "def plotf(x):\n",
    "    plt.plot(x.cpu().detach().numpy())"
   ]
  },
  {
   "cell_type": "code",
   "execution_count": 2,
   "metadata": {},
   "outputs": [],
   "source": [
    "class MFCC_Gen(nn.Module):\n",
    "    def __init__(self):\n",
    "        super(MFCC_Gen,self).__init__()\n",
    "        self.conv1 = nn.Conv2d(1,64,(81,1),(1,1))\n",
    "    def forward(self,x):\n",
    "        return self.conv1(x)"
   ]
  },
  {
   "cell_type": "code",
   "execution_count": 4,
   "metadata": {},
   "outputs": [
    {
     "name": "stdout",
     "output_type": "stream",
     "text": [
      "----------------------------------------------------------------\n",
      "        Layer (type)               Output Shape         Param #\n",
      "================================================================\n",
      "            Conv2d-1          [-1, 64, 2420, 1]           5,248\n",
      "================================================================\n",
      "Total params: 5,248\n",
      "Trainable params: 5,248\n",
      "Non-trainable params: 0\n",
      "----------------------------------------------------------------\n",
      "Input size (MB): 0.01\n",
      "Forward/backward pass size (MB): 1.18\n",
      "Params size (MB): 0.02\n",
      "Estimated Total Size (MB): 1.21\n",
      "----------------------------------------------------------------\n"
     ]
    }
   ],
   "source": [
    "net = MFCC_Gen()\n",
    "summary(net.cuda(),(1,2500,1))"
   ]
  },
  {
   "cell_type": "code",
   "execution_count": null,
   "metadata": {},
   "outputs": [],
   "source": []
  },
  {
   "cell_type": "code",
   "execution_count": null,
   "metadata": {},
   "outputs": [],
   "source": [
    "from torch.nn.parameter import Parameter\n",
    "from torch.nn.modules.utils import _single\n",
    "class Conv_Gammatone_coeff_3d(Module):\n",
    "\n",
    "    __constants__ = ['stride', 'padding', 'dilation', 'groups', 'bias',\n",
    "                     'padding_mode', 'output_padding', 'in_channels',\n",
    "                     'out_channels', 'kernel_size']\n",
    "\n",
    "    def __init__(self, in_channels, out_channels, kernel_size,fsHz, stride=1,\n",
    "                 padding=0, dilation=1, transposed=False, output_padding=(0,),\n",
    "                 groups=1, bias=False, padding_mode='zeros',fc=None,\n",
    "                 beta_val=100,amp_val=10**4,n_order=4):\n",
    "        super(Conv_Gammatone_coeff, self).__init__()\n",
    "        if in_channels % groups != 0:\n",
    "            raise ValueError('in_channels must be divisible by groups')\n",
    "        if out_channels % groups != 0:\n",
    "            raise ValueError('out_channels must be divisible by groups')\n",
    "        self.in_channels = in_channels\n",
    "        self.out_channels = out_channels\n",
    "        self.filters = out_channels\n",
    "        self.kernel_size = _single(kernel_size)\n",
    "        self.stride = _single(stride)\n",
    "        self.padding = _single(padding)\n",
    "        self.dilation = _single(dilation)\n",
    "        self.transposed = transposed\n",
    "        self.output_padding = output_padding\n",
    "        self.groups = groups\n",
    "        self.padding_mode = padding_mode\n",
    "        self.fsHz = fsHz\n",
    "        if(fc is not None):\n",
    "            if isinstance(fc,tuple):\n",
    "                (minf,maxf)=fc\n",
    "            else:\n",
    "                minf = 0\n",
    "                maxf = fc\n",
    "        else:\n",
    "            minf = 0\n",
    "            maxf = self.fsHz/2\n",
    "        self.fc = (torch.from_numpy(self.mel2hz(np.linspace(self.hz2mel(minf),self.hz2mel(maxf),\n",
    "                            self.filters,dtype=np.float32))).unsqueeze(-1))\n",
    "        \n",
    "        self.beta = (torch.ones((self.filters,1))*beta_val)\n",
    "        \n",
    "        self.amp = (torch.ones((self.filters,1))*amp_val)\n",
    "        \n",
    "        self.n_order = (torch.tensor(n_order,dtype=torch.float))\n",
    "        \n",
    "        self.weight = Parameter(self.impulse_gammatone().unsqueeze(1))\n",
    "        \n",
    "        self.register_parameter('bias', None)\n",
    "    def impulse_gammatone(self):\n",
    "        device = 0\n",
    "#         print(self.amp.get_device())\n",
    "#         print(self.beta.get_device())\n",
    "#         print(self.fc.get_device())\n",
    "#         print(self.n_order.get_device())\n",
    "        \n",
    "        self.t = torch.arange(0,self.kernel_size[0]/self.fsHz,\n",
    "                            1/self.fsHz,dtype = torch.float32).unsqueeze(-1).transpose(1,0)\n",
    "    \n",
    "        self.t = self.t.type(torch.FloatTensor)\n",
    "        self.n_order = self.n_order.type(torch.FloatTensor)\n",
    "#         print(\"device\",self.t.get_device())\n",
    "#         print(self.n_order.get_device())\n",
    "#         print(self.amp.get_device())\n",
    "        power = torch.pow(self.t,self.n_order-1)\n",
    "#         print(\"power \", power.get_device())\n",
    "        power = power.to(device = device)\n",
    "#         print(\"power \", power.get_device())\n",
    "        \n",
    "        at = self.amp.to(device=device)*power\n",
    "        \n",
    "#         print(\"exp\")\n",
    "#         print((-2*torch.tensor(np.pi).to(device)).get_device())\n",
    "#         print(\":/ \"torch.mm(self.beta,self.t.to(device)).get_device())\n",
    "        \n",
    "        exp = torch.exp(-2*torch.tensor(np.pi).to(device)*torch.mm(self.beta.to(device),self.t.to(device)))\n",
    "        cos = torch.cos(2*torch.tensor(np.pi).to(device)*torch.mm(self.fc.to(device),self.t.to(device)))\n",
    "        return at*exp*cos\n",
    "    def forward(self, input):\n",
    "#         gammatone = self.impulse_gammatone().unsqueeze(1)\n",
    "#         if self.padding_mode == 'circular':\n",
    "#             expanded_padding = ((self.padding[0] + 1) // 2, self.padding[0] // 2)\n",
    "#             return F.conv1d(F.pad(input, expanded_padding, mode='circular'),\n",
    "#                             gammatone, self.bias, self.stride,\n",
    "#                             _single(0), self.dilation, self.groups)\n",
    "        return F.conv2d(input, self.weight, self.bias, self.stride,\n",
    "                        self.padding, self.dilation, self.groups)\n",
    "    \n",
    "    \n",
    "#     def reset_parameters(self):\n",
    "#         init.kaiming_uniform_(self.weight, a=math.sqrt(5))\n",
    "#         if self.bias is not None:\n",
    "#             fan_in, _ = init._calculate_fan_in_and_fan_out(self.weight)\n",
    "#             bound = 1 / math.sqrt(fan_in)\n",
    "#             init.uniform_(self.bias, -bound, bound)\n",
    "    def hz2mel(self,hz):\n",
    "        return 2595 * np.log10(1+hz/700.)\n",
    "    def mel2hz(self,mel):\n",
    "        return 700*(10**(mel/2595.0)-1)\n",
    "    def extra_repr(self):\n",
    "        s = ('{in_channels}, {out_channels}, kernel_size={kernel_size}'\n",
    "             ', stride={stride}')\n",
    "        if self.padding != (0,) * len(self.padding):\n",
    "            s += ', padding={padding}'\n",
    "        if self.dilation != (1,) * len(self.dilation):\n",
    "            s += ', dilation={dilation}'\n",
    "        if self.output_padding != (0,) * len(self.output_padding):\n",
    "            s += ', output_padding={output_padding}'\n",
    "        if self.groups != 1:\n",
    "            s += ', groups={groups}'\n",
    "        if self.bias is None:\n",
    "            s += ', bias=False'\n",
    "        return s.format(**self.__dict__)\n",
    "\n",
    "    def __setstate__(self, state):\n",
    "        super(Conv_Gammatone, self).__setstate__(state)\n",
    "        if not hasattr(self, 'padding_mode'):\n",
    "            self.padding_mode = 'zeros'"
   ]
  },
  {
   "cell_type": "code",
   "execution_count": null,
   "metadata": {},
   "outputs": [],
   "source": []
  },
  {
   "cell_type": "code",
   "execution_count": null,
   "metadata": {},
   "outputs": [],
   "source": []
  },
  {
   "cell_type": "code",
   "execution_count": null,
   "metadata": {},
   "outputs": [],
   "source": []
  },
  {
   "cell_type": "code",
   "execution_count": null,
   "metadata": {},
   "outputs": [],
   "source": []
  },
  {
   "cell_type": "code",
   "execution_count": null,
   "metadata": {},
   "outputs": [],
   "source": []
  },
  {
   "cell_type": "code",
   "execution_count": null,
   "metadata": {},
   "outputs": [],
   "source": []
  },
  {
   "cell_type": "code",
   "execution_count": null,
   "metadata": {},
   "outputs": [],
   "source": []
  },
  {
   "cell_type": "code",
   "execution_count": null,
   "metadata": {},
   "outputs": [],
   "source": []
  },
  {
   "cell_type": "code",
   "execution_count": null,
   "metadata": {},
   "outputs": [],
   "source": []
  },
  {
   "cell_type": "code",
   "execution_count": null,
   "metadata": {},
   "outputs": [],
   "source": []
  },
  {
   "cell_type": "code",
   "execution_count": null,
   "metadata": {},
   "outputs": [],
   "source": []
  },
  {
   "cell_type": "code",
   "execution_count": null,
   "metadata": {},
   "outputs": [],
   "source": []
  },
  {
   "cell_type": "code",
   "execution_count": null,
   "metadata": {},
   "outputs": [],
   "source": []
  },
  {
   "cell_type": "code",
   "execution_count": null,
   "metadata": {},
   "outputs": [],
   "source": []
  },
  {
   "cell_type": "code",
   "execution_count": null,
   "metadata": {},
   "outputs": [],
   "source": []
  },
  {
   "cell_type": "code",
   "execution_count": null,
   "metadata": {},
   "outputs": [],
   "source": []
  },
  {
   "cell_type": "code",
   "execution_count": null,
   "metadata": {},
   "outputs": [],
   "source": []
  },
  {
   "cell_type": "code",
   "execution_count": null,
   "metadata": {},
   "outputs": [],
   "source": []
  },
  {
   "cell_type": "code",
   "execution_count": null,
   "metadata": {},
   "outputs": [],
   "source": []
  },
  {
   "cell_type": "code",
   "execution_count": null,
   "metadata": {},
   "outputs": [],
   "source": []
  },
  {
   "cell_type": "code",
   "execution_count": null,
   "metadata": {},
   "outputs": [],
   "source": []
  },
  {
   "cell_type": "code",
   "execution_count": null,
   "metadata": {},
   "outputs": [],
   "source": []
  },
  {
   "cell_type": "code",
   "execution_count": null,
   "metadata": {},
   "outputs": [],
   "source": []
  }
 ],
 "metadata": {
  "kernelspec": {
   "display_name": "Python 3",
   "language": "python",
   "name": "python3"
  },
  "language_info": {
   "codemirror_mode": {
    "name": "ipython",
    "version": 3
   },
   "file_extension": ".py",
   "mimetype": "text/x-python",
   "name": "python",
   "nbconvert_exporter": "python",
   "pygments_lexer": "ipython3",
   "version": "3.6.8"
  }
 },
 "nbformat": 4,
 "nbformat_minor": 2
}
