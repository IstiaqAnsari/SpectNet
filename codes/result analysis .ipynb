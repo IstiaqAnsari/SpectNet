{
 "cells": [
  {
   "cell_type": "code",
   "execution_count": 1,
   "metadata": {},
   "outputs": [],
   "source": [
    "import numpy as np, matplotlib.pyplot as plt, pandas as pd,os"
   ]
  },
  {
   "cell_type": "code",
   "execution_count": 2,
   "metadata": {},
   "outputs": [],
   "source": [
    "log_dir = '../../Adversarial Heart Sound Results/logs/'\n",
    "metrics = ['val_macc','val_F1','val_precision','val_sensitivity','val_specificity']"
   ]
  },
  {
   "cell_type": "code",
   "execution_count": 3,
   "metadata": {},
   "outputs": [],
   "source": [
    "class Results():\n",
    "    def __init__(self,log_name):\n",
    "        self.log_name = log_name \n",
    "        self.df = None\n",
    "        self.dft = None # Tuned result\n",
    "        self.tune = False\n",
    "        self.log_dir = '../../Adversarial Heart Sound Results/logs/'\n",
    "        self.metrics = ['val_macc','val_F1','val_precision','val_sensitivity','val_specificity']\n",
    "        self.read()\n",
    "    def read(self):\n",
    "        os.listdir(self.log_dir)\n",
    "        wow = [x for x in os.listdir(self.log_dir) if self.log_name in x]\n",
    "        how = [x.split(' ')[0] for x in wow]\n",
    "        now = list(set(how))\n",
    "        now.sort()\n",
    "        print(\"Log not tuned \" ,wow[how.index(now[0])])\n",
    "        self.df = pd.read_csv(self.log_dir+wow[how.index(now[0])]+'/training.csv')\n",
    "        self.df.sort_values(by=['val_macc','val_F1'],ascending=False,inplace = True)\n",
    "        self.df = dict(self.df.iloc[0][metrics])\n",
    "        if(len(now)>1):\n",
    "            print(\"Tuned log \",wow[how.index(now[1])])\n",
    "            self.dft = pd.read_csv(self.log_dir+wow[how.index(now[1])]+'/training.csv')\n",
    "            self.dft.sort_values(by=['val_macc','val_F1'],ascending=False,inplace = True)\n",
    "            self.dft = dict(self.dft.iloc[0][metrics])\n",
    "            self.tune = True\n",
    "    def show(self,width = 0.35,figsize=(8,5)):\n",
    "        x = np.arange(len(self.metrics))\n",
    "        fig, ax = plt.subplots(figsize=figsize)\n",
    "        labels = list(self.df.values())\n",
    "        rect1 = ax.bar(x-width/2,labels,width,label='Results')\n",
    "        self.autolabel(rect1,ax)\n",
    "        title = \"Trainer: \" +self.log_name.split('_')[0]+\"\\n Tester: \"+ self.log_name.split('_')[1]\n",
    "        if(self.tune):\n",
    "            labels2 = list(self.dft.values())\n",
    "            rect2 = ax.bar(x+width/2,labels2,width,label='Tuned')\n",
    "            self.autolabel(rect2,ax)\n",
    "            title = title + \"\\nWith Tuning\"\n",
    "        ax.set_ylabel('Scores')\n",
    "        ax.set_xticks(x)\n",
    "        ax.set_title(title)\n",
    "        ax.set_xticklabels(self.metrics)\n",
    "        ax.legend()\n",
    "        fig.tight_layout()\n",
    "        plt.show()\n",
    "        \n",
    "    def autolabel(self,rects,ax):\n",
    "        for rect in rects:\n",
    "            height = rect.get_height()\n",
    "            ax.annotate('{:.2f}'.format(height),\n",
    "                        xy=(rect.get_x() + rect.get_width() / 2, height),\n",
    "                        xytext=(0, 3),  # 3 points vertical offset\n",
    "                        textcoords=\"offset points\",\n",
    "                        ha='center', va='bottom')"
   ]
  },
  {
   "cell_type": "code",
   "execution_count": 28,
   "metadata": {},
   "outputs": [],
   "source": [
    "\"\"\"class to hold single Result\"\"\"\n",
    "class Result():\n",
    "    def __init__(self,log):\n",
    "        self.log_dir = '../../Adversarial Heart Sound Results/logs/'\n",
    "        self.metrics = ['val_macc','val_F1','val_precision','val_sensitivity','val_specificity']\n",
    "        self.log_name = log.split(' ')[0]\n",
    "        self.trainer = self.log_name.split('_')[0]\n",
    "        self.tester = self.log_name.split('_')[1]\n",
    "        self.df = pd.read_csv(self.log_dir+log+'/training.csv')\n",
    "        self.df.sort_values(by=['val_macc','val_F1'],ascending=False,inplace = True)\n",
    "        self.df = dict(self.df.iloc[0][metrics])"
   ]
  },
  {
   "cell_type": "code",
   "execution_count": 29,
   "metadata": {},
   "outputs": [],
   "source": [
    "class ResultsComparison():\n",
    "    def __init__(self,logs):\n",
    "        self.log_dir = '../../Adversarial Heart Sound Results/logs/'\n",
    "        self.metrics = ['val_macc','val_F1','val_precision','val_sensitivity','val_specificity']\n",
    "        self.logs = logs\n",
    "        self.data = []\n",
    "        self.read()\n",
    "    def read(self):\n",
    "        self.data = [Result(l) for l in self.logs]\n",
    "        print(len(self.data))\n",
    "    def show(self,width = 0.35,figsize=(8,5)):\n",
    "        x = np.arange(len(self.metrics))\n",
    "        fig, ax = plt.subplots(figsize=figsize)\n",
    "        plot_number = len(self.data)\n",
    "        \n",
    "        for d in self.data:\n",
    "            labels = list(d.df.values())\n",
    "            rect1 = ax.bar(x-width/plot_number,width,label=d.log_name)\n",
    "            self.autolabel(rect1,ax)\n",
    "        \n",
    "    def autolabel(self,rects,ax):\n",
    "        for rect in rects:\n",
    "            height = rect.get_height()\n",
    "            ax.annotate('{:.2f}'.format(height),\n",
    "                        xy=(rect.get_x() + rect.get_width() / 2, height),\n",
    "                        xytext=(0, 3),  # 3 points vertical offset\n",
    "                        textcoords=\"offset points\",\n",
    "                        ha='center', va='bottom')"
   ]
  },
  {
   "cell_type": "code",
   "execution_count": 35,
   "metadata": {},
   "outputs": [
    {
     "name": "stdout",
     "output_type": "stream",
     "text": [
      "2\n"
     ]
    },
    {
     "data": {
      "text/plain": [
       "{'val_macc': 0.5107655106388924,\n",
       " 'val_F1': 0.6430626244710063,\n",
       " 'val_precision': 0.8384615029881672,\n",
       " 'val_sensitivity': 0.5215310867539666,\n",
       " 'val_specificity': 0.4999999345238181}"
      ]
     },
     "execution_count": 35,
     "metadata": {},
     "output_type": "execute_result"
    }
   ],
   "source": [
    "a = ResultsComparison(['abcdefgh_i_tune_0.3 Tuned 30 2019-09-26 14:24:11.245075','abdfi_c 2019-09-24 12:51:14.116640'])\n",
    "a.data[0].df"
   ]
  },
  {
   "cell_type": "code",
   "execution_count": 15,
   "metadata": {},
   "outputs": [
    {
     "data": {
      "text/plain": [
       "['abcdefgh_i_tune_0.3 Tuned 30 2019-09-26 14:24:11.245075',\n",
       " 'abdfi_c 2019-09-24 12:51:14.116640',\n",
       " 'abdf_c 2019-09-23 13:38:14.925635',\n",
       " 'abdf_c_tune_0.3 Tuned 30 2019-09-25 18:23:15.679809',\n",
       " 'bcdfghi_a 2019-09-24 22:26:47.695625',\n",
       " 'bcdfghi_a asdfasdfasfdasdfds',\n",
       " 'bcdfghi_a_tune_0.3 Tuned 30 2019-09-25 11:46:30.180240',\n",
       " 'bcdfi_a 2019-09-24 18:10:56.540917',\n",
       " 'bcdf_a 2019-09-24 17:02:30.673090',\n",
       " 'dann']"
      ]
     },
     "execution_count": 15,
     "metadata": {},
     "output_type": "execute_result"
    }
   ],
   "source": [
    "#### Show all log names \n",
    "[x.split(' ')[0] for x in os.listdir(log_dir)]"
   ]
  },
  {
   "cell_type": "code",
   "execution_count": null,
   "metadata": {},
   "outputs": [],
   "source": []
  },
  {
   "cell_type": "code",
   "execution_count": 7,
   "metadata": {},
   "outputs": [
    {
     "name": "stdout",
     "output_type": "stream",
     "text": [
      "Log not tuned  bcdfghi_a 2019-09-24 22:26:47.695625\n",
      "Tuned log  bcdfghi_a_tune_0.3 Tuned 30 2019-09-25 11:46:30.180240\n"
     ]
    },
    {
     "data": {
      "image/png": "[encoded data removed]",
      "text/plain": [
       "<Figure size 576x360 with 1 Axes>"
      ]
     },
     "metadata": {
      "needs_background": "light"
     },
     "output_type": "display_data"
    }
   ],
   "source": [
    "res = Results('bcdfghi_a')\n",
    "res.show()"
   ]
  },
  {
   "cell_type": "code",
   "execution_count": 8,
   "metadata": {},
   "outputs": [
    {
     "name": "stdout",
     "output_type": "stream",
     "text": [
      "Log not tuned  abdf_c 2019-09-23 13:38:14.925635\n",
      "Tuned log  abdf_c_tune_0.3 Tuned 30 2019-09-25 18:23:15.679809\n"
     ]
    },
    {
     "data": {
      "image/png": "[encoded data removed]",
      "text/plain": [
       "<Figure size 576x360 with 1 Axes>"
      ]
     },
     "metadata": {
      "needs_background": "light"
     },
     "output_type": "display_data"
    }
   ],
   "source": [
    "res = Results('abdf_c')\n",
    "res.show()"
   ]
  },
  {
   "cell_type": "code",
   "execution_count": null,
   "metadata": {},
   "outputs": [],
   "source": []
  },
  {
   "cell_type": "code",
   "execution_count": 7,
   "metadata": {
    "scrolled": true
   },
   "outputs": [],
   "source": [
    "from tkinter import *\n",
    "from tkinter.filedialog import askopenfilename,askopenfilenames,askdirectory"
   ]
  },
  {
   "cell_type": "code",
   "execution_count": 10,
   "metadata": {},
   "outputs": [
    {
     "name": "stdout",
     "output_type": "stream",
     "text": [
      "/media/mhealthra2/Data/heart_sound/Adversarial Heart Sound Results/logs\n"
     ]
    }
   ],
   "source": [
    "root = Tk()\n",
    "filename = askdirectory(initialdir=log_dir)\n",
    "print(filename)\n",
    "root.destroy()"
   ]
  },
  {
   "cell_type": "code",
   "execution_count": 11,
   "metadata": {},
   "outputs": [
    {
     "name": "stdout",
     "output_type": "stream",
     "text": [
      "Help on function askopenfilenames in module tkinter.filedialog:\n",
      "\n",
      "askopenfilenames(**options)\n",
      "    Ask for multiple filenames to open\n",
      "    \n",
      "    Returns a list of filenames or empty list if\n",
      "    cancel button selected\n",
      "\n"
     ]
    }
   ],
   "source": [
    "help(askopenfilenames)"
   ]
  },
  {
   "cell_type": "code",
   "execution_count": 2,
   "metadata": {},
   "outputs": [
    {
     "name": "stdout",
     "output_type": "stream",
     "text": [
      "\n"
     ]
    }
   ],
   "source": [
    "filename = askopenfilename(initialdir='../')\n",
    "print(filename)"
   ]
  },
  {
   "cell_type": "code",
   "execution_count": 3,
   "metadata": {},
   "outputs": [
    {
     "ename": "NameError",
     "evalue": "name 'root' is not defined",
     "output_type": "error",
     "traceback": [
      "\u001b[0;31m---------------------------------------------------------------------------\u001b[0m",
      "\u001b[0;31mNameError\u001b[0m                                 Traceback (most recent call last)",
      "\u001b[0;32m<ipython-input-3-57a8420065d5>\u001b[0m in \u001b[0;36m<module>\u001b[0;34m\u001b[0m\n\u001b[0;32m----> 1\u001b[0;31m \u001b[0mroot\u001b[0m\u001b[0;34m.\u001b[0m\u001b[0mquit\u001b[0m\u001b[0;34m(\u001b[0m\u001b[0;34m)\u001b[0m\u001b[0;34m\u001b[0m\u001b[0;34m\u001b[0m\u001b[0m\n\u001b[0m",
      "\u001b[0;31mNameError\u001b[0m: name 'root' is not defined"
     ]
    }
   ],
   "source": []
  },
  {
   "cell_type": "code",
   "execution_count": null,
   "metadata": {},
   "outputs": [],
   "source": []
  },
  {
   "cell_type": "code",
   "execution_count": null,
   "metadata": {},
   "outputs": [],
   "source": []
  }
 ],
 "metadata": {
  "kernelspec": {
   "display_name": "Python 3",
   "language": "python",
   "name": "python3"
  },
  "language_info": {
   "codemirror_mode": {
    "name": "ipython",
    "version": 3
   },
   "file_extension": ".py",
   "mimetype": "text/x-python",
   "name": "python",
   "nbconvert_exporter": "python",
   "pygments_lexer": "ipython3",
   "version": "3.7.3"
  }
 },
 "nbformat": 4,
 "nbformat_minor": 2
}
