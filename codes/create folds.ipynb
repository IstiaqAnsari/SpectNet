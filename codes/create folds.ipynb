{
 "cells": [
  {
   "cell_type": "code",
   "execution_count": 1,
   "metadata": {},
   "outputs": [],
   "source": [
    "import matplotlib.pyplot as plt,h5py,numpy as np,random,os\n",
    "from collections import Counter\n",
    "import pandas as pd"
   ]
  },
  {
   "cell_type": "code",
   "execution_count": 2,
   "metadata": {},
   "outputs": [
    {
     "name": "stdout",
     "output_type": "stream",
     "text": [
      "../data/fold_a.mat\n"
     ]
    }
   ],
   "source": [
    "path = \"../data/fold_\"+chr(97 + 0)+\".mat\" \n",
    "print(path)\n",
    "data = h5py.File(path, 'r')"
   ]
  },
  {
   "cell_type": "code",
   "execution_count": 6,
   "metadata": {},
   "outputs": [],
   "source": [
    "train_files = data['train_files'][:].astype('int32').squeeze(0)"
   ]
  },
  {
   "cell_type": "code",
   "execution_count": 3,
   "metadata": {},
   "outputs": [
    {
     "name": "stdout",
     "output_type": "stream",
     "text": [
      "../data/fold_a.mat\n",
      "392 392\n",
      "../data/fold_b.mat\n",
      "368 760\n",
      "../data/fold_c.mat\n",
      "27 787\n",
      "../data/fold_d.mat\n",
      "52 839\n",
      "../data/fold_e.mat\n",
      "1925 2764\n",
      "../data/fold_f.mat\n",
      "107 2871\n"
     ]
    }
   ],
   "source": [
    "column_names = [\"x_train\",\"y_train\",\"train_parts\",\"wav_name\"]\n",
    "alldata = pd.DataFrame(columns = column_names)\n",
    "for i in range(6):\n",
    "    path = \"../data/fold_\"+chr(97 + i)+\".mat\" \n",
    "    print(path)\n",
    "    data = h5py.File(path, 'r')\n",
    "    x_train = data['trainX'][:].astype('float32')\n",
    "    x_train = x_train.transpose()\n",
    "    y_train = data['trainY'][:].astype('int32')\n",
    "    y_train = y_train.transpose()\n",
    "    y_train = y_train[:,0]\n",
    "    y_train[y_train<0] = 0\n",
    "    train_parts = data['train_parts'][:].astype('int32').squeeze(0)\n",
    "    train_files = data['train_files'][:].astype('int32').squeeze(0)\n",
    "    wav_name = [''.join([chr(c[0]) for c in data[stp]]) for stp in data['wav_name'][0]]\n",
    "    segs = []\n",
    "    segsy = []\n",
    "    s = 0\n",
    "    for (i,x) in enumerate(train_parts):\n",
    "        segs.append(x_train[s:s+x])\n",
    "        segsy.append(y_train[s:s+x])\n",
    "        s = s+x\n",
    "    df = pd.DataFrame(zip(segs,segsy,train_parts,wav_name),columns=[\"x_train\",\"y_train\",\"train_parts\",\"wav_name\"])\n",
    "    alldata = alldata.append(df,ignore_index = True)\n",
    "    print(len(df.index),len(alldata.index))\n",
    "    del df\n",
    "    del data\n",
    "    del x_train\n",
    "    del y_train\n",
    "    del wav_name,segs,train_parts, train_files"
   ]
  },
  {
   "cell_type": "code",
   "execution_count": 10,
   "metadata": {},
   "outputs": [
    {
     "name": "stderr",
     "output_type": "stream",
     "text": [
      "/opt/conda/lib/python3.7/site-packages/pandas/core/generic.py:2505: PerformanceWarning: \n",
      "your performance may suffer as PyTables will pickle object types that it cannot\n",
      "map directly to c-types [inferred_type->mixed-integer,key->block0_values] [items->Index(['x_train', 'y_train', 'train_parts', 'wav_name', 'train_files'], dtype='object')]\n",
      "\n",
      "  encoding=encoding,\n"
     ]
    }
   ],
   "source": [
    "alldata.to_hdf('../data/data.h5', key='df', mode='w')"
   ]
  },
  {
   "cell_type": "code",
   "execution_count": 9,
   "metadata": {},
   "outputs": [
    {
     "data": {
      "text/plain": [
       "['train2.txt',\n",
       " 'validation3.txt',\n",
       " 'validation0.txt',\n",
       " 'train3.txt',\n",
       " 'validation2.txt',\n",
       " 'train0.txt',\n",
       " 'validation1.txt',\n",
       " 'train1.txt']"
      ]
     },
     "execution_count": 9,
     "metadata": {},
     "output_type": "execute_result"
    }
   ],
   "source": [
    "os.listdir(\"../data/text\")"
   ]
  },
  {
   "cell_type": "code",
   "execution_count": 73,
   "metadata": {},
   "outputs": [
    {
     "data": {
      "text/plain": [
       "'../data/text/train0.txt'"
      ]
     },
     "execution_count": 73,
     "metadata": {},
     "output_type": "execute_result"
    }
   ],
   "source": [
    "i = 0\n",
    "\"../data/text/train\"+str(i)+\".txt\""
   ]
  },
  {
   "cell_type": "code",
   "execution_count": 4,
   "metadata": {},
   "outputs": [
    {
     "name": "stdout",
     "output_type": "stream",
     "text": [
      "81495 72603 8892\n"
     ]
    }
   ],
   "source": [
    "i = 1\n",
    "f = open((\"../data/text/train\"+str(i)+\".txt\"), \"r\")\n",
    "lines = list(f)\n",
    "f.close()\n",
    "lines1 = [(x[:-1]+\".wav\") for x in lines]\n",
    "f = open(\"../data/text/validation\"+str(i)+\".txt\", \"r\")\n",
    "lines = list(f)\n",
    "f.close()\n",
    "vallines = [(x[:-1]+\".wav\") for x in lines]\n",
    "train0 = alldata.loc[alldata['wav_name'].isin(lines1)]\n",
    "val0 = alldata.loc[alldata['wav_name'].isin(vallines)]\n",
    "print(sum(alldata['train_parts']),sum(train0['train_parts']),sum(val0['train_parts']))\n",
    "\n",
    "x_train = np.concatenate((train0['x_train']).tolist())\n",
    "y_train = np.concatenate((train0['y_train']).tolist())\n",
    "train_parts = np.array(train0['train_parts'])\n",
    "val_parts = np.array(val0['train_parts'])"
   ]
  },
  {
   "cell_type": "code",
   "execution_count": 12,
   "metadata": {},
   "outputs": [],
   "source": [
    "x_train = np.concatenate((train0['x_train']).tolist())"
   ]
  },
  {
   "cell_type": "code",
   "execution_count": 13,
   "metadata": {},
   "outputs": [],
   "source": [
    "y_train = np.concatenate((train0['y_train']).tolist())"
   ]
  },
  {
   "cell_type": "code",
   "execution_count": 18,
   "metadata": {},
   "outputs": [],
   "source": [
    "train_parts = np.array(train0['train_parts'])\n",
    "val_parts = np.array(val0['train_parts'])"
   ]
  },
  {
   "cell_type": "code",
   "execution_count": 23,
   "metadata": {},
   "outputs": [
    {
     "data": {
      "text/plain": [
       "array([36, 26, 24, ..., 41, 16, 27], dtype=object)"
      ]
     },
     "execution_count": 23,
     "metadata": {},
     "output_type": "execute_result"
    }
   ],
   "source": [
    "train_parts"
   ]
  },
  {
   "cell_type": "code",
   "execution_count": 24,
   "metadata": {},
   "outputs": [
    {
     "data": {
      "text/plain": [
       "array([21, 35, 36, 36, 50, 36, 55, 37, 25, 34, 29, 23, 37, 23, 21, 46, 47,\n",
       "       42, 46, 65, 51, 36, 34, 22, 34, 29, 39, 34, 24, 37, 41, 42, 23, 42,\n",
       "       37, 46, 50, 41, 39, 45, 36, 29, 31, 43, 30, 31, 51, 54, 46, 38, 36,\n",
       "       25, 41, 25, 24, 34, 41, 54, 36, 54, 44, 50, 36, 46, 51, 36, 32, 34,\n",
       "       25, 43, 25, 37, 28, 25, 26, 35, 31, 27, 36, 30, 41, 46, 56, 46, 51,\n",
       "       15, 51, 8, 6, 8, 8, 10, 5, 9, 8, 6, 6, 4, 8, 8, 11, 5, 8, 8, 6, 8,\n",
       "       7, 10, 7, 8, 10, 93, 71, 69, 60, 47, 142, 8, 28, 10, 71, 22, 25,\n",
       "       30, 37, 63, 21, 35, 17, 13, 18, 71, 22, 26, 21, 19, 21, 9, 26, 30,\n",
       "       26, 31, 28, 44, 27, 43, 31, 29, 16, 22, 12, 69, 22, 18, 15, 12, 22,\n",
       "       25, 20, 17, 19, 32, 24, 21, 25, 23, 53, 7, 24, 18, 9, 25, 31, 41,\n",
       "       34, 36, 51, 22, 17, 41, 22, 25, 35, 10, 25, 22, 13, 11, 17, 14, 22,\n",
       "       57, 28, 10, 31, 18, 22, 25, 19, 24, 16, 11, 19, 28, 18, 61, 12, 48,\n",
       "       46, 21, 28, 28, 22, 19, 9, 20, 38, 5, 48, 25, 22, 33, 18, 20, 22,\n",
       "       16, 43, 10, 39, 8, 19, 57, 35, 20, 28, 12, 43, 31, 23, 45, 18, 38,\n",
       "       11, 30, 26, 29, 11, 5, 22, 12, 29, 10, 22, 6, 10, 26, 28, 29, 26,\n",
       "       24, 55, 10, 47, 8, 24, 82, 71, 24, 7, 22, 45, 7, 9, 14, 23, 15, 30,\n",
       "       11, 30, 52, 17, 22, 22, 15, 11, 29, 34, 38, 34, 36, 7, 46, 38, 38,\n",
       "       34, 68, 36, 37, 22, 58, 21, 32, 36, 6], dtype=object)"
      ]
     },
     "execution_count": 24,
     "metadata": {},
     "output_type": "execute_result"
    }
   ],
   "source": [
    "val_parts"
   ]
  }
 ],
 "metadata": {
  "environment": {
   "name": "tf2-2-2-gpu.2-2.m48",
   "type": "gcloud",
   "uri": "gcr.io/deeplearning-platform-release/tf2-2-2-gpu.2-2:m48"
  },
  "kernelspec": {
   "display_name": "Python 3",
   "language": "python",
   "name": "python3"
  },
  "language_info": {
   "codemirror_mode": {
    "name": "ipython",
    "version": 3
   },
   "file_extension": ".py",
   "mimetype": "text/x-python",
   "name": "python",
   "nbconvert_exporter": "python",
   "pygments_lexer": "ipython3",
   "version": "3.7.6"
  }
 },
 "nbformat": 4,
 "nbformat_minor": 4
}
