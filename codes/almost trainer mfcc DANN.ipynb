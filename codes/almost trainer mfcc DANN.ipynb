{
 "cells": [
  {
   "cell_type": "code",
   "execution_count": 1,
   "metadata": {},
   "outputs": [
    {
     "name": "stderr",
     "output_type": "stream",
     "text": [
      "Using TensorFlow backend.\n",
      "/home/mhealthra2/anaconda3/envs/torch/lib/python3.7/site-packages/tensorflow/python/framework/dtypes.py:526: FutureWarning: Passing (type, 1) or '1type' as a synonym of type is deprecated; in a future version of numpy, it will be understood as (type, (1,)) / '(1,)type'.\n",
      "  _np_qint8 = np.dtype([(\"qint8\", np.int8, 1)])\n",
      "/home/mhealthra2/anaconda3/envs/torch/lib/python3.7/site-packages/tensorflow/python/framework/dtypes.py:527: FutureWarning: Passing (type, 1) or '1type' as a synonym of type is deprecated; in a future version of numpy, it will be understood as (type, (1,)) / '(1,)type'.\n",
      "  _np_quint8 = np.dtype([(\"quint8\", np.uint8, 1)])\n",
      "/home/mhealthra2/anaconda3/envs/torch/lib/python3.7/site-packages/tensorflow/python/framework/dtypes.py:528: FutureWarning: Passing (type, 1) or '1type' as a synonym of type is deprecated; in a future version of numpy, it will be understood as (type, (1,)) / '(1,)type'.\n",
      "  _np_qint16 = np.dtype([(\"qint16\", np.int16, 1)])\n",
      "/home/mhealthra2/anaconda3/envs/torch/lib/python3.7/site-packages/tensorflow/python/framework/dtypes.py:529: FutureWarning: Passing (type, 1) or '1type' as a synonym of type is deprecated; in a future version of numpy, it will be understood as (type, (1,)) / '(1,)type'.\n",
      "  _np_quint16 = np.dtype([(\"quint16\", np.uint16, 1)])\n",
      "/home/mhealthra2/anaconda3/envs/torch/lib/python3.7/site-packages/tensorflow/python/framework/dtypes.py:530: FutureWarning: Passing (type, 1) or '1type' as a synonym of type is deprecated; in a future version of numpy, it will be understood as (type, (1,)) / '(1,)type'.\n",
      "  _np_qint32 = np.dtype([(\"qint32\", np.int32, 1)])\n",
      "/home/mhealthra2/anaconda3/envs/torch/lib/python3.7/site-packages/tensorflow/python/framework/dtypes.py:535: FutureWarning: Passing (type, 1) or '1type' as a synonym of type is deprecated; in a future version of numpy, it will be understood as (type, (1,)) / '(1,)type'.\n",
      "  np_resource = np.dtype([(\"resource\", np.ubyte, 1)])\n"
     ]
    }
   ],
   "source": [
    "from __future__ import print_function, division, absolute_import\n",
    "# import tensorflow as tf\n",
    "# from keras.backend.tensorflow_backend import set_session\n",
    "# config = tf.ConfigProto()\n",
    "# config.gpu_options.per_process_gpu_memory_fraction = 0.4\n",
    "# set_session(tf.Session(config=config))\n",
    "# from clr_callback import CyclicLR\n",
    "# import dill\n",
    "from BalancedDannAudioDataGenerator import BalancedAudioDataGenerator, AudioDataGenerator\n",
    "import os,time\n",
    "from scipy.io import loadmat\n",
    "import numpy as np\n",
    "np.random.seed(1)\n",
    "import math\n",
    "import pandas as pd\n",
    "import tables,h5py\n",
    "from datetime import datetime\n",
    "import argparse\n",
    "from keras.utils import plot_model\n",
    "# from Heartnet import heartnet,getAttentionModel\n",
    "from collections import Counter\n",
    "# from torchviz import make_dot\n",
    "def to_numpy(x):\n",
    "    return x.cpu().detach().numpy()\n",
    "def plotf(x):\n",
    "    plt.plot(to_numpy(x))"
   ]
  },
  {
   "cell_type": "code",
   "execution_count": 2,
   "metadata": {},
   "outputs": [],
   "source": [
    "# from utils import log_macc, results_log\n",
    "from dataLoader import reshape_folds\n",
    "from sklearn.metrics import confusion_matrix\n",
    "from keras.utils import to_categorical\n",
    "import matplotlib.pyplot as plt\n",
    "# import seaborn as sns\n",
    "# import Evaluator\n",
    "import dataLoader\n",
    "# from custom_layers import Attention\n",
    "from sklearn.model_selection import train_test_split"
   ]
  },
  {
   "cell_type": "code",
   "execution_count": 3,
   "metadata": {},
   "outputs": [],
   "source": [
    "class wow():\n",
    "    def __init__(self):\n",
    "        self.dann = True\n",
    "        self.self = False\n",
    "        self.reduce = None\n",
    "        self.shuffle = 1\n",
    "        self.mfcc = False\n",
    "args = wow()"
   ]
  },
  {
   "cell_type": "code",
   "execution_count": 4,
   "metadata": {},
   "outputs": [
    {
     "name": "stdout",
     "output_type": "stream",
     "text": [
      "Train normal -  60862 - 6466  Abnormal\n",
      "                90  -  9 %\n",
      "Test normal -  4303 - 9864  Abnormal\n",
      "               30  -  69 %\n"
     ]
    }
   ],
   "source": [
    "test_domains = 'a'\n",
    "train_domains = 'bcdef'\n",
    "source_domain = train_domains\n",
    "target_domain = test_domains\n",
    "\n",
    "test_split = 0\n",
    "fold_dir = '../data/all_folds_wav_name/'\n",
    "\n",
    "if(args.self):\n",
    "    print(\"Self training activated\")\n",
    "    x_train, y_train, y_domain, train_parts, x_val, y_val, val_domain, val_parts,val_wav_files = dataLoader.getData(fold_dir,'',test_domains,0.9,shuffle=args.shuffle)\n",
    "    print(x_train.shape, x_val.shape)\n",
    "else:\n",
    "    x_train, y_train, y_domain, train_parts,x_val, y_val, val_domain, val_parts, val_wav_files = dataLoader.getData(fold_dir,train_domains,test_domains,test_split,shuffle = args.shuffle)\n",
    "\n",
    "if(args.reduce):\n",
    "    print(\"Reduction \", args.reduce)\n",
    "    x_train,_,y_train,_,y_domain,_ = train_test_split(x_train.transpose(),y_train,y_domain,stratify=y_train,test_size = args.reduce)\n",
    "    x_train = x_train.transpose()\n",
    "\n",
    "    #x_val,_,y_val,_,val_domain,_ = train_test_split(x_val.transpose(),y_val,val_domain,stratify=y_val,test_size = args.reduce)\n",
    "    #x_val = x_val.transpose()\n",
    "\n",
    "val_files = val_domain\n",
    "#Create meta labels and domain labels\n",
    "\n",
    "if(test_split>0):\n",
    "    source_domain = \"\".join(set(source_domain).union(set(target_domain)))\n",
    "    #domains = domains + test_domains\n",
    "\n",
    "if(args.self):\n",
    "    print(\"self training\")\n",
    "    source_domain = test_domains\n",
    "\n",
    "domains = set(source_domain + target_domain)\n",
    "#num_class_domain = len(set(train_domains + test_domains))\n",
    "num_class_domain = len(domains)\n",
    "num_class = 2\n",
    "\n",
    "domainClass_source = [(cls,dfc) for cls in range(2) for dfc in source_domain]\n",
    "domainClass_target = [(cls,dfc) for cls in range(2) for dfc in target_domain]"
   ]
  },
  {
   "cell_type": "code",
   "execution_count": 5,
   "metadata": {},
   "outputs": [
    {
     "name": "stdout",
     "output_type": "stream",
     "text": [
      "reshaped x  (67328, 2500, 1)\n",
      "reshaped x  (14167, 2500, 1)\n",
      "reshaped Y  (67328, 1)\n",
      "reshaped Y  (67328, 1)\n",
      "reshaped Y  (14167, 1)\n",
      "Y domain  Counter({2: 57642, 3: 4119, 4: 2985, 1: 1781, 0: 801})\n",
      "Val domain  Counter({'a': 14167})\n",
      "Source Meta labels  Counter({3: 54790, 4: 3012, 8: 2852, 0: 2396, 6: 1425, 9: 1107, 5: 589, 7: 493, 1: 356, 2: 308})\n",
      "Target Meta labels  Counter({1: 9864, 0: 4303})\n",
      "Train files  (67328, 2)   Domain  (67328, 1)\n",
      "Test files  (14167, 2)   Domain  (14167, 6)\n"
     ]
    }
   ],
   "source": [
    "meta_labels_source = [domainClass_source.index((cl,df)) for (cl,df) in zip(y_train,y_domain)]\n",
    "meta_labels_target = None\n",
    "if(args.dann):\n",
    "    meta_labels_target = [domainClass_target.index((cl,df)) for (cl,df) in zip((y_val),(val_domain))]\n",
    "    \n",
    "\n",
    "domains = \"\".join(set(source_domain).union(set(target_domain)))\n",
    "\n",
    "y_domain_source = np.array([list(domains).index(lab) for lab in y_domain])\n",
    "\n",
    "y_domain_target = np.array([list(domains).index(lab) for lab in val_domain])\n",
    "\n",
    "################### Reshaping ############\n",
    "\n",
    "if(args.mfcc):\n",
    "    [], [y_train,y_domain,y_val] = reshape_folds([],[y_train,y_domain_source,y_val])\n",
    "else:\n",
    "    [x_train,x_val], [y_train,y_domain,y_val] = reshape_folds([x_train,x_val],[y_train,y_domain_source,y_val])\n",
    "y_train = to_categorical(y_train, num_classes=num_class)\n",
    "\n",
    "print(\"Y domain \", Counter([x[0] for x in y_domain]))\n",
    "print(\"Val domain \", Counter(val_domain))\n",
    "print(\"Source Meta labels \", Counter(meta_labels_source))\n",
    "print(\"Target Meta labels \", Counter(meta_labels_target))\n",
    "y_domain_source = to_categorical(y_domain_source,num_classes=num_class_domain)\n",
    "\n",
    "y_val = to_categorical(y_val, num_classes=num_class)\n",
    "y_domain_target = to_categorical(y_domain_target,num_classes=num_class_domain)\n",
    "\n",
    "\n",
    "val_domain = y_domain_target\n",
    "print(\"Train files \", y_train.shape, \"  Domain \", y_domain.shape)\n",
    "print(\"Test files \", y_val.shape, \"  Domain \", val_domain.shape)\n",
    "\n",
    "### Batch Size limmiter \n",
    "batch_size = 1000\n",
    "if(batch_size > max(y_train.shape)):\n",
    "    print(\"Batch size if given greater than train files size. limiting batch size\")\n",
    "    batch_size = max(y_train.shape)"
   ]
  },
  {
   "cell_type": "code",
   "execution_count": 6,
   "metadata": {},
   "outputs": [],
   "source": [
    "######## change 2500 axis for pytorch \n",
    "x_train = x_train.transpose((0,2,1))\n",
    "x_val = x_val.transpose((0,2,1))\n",
    "\n",
    "y_train = np.argmax(y_train,1)\n",
    "y_val = np.argmax(y_val,1)\n",
    "y_domain_target = np.argmax(y_domain_target,1)\n",
    "y_domain_source = np.argmax(y_domain_source,1)"
   ]
  },
  {
   "cell_type": "code",
   "execution_count": 7,
   "metadata": {},
   "outputs": [
    {
     "data": {
      "text/plain": [
       "((67328, 1, 2500), (14167, 1, 2500), (67328,), (14167,), (67328,), (14167,))"
      ]
     },
     "execution_count": 7,
     "metadata": {},
     "output_type": "execute_result"
    }
   ],
   "source": [
    "x_train.shape, x_val.shape, y_train.shape, y_val.shape, y_domain_source.shape,y_domain_target.shape"
   ]
  },
  {
   "cell_type": "code",
   "execution_count": 8,
   "metadata": {},
   "outputs": [
    {
     "data": {
      "text/plain": [
       "True"
      ]
     },
     "execution_count": 8,
     "metadata": {},
     "output_type": "execute_result"
    }
   ],
   "source": [
    "all([len(meta_labels_target)==len(lab) for lab in (y_val,y_domain_target)])"
   ]
  },
  {
   "cell_type": "code",
   "execution_count": 9,
   "metadata": {},
   "outputs": [],
   "source": [
    "import BalancedDannAudioDataGenerator,importlib\n",
    "BalancedDannAudioDataGenerator = importlib.reload(BalancedDannAudioDataGenerator)\n",
    "from BalancedDannAudioDataGenerator import BalancedAudioDataGenerator"
   ]
  },
  {
   "cell_type": "code",
   "execution_count": 89,
   "metadata": {},
   "outputs": [
    {
     "name": "stdout",
     "output_type": "stream",
     "text": [
      "[ 2396   356   308 54790  3012   589  1425   493  2852  1107]\n",
      "[0 1 2 3 4 5 6 7 8 9]\n",
      "Chunk size selected as 2\n",
      "[4303 9864]\n",
      "[0 1]\n",
      "Chunk size selected as 12\n"
     ]
    },
    {
     "name": "stderr",
     "output_type": "stream",
     "text": [
      "/media/mhealthra2/Data/heart_sound/Adversarial-Heart-Sound-Classification/codes/BalancedDannAudioDataGenerator.py:841: UserWarning: `meta_labels` specified, will use meta_labels instead of target_label\n",
      "  warnings.warn('`meta_labels` specified, will use meta_labels instead of target_label')\n"
     ]
    }
   ],
   "source": [
    "batch_size = 12*2\n",
    "datagen_source = BalancedAudioDataGenerator(shift=.1,data_format = 'channels_first')\n",
    "flow_source = datagen_source.flow(x_train, [y_train,y_domain_source],\n",
    "                meta_label=meta_labels_source,\n",
    "                batch_size=batch_size, shuffle=True,\n",
    "                seed=1)\n",
    "datagen_target = BalancedAudioDataGenerator(shift=.1,data_format = 'channels_first')\n",
    "flow_target = datagen_target.flow(x_val, [y_val,y_domain_target],\n",
    "                meta_label=meta_labels_target,\n",
    "                batch_size=batch_size, shuffle=True,\n",
    "                seed=1)\n",
    "try:\n",
    "    flow_source.steps_per_epoch = len(flow_source)\n",
    "except:\n",
    "    pass"
   ]
  },
  {
   "cell_type": "code",
   "execution_count": 12,
   "metadata": {},
   "outputs": [],
   "source": [
    "import torch.optim as optim\n",
    "import torch\n",
    "from torch.autograd import Variable\n",
    "import time\n",
    "import torch\n",
    "import torch.nn as nn\n",
    "# from torchvision import datasets, transforms\n",
    "from torchsummary import summary\n",
    "import numpy as np\n",
    "import torch\n",
    "import torch.nn as nn\n",
    "import torch.nn.functional as F\n",
    "from torch.autograd import Variable\n",
    "import torch.nn.init as init\n",
    "from torchsummary import summary"
   ]
  },
  {
   "cell_type": "code",
   "execution_count": 13,
   "metadata": {},
   "outputs": [],
   "source": [
    "import HeartCepTorch,importlib\n",
    "HeartCepTorch = importlib.reload(HeartCepTorch)\n",
    "from HeartCepTorch import MFCC_Gen,Network,MFCC_Gen_coeff\n",
    "from utils import log_macc, trainLog"
   ]
  },
  {
   "cell_type": "code",
   "execution_count": 90,
   "metadata": {},
   "outputs": [],
   "source": [
    "model = Network(2,num_class_domain)\n",
    "mfcc_gen = MFCC_Gen(fs=1000,filters=64,momentum=0.1)"
   ]
  },
  {
   "cell_type": "code",
   "execution_count": 91,
   "metadata": {},
   "outputs": [],
   "source": [
    "optimizer = optim.SGD(model.parameters(), lr = 0.005)\n",
    "class_criterion = nn.CrossEntropyLoss()\n",
    "domain_criterion= nn.CrossEntropyLoss()\n",
    "start_epoch = 0"
   ]
  },
  {
   "cell_type": "code",
   "execution_count": 98,
   "metadata": {},
   "outputs": [],
   "source": [
    "import importlib\n",
    "from datetime import datetime\n",
    "import CSVLogger\n",
    "CSVLogger = importlib.reload(CSVLogger)\n",
    "from CSVLogger import CSVLogger\n",
    "fold = \"fold0_noFIR requires grad on batch 12x2 loss divided by 10\"\n",
    "path = \"../../Heartnet_Results/logs/DANN_gammatone_torch_layer/\"\n",
    "fold = fold+'_'+str(datetime.now()).replace(':','.')\n",
    "path = path + fold\n",
    "if not os.path.isdir(path):\n",
    "    os.mkdir(path)\n",
    "    os.mkdir(os.path.join(path,'weights'))\n",
    "logger = CSVLogger(path+'/'+'training.csv')\n",
    "checkpoint_name = os.path.join(path,'weights') + \"/\" + 'weights.{epoch:04d}-acc_{val_acc:.4f}-macc_{macc:.4f}.pt'"
   ]
  },
  {
   "cell_type": "code",
   "execution_count": null,
   "metadata": {},
   "outputs": [
    {
     "name": "stdout",
     "output_type": "stream",
     "text": [
      "steps  27395\n",
      "EPOCH    1\n",
      "TN: 89 FP: 27 FN: 124 TP: 152\n",
      "Sensitivity: 0.55 Specificity: 0.77 Precision: 0.85 F1: 0.67 MACC 0.66\n",
      "Validation loss 0.74 Validation Acc  0.56\n",
      "Val domain Acc  0.90\n",
      "EPOCH    2\n",
      "Training loss 0.63 Training Acc  0.98 Train domain Acc  0.30\n",
      "TN: 267200 FP: 6760 FN: 5667 TP: 268293\n",
      "Sensitivity: 0.98 Specificity: 0.98 Precision: 0.98 F1: 0.98 MACC 0.98\n",
      "TN: 93 FP: 23 FN: 170 TP: 106\n",
      "Sensitivity: 0.38 Specificity: 0.80 Precision: 0.82 F1: 0.52 MACC 0.59\n",
      "Validation loss 0.80 Validation Acc  0.50\n",
      "Val domain Acc  0.89\n",
      "EPOCH    3\n",
      "Training loss 0.61 Training Acc  0.98 Train domain Acc  0.39\n",
      "TN: 268031 FP: 5929 FN: 4955 TP: 269005\n",
      "Sensitivity: 0.98 Specificity: 0.98 Precision: 0.98 F1: 0.98 MACC 0.98\n",
      "TN: 92 FP: 24 FN: 160 TP: 116\n",
      "Sensitivity: 0.42 Specificity: 0.79 Precision: 0.83 F1: 0.56 MACC 0.61\n",
      "Validation loss 0.78 Validation Acc  0.52\n",
      "Val domain Acc  0.87\n",
      "EPOCH    4\n",
      "Training loss 0.61 Training Acc  0.98 Train domain Acc  0.45\n",
      "TN: 268614 FP: 5346 FN: 4599 TP: 269361\n",
      "Sensitivity: 0.98 Specificity: 0.98 Precision: 0.98 F1: 0.98 MACC 0.98\n",
      "TN: 94 FP: 22 FN: 161 TP: 115\n",
      "Sensitivity: 0.42 Specificity: 0.81 Precision: 0.84 F1: 0.56 MACC 0.61\n",
      "Validation loss 0.78 Validation Acc  0.52\n",
      "Val domain Acc  0.89\n",
      "EPOCH    5\n",
      "Training loss 0.60 Training Acc  0.98 Train domain Acc  0.50\n",
      "TN: 269037 FP: 4923 FN: 4472 TP: 269488\n",
      "Sensitivity: 0.98 Specificity: 0.98 Precision: 0.98 F1: 0.98 MACC 0.98\n",
      "TN: 92 FP: 24 FN: 156 TP: 120\n",
      "Sensitivity: 0.43 Specificity: 0.79 Precision: 0.83 F1: 0.57 MACC 0.61\n",
      "Validation loss 0.78 Validation Acc  0.52\n",
      "Val domain Acc  0.86\n",
      "EPOCH    6\n",
      "Training loss 0.60 Training Acc  0.98 Train domain Acc  0.53\n",
      "TN: 269245 FP: 4715 FN: 4168 TP: 269792\n",
      "Sensitivity: 0.98 Specificity: 0.98 Precision: 0.98 F1: 0.98 MACC 0.98\n",
      "TN: 98 FP: 18 FN: 178 TP: 98\n",
      "Sensitivity: 0.36 Specificity: 0.84 Precision: 0.84 F1: 0.50 MACC 0.60\n",
      "Validation loss 0.80 Validation Acc  0.50\n",
      "Val domain Acc  0.88\n",
      "EPOCH    7\n",
      "Training loss 0.59 Training Acc  0.98 Train domain Acc  0.56\n",
      "TN: 269436 FP: 4524 FN: 3826 TP: 270134\n",
      "Sensitivity: 0.99 Specificity: 0.98 Precision: 0.98 F1: 0.98 MACC 0.98\n",
      "TN: 97 FP: 19 FN: 166 TP: 110\n",
      "Sensitivity: 0.40 Specificity: 0.84 Precision: 0.85 F1: 0.54 MACC 0.62\n",
      "Validation loss 0.78 Validation Acc  0.52\n",
      "Val domain Acc  0.89\n",
      "EPOCH    8\n",
      "Training loss 0.59 Training Acc  0.98 Train domain Acc  0.58\n",
      "TN: 269657 FP: 4303 FN: 4000 TP: 269960\n",
      "Sensitivity: 0.99 Specificity: 0.98 Precision: 0.98 F1: 0.98 MACC 0.98\n",
      "TN: 96 FP: 20 FN: 165 TP: 111\n",
      "Sensitivity: 0.40 Specificity: 0.83 Precision: 0.85 F1: 0.55 MACC 0.61\n",
      "Validation loss 0.78 Validation Acc  0.52\n",
      "Val domain Acc  0.89\n",
      "EPOCH    9\n",
      "Training loss 0.59 Training Acc  0.99 Train domain Acc  0.60\n",
      "TN: 269939 FP: 4021 FN: 3703 TP: 270257\n",
      "Sensitivity: 0.99 Specificity: 0.99 Precision: 0.99 F1: 0.99 MACC 0.99\n",
      "TN: 92 FP: 24 FN: 144 TP: 132\n",
      "Sensitivity: 0.48 Specificity: 0.79 Precision: 0.85 F1: 0.61 MACC 0.64\n",
      "Validation loss 0.76 Validation Acc  0.54\n",
      "Val domain Acc  0.85\n",
      "EPOCH    10\n",
      "Training loss 0.58 Training Acc  0.99 Train domain Acc  0.62\n",
      "TN: 270094 FP: 3866 FN: 3638 TP: 270322\n",
      "Sensitivity: 0.99 Specificity: 0.99 Precision: 0.99 F1: 0.99 MACC 0.99\n",
      "TN: 98 FP: 18 FN: 186 TP: 90\n",
      "Sensitivity: 0.33 Specificity: 0.84 Precision: 0.83 F1: 0.47 MACC 0.59\n",
      "Validation loss 0.80 Validation Acc  0.50\n",
      "Val domain Acc  0.89\n",
      "EPOCH    11\n",
      "Training loss 0.58 Training Acc  0.99 Train domain Acc  0.64\n",
      "TN: 270040 FP: 3920 FN: 3525 TP: 270435\n",
      "Sensitivity: 0.99 Specificity: 0.99 Precision: 0.99 F1: 0.99 MACC 0.99\n",
      "TN: 102 FP: 14 FN: 194 TP: 82\n",
      "Sensitivity: 0.30 Specificity: 0.88 Precision: 0.85 F1: 0.44 MACC 0.59\n",
      "Validation loss 0.82 Validation Acc  0.48\n",
      "Val domain Acc  0.88\n",
      "EPOCH    12\n",
      "Training loss 0.58 Training Acc  0.99 Train domain Acc  0.65\n",
      "TN: 270259 FP: 3701 FN: 3461 TP: 270499\n",
      "Sensitivity: 0.99 Specificity: 0.99 Precision: 0.99 F1: 0.99 MACC 0.99\n",
      "TN: 100 FP: 16 FN: 185 TP: 91\n",
      "Sensitivity: 0.33 Specificity: 0.86 Precision: 0.85 F1: 0.48 MACC 0.60\n",
      "Validation loss 0.81 Validation Acc  0.49\n",
      "Val domain Acc  0.89\n",
      "EPOCH    13\n",
      "Training loss 0.58 Training Acc  0.99 Train domain Acc  0.66\n",
      "TN: 270211 FP: 3749 FN: 3225 TP: 270735\n",
      "Sensitivity: 0.99 Specificity: 0.99 Precision: 0.99 F1: 0.99 MACC 0.99\n",
      "TN: 99 FP: 17 FN: 170 TP: 106\n",
      "Sensitivity: 0.38 Specificity: 0.85 Precision: 0.86 F1: 0.53 MACC 0.62\n",
      "Validation loss 0.79 Validation Acc  0.51\n",
      "Val domain Acc  0.89\n",
      "EPOCH    14\n"
     ]
    }
   ],
   "source": [
    "model.cuda()\n",
    "mfcc_gen.cuda()\n",
    "mfcc_gen.eval()\n",
    "epochs = 200\n",
    "hp_lambda = 0.0\n",
    "print(\"steps \", flow_source.steps_per_epoch)\n",
    "logger.on_train_begin()\n",
    "for e in range(epochs):\n",
    "    if(e>15):\n",
    "        hp_lambda = 0.05\n",
    "    if(e>25):\n",
    "        hp_lambda = 0\n",
    "    if(e>35):\n",
    "        hp_lambda = 0.1\n",
    "    print(\"EPOCH   \",e+1)\n",
    "    if(e>0):\n",
    "        model.train()\n",
    "        epoch_loss = 0\n",
    "        acc = 0\n",
    "        acc_domain = 0\n",
    "        y_pred = None\n",
    "        y_true = None\n",
    "        y_pred_domain = None\n",
    "        y_true_domain = None\n",
    "        N = 0\n",
    "        for i in range(flow_source.steps_per_epoch+1):\n",
    "\n",
    "            optimizer.zero_grad()\n",
    "\n",
    "            x,[y,yd] = flow_source.next()\n",
    "            x,y,yd = torch.from_numpy(x),torch.from_numpy(y),torch.from_numpy(yd)\n",
    "            x = x.type(torch.FloatTensor).cuda()\n",
    "            y = y.long().cuda()\n",
    "            yd = yd.long().cuda()\n",
    "            x = mfcc_gen(x)\n",
    "            x = x.transpose(2,1)\n",
    "            x = x.unsqueeze(1)\n",
    "            x,y,yd = Variable(x),Variable(y),Variable(yd)\n",
    "            y = y.long().cuda()\n",
    "\n",
    "            cls, dom = model(x,hp_lambda)\n",
    "            class_loss = class_criterion(cls,y)\n",
    "            domain_loss_source = domain_criterion(dom,yd)/10\n",
    "\n",
    "            if(y_pred is None):\n",
    "                y_pred = torch.argmax(cls,axis=1)\n",
    "                y_true = y\n",
    "            else:\n",
    "                y_pred = torch.cat((y_pred,torch.argmax(cls,axis=1)))\n",
    "                y_true = torch.cat((y_true,y))\n",
    "                \n",
    "            if(y_pred_domain is None):\n",
    "                y_pred_domain = torch.argmax(dom,axis=1)\n",
    "                y_true_domain = yd\n",
    "            else:\n",
    "                y_pred_domain = torch.cat((y_pred_domain,torch.argmax(dom,axis=1)))\n",
    "                y_true_domain = torch.cat((y_true_domain,yd))\n",
    "            acc = acc + torch.sum(y==torch.argmax(cls,axis=1))\n",
    "            acc_domain = acc_domain + torch.sum(yd==torch.argmax(dom,axis=1))\n",
    "            N = N+len(y)\n",
    "\n",
    "            if(args.dann):\n",
    "                x,[y,yd] = flow_target.next()\n",
    "                x,y,yd = torch.from_numpy(x),torch.from_numpy(y),torch.from_numpy(yd)\n",
    "                x = x.type(torch.FloatTensor).cuda()\n",
    "                y = y.long().cuda()\n",
    "                yd = yd.long().cuda()\n",
    "                x = mfcc_gen(x)\n",
    "                x = x.transpose(2,1)\n",
    "                x = x.unsqueeze(1)\n",
    "                x,y,yd = Variable(x),Variable(y),Variable(yd)\n",
    "\n",
    "                cls, dom = model(x,hp_lambda)\n",
    "                domain_loss_target = domain_criterion(dom,yd)/10\n",
    "                loss = class_loss + domain_loss_source+domain_loss_target\n",
    "            else:\n",
    "                loss = class_loss\n",
    "            epoch_loss = epoch_loss + loss\n",
    "\n",
    "\n",
    "\n",
    "            loss.backward()\n",
    "            optimizer.step()\n",
    "        epoch_loss_print = (epoch_loss.item()) if (type(epoch_loss)==torch.Tensor) else epoch_loss\n",
    "        acc_print = (acc.item()) if (type(acc)==torch.Tensor) else acc\n",
    "        acc_print_domain = (acc_domain.item()) if (type(acc_domain)==torch.Tensor) else acc_domain\n",
    "        print(\"Training loss\", \"%.2f\"%(epoch_loss_print/flow_source.steps_per_epoch),end=' ')\n",
    "        print(\"Training Acc \", \"%.2f\"%(acc_print/N),end=' ')\n",
    "        print(\"Train domain Acc \", \"%.2f\"%(acc_domain.item()/N))\n",
    "        trainLog(y_true,y_pred)\n",
    "        \n",
    "        logger.logs['train_loss'] = (epoch_loss_print/flow_source.steps_per_epoch)\n",
    "        logger.logs['train_acc'] = (acc_print/N)\n",
    "        logger.logs['train_domain_acc'] = acc_print_domain/N\n",
    "    \n",
    "    \n",
    "    # Validate \n",
    "    # Validate \n",
    "    model.eval()\n",
    "    epoch_loss = 0\n",
    "    acc = 0\n",
    "    acc_domain = 0\n",
    "    N = 0\n",
    "    y_pred = None\n",
    "    y_true = None\n",
    "    y_pred_domain = None\n",
    "    y_true_domain = None\n",
    "    with torch.no_grad():\n",
    "        start_idx = 0\n",
    "        for i,s in enumerate(val_parts):\n",
    "            if(s==0):\n",
    "                continue\n",
    "            x,y,yd = x_val[start_idx:start_idx+s],y_val[start_idx:start_idx+s],y_domain_target[start_idx:start_idx+s]\n",
    "            start_idx = start_idx+s\n",
    "            \n",
    "            x,y,yd = torch.from_numpy(x),torch.from_numpy(y),torch.from_numpy(yd)\n",
    "            x = x.type(torch.FloatTensor).cuda()\n",
    "            x = mfcc_gen(x)\n",
    "            x = x.transpose(2,1)\n",
    "            x = x.unsqueeze(1)\n",
    "            x,y = Variable(x),Variable(y)\n",
    "            #x = x.reshape(x.shape[0],1,x.shape[1],x.shape[2])\n",
    "            \n",
    "#             y = y.cuda()\n",
    "            y = y.long().cuda()\n",
    "            yd = yd.long().cuda()\n",
    "            cls,dom= model(x)\n",
    "            # val_class_loss = class_criterion(cls,torch.argmax(y,axis=1))\n",
    "            val_class_loss = class_criterion(cls,y)\n",
    "            \n",
    "            if(str(class_criterion) in ['MSELoss()','BCELoss()']):\n",
    "                y = torch.argmax(y,axis=1)\n",
    "            \n",
    "            acc = acc + torch.sum(y==torch.argmax(cls,axis=1))\n",
    "            acc_domain = acc_domain + torch.sum(yd==torch.argmax(dom,axis=1))\n",
    "            N = N+len(y)\n",
    "            epoch_loss = epoch_loss + val_class_loss\n",
    "            if(y_pred is None):\n",
    "                y_pred = torch.argmax(cls,axis=1)\n",
    "                y_true = y\n",
    "            else:\n",
    "                y_pred = torch.cat((y_pred,torch.argmax(cls,axis=1)))\n",
    "                y_true = torch.cat((y_true,y))\n",
    "        Macc,sensitivity,specificity,precision,F1 = log_macc(y_pred,y_true,val_parts)\n",
    "        \n",
    "        print(\"Validation loss\", \"%.2f\"%(epoch_loss.item()/len(val_parts)),end=' ')\n",
    "        print(\"Validation Acc \", \"%.2f\"%(acc.item()/N))\n",
    "        print(\"Val domain Acc \", \"%.2f\"%(acc_domain.item()/N))\n",
    "        logger.logs['val_loss'] = (epoch_loss.item()/len(val_parts))\n",
    "        logger.logs['val_acc'] = (acc.item()/N)\n",
    "        logger.logs['val_domain_acc'] = (acc_domain.item()/N)\n",
    "        acc = (acc.item()/N)\n",
    "        logger.logs['val_macc'] = Macc\n",
    "        logger.logs['precision'] = precision\n",
    "        logger.logs['sensitivity'] = sensitivity\n",
    "        logger.logs['specificity'] = specificity\n",
    "        logger.logs['F1'] = F1\n",
    "#     lr_schedule.step()\n",
    "    torch.save(model.state_dict(),checkpoint_name.format(epoch=e,val_acc=acc,macc=Macc))\n",
    "    logger.on_epoch_end(e)\n",
    "    flow_source.reset()\n",
    "logger.on_train_end()"
   ]
  },
  {
   "cell_type": "code",
   "execution_count": 69,
   "metadata": {},
   "outputs": [
    {
     "data": {
      "text/plain": [
       "[<matplotlib.lines.Line2D at 0x7f53c7818d10>]"
      ]
     },
     "execution_count": 69,
     "metadata": {},
     "output_type": "execute_result"
    },
    {
     "data": {
      "image/png": "[encoded data removed]",
      "text/plain": [
       "<Figure size 432x288 with 1 Axes>"
      ]
     },
     "metadata": {
      "needs_background": "light"
     },
     "output_type": "display_data"
    }
   ],
   "source": [
    "plt.plot(holdx[0,0,:])"
   ]
  },
  {
   "cell_type": "code",
   "execution_count": 88,
   "metadata": {},
   "outputs": [
    {
     "data": {
      "text/plain": [
       "<matplotlib.image.AxesImage at 0x7f53ca016a10>"
      ]
     },
     "execution_count": 88,
     "metadata": {},
     "output_type": "execute_result"
    },
    {
     "data": {
      "image/png": "[encoded data removed]",
      "text/plain": [
       "<Figure size 1440x1440 with 1 Axes>"
      ]
     },
     "metadata": {
      "needs_background": "light"
     },
     "output_type": "display_data"
    }
   ],
   "source": [
    "plt.figure(figsize=(20,20))\n",
    "from matplotlib import cm\n",
    "plt.imshow((to_numpy(hold[0,:,:])), interpolation='nearest', origin='lower')\n",
    "# plt.plot(to_numpy(x[0,0,:,:]).transpose())"
   ]
  },
  {
   "cell_type": "code",
   "execution_count": 45,
   "metadata": {},
   "outputs": [
    {
     "data": {
      "text/plain": [
       "(tensor(0.6931, device='cuda:0', grad_fn=<NllLossBackward>),\n",
       " tensor(2.0436, device='cuda:0', grad_fn=<NllLossBackward>),\n",
       " tensor(1.0436, device='cuda:0', grad_fn=<NllLossBackward>))"
      ]
     },
     "execution_count": 45,
     "metadata": {},
     "output_type": "execute_result"
    }
   ],
   "source": [
    "class_loss, domain_loss_source,domain_loss_target"
   ]
  },
  {
   "cell_type": "code",
   "execution_count": 33,
   "metadata": {},
   "outputs": [
    {
     "data": {
      "text/plain": [
       "tensor([[0., 0., 0.,  ..., 0., 0., 0.],\n",
       "        [0., 0., 0.,  ..., 0., 0., 0.],\n",
       "        [0., 0., 0.,  ..., 0., 0., 0.],\n",
       "        ...,\n",
       "        [0., 0., 0.,  ..., 0., 0., 0.],\n",
       "        [0., 0., 0.,  ..., 0., 0., 0.],\n",
       "        [0., 0., 0.,  ..., 0., 0., 0.]], device='cuda:0')"
      ]
     },
     "execution_count": 33,
     "metadata": {},
     "output_type": "execute_result"
    }
   ],
   "source": [
    "model.classifier.fc1.weight.grad"
   ]
  },
  {
   "cell_type": "code",
   "execution_count": 87,
   "metadata": {},
   "outputs": [],
   "source": [
    "x,[y,yd] = flow_source.next()\n",
    "holdx = x\n",
    "x,y,yd = torch.from_numpy(x),torch.from_numpy(y),torch.from_numpy(yd)\n",
    "x = x.type(torch.FloatTensor).cuda()\n",
    "y = y.long().cuda()\n",
    "yd = yd.long().cuda()\n",
    "x = mfcc_gen(x)\n",
    "hold = x\n",
    "x = x.transpose(2,1)\n",
    "x = x.unsqueeze(1)\n",
    "x,y,yd = Variable(x),Variable(y),Variable(yd)\n",
    "y = y.long().cuda()\n",
    "\n",
    "cls, dom = model(x)\n",
    "class_loss = class_criterion(cls,y)\n",
    "domain_loss_source = domain_criterion(dom,yd)"
   ]
  },
  {
   "cell_type": "code",
   "execution_count": 35,
   "metadata": {},
   "outputs": [
    {
     "ename": "RuntimeError",
     "evalue": "Trying to backward through the graph a second time, but the buffers have already been freed. Specify retain_graph=True when calling backward the first time.",
     "output_type": "error",
     "traceback": [
      "\u001b[0;31m---------------------------------------------------------------------------\u001b[0m",
      "\u001b[0;31mRuntimeError\u001b[0m                              Traceback (most recent call last)",
      "\u001b[0;32m<ipython-input-35-52a0569421b1>\u001b[0m in \u001b[0;36m<module>\u001b[0;34m\u001b[0m\n\u001b[0;32m----> 1\u001b[0;31m \u001b[0mloss\u001b[0m\u001b[0;34m.\u001b[0m\u001b[0mbackward\u001b[0m\u001b[0;34m(\u001b[0m\u001b[0;34m)\u001b[0m\u001b[0;34m\u001b[0m\u001b[0;34m\u001b[0m\u001b[0m\n\u001b[0m",
      "\u001b[0;32m~/anaconda3/envs/torch/lib/python3.7/site-packages/torch/tensor.py\u001b[0m in \u001b[0;36mbackward\u001b[0;34m(self, gradient, retain_graph, create_graph)\u001b[0m\n\u001b[1;32m    193\u001b[0m                 \u001b[0mproducts\u001b[0m\u001b[0;34m.\u001b[0m \u001b[0mDefaults\u001b[0m \u001b[0mto\u001b[0m\u001b[0;31m \u001b[0m\u001b[0;31m`\u001b[0m\u001b[0;31m`\u001b[0m\u001b[0;32mFalse\u001b[0m\u001b[0;31m`\u001b[0m\u001b[0;31m`\u001b[0m\u001b[0;34m.\u001b[0m\u001b[0;34m\u001b[0m\u001b[0;34m\u001b[0m\u001b[0m\n\u001b[1;32m    194\u001b[0m         \"\"\"\n\u001b[0;32m--> 195\u001b[0;31m         \u001b[0mtorch\u001b[0m\u001b[0;34m.\u001b[0m\u001b[0mautograd\u001b[0m\u001b[0;34m.\u001b[0m\u001b[0mbackward\u001b[0m\u001b[0;34m(\u001b[0m\u001b[0mself\u001b[0m\u001b[0;34m,\u001b[0m \u001b[0mgradient\u001b[0m\u001b[0;34m,\u001b[0m \u001b[0mretain_graph\u001b[0m\u001b[0;34m,\u001b[0m \u001b[0mcreate_graph\u001b[0m\u001b[0;34m)\u001b[0m\u001b[0;34m\u001b[0m\u001b[0;34m\u001b[0m\u001b[0m\n\u001b[0m\u001b[1;32m    196\u001b[0m \u001b[0;34m\u001b[0m\u001b[0m\n\u001b[1;32m    197\u001b[0m     \u001b[0;32mdef\u001b[0m \u001b[0mregister_hook\u001b[0m\u001b[0;34m(\u001b[0m\u001b[0mself\u001b[0m\u001b[0;34m,\u001b[0m \u001b[0mhook\u001b[0m\u001b[0;34m)\u001b[0m\u001b[0;34m:\u001b[0m\u001b[0;34m\u001b[0m\u001b[0;34m\u001b[0m\u001b[0m\n",
      "\u001b[0;32m~/anaconda3/envs/torch/lib/python3.7/site-packages/torch/autograd/__init__.py\u001b[0m in \u001b[0;36mbackward\u001b[0;34m(tensors, grad_tensors, retain_graph, create_graph, grad_variables)\u001b[0m\n\u001b[1;32m     97\u001b[0m     Variable._execution_engine.run_backward(\n\u001b[1;32m     98\u001b[0m         \u001b[0mtensors\u001b[0m\u001b[0;34m,\u001b[0m \u001b[0mgrad_tensors\u001b[0m\u001b[0;34m,\u001b[0m \u001b[0mretain_graph\u001b[0m\u001b[0;34m,\u001b[0m \u001b[0mcreate_graph\u001b[0m\u001b[0;34m,\u001b[0m\u001b[0;34m\u001b[0m\u001b[0;34m\u001b[0m\u001b[0m\n\u001b[0;32m---> 99\u001b[0;31m         allow_unreachable=True)  # allow_unreachable flag\n\u001b[0m\u001b[1;32m    100\u001b[0m \u001b[0;34m\u001b[0m\u001b[0m\n\u001b[1;32m    101\u001b[0m \u001b[0;34m\u001b[0m\u001b[0m\n",
      "\u001b[0;31mRuntimeError\u001b[0m: Trying to backward through the graph a second time, but the buffers have already been freed. Specify retain_graph=True when calling backward the first time."
     ]
    }
   ],
   "source": [
    "loss.backward()"
   ]
  },
  {
   "cell_type": "code",
   "execution_count": null,
   "metadata": {},
   "outputs": [],
   "source": []
  },
  {
   "cell_type": "code",
   "execution_count": null,
   "metadata": {},
   "outputs": [],
   "source": []
  }
 ],
 "metadata": {
  "environment": {
   "name": "tf2-2-2-gpu.2-2.m48",
   "type": "gcloud",
   "uri": "gcr.io/deeplearning-platform-release/tf2-2-2-gpu.2-2:m48"
  },
  "kernelspec": {
   "display_name": "Python 3",
   "language": "python",
   "name": "python3"
  },
  "language_info": {
   "codemirror_mode": {
    "name": "ipython",
    "version": 3
   },
   "file_extension": ".py",
   "mimetype": "text/x-python",
   "name": "python",
   "nbconvert_exporter": "python",
   "pygments_lexer": "ipython3",
   "version": "3.7.6"
  }
 },
 "nbformat": 4,
 "nbformat_minor": 4
}
