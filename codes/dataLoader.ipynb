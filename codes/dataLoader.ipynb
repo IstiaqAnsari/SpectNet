{
 "cells": [
  {
   "cell_type": "code",
   "execution_count": 1,
   "metadata": {},
   "outputs": [],
   "source": [
    "import os,tables,numpy as np,matplotlib.pyplot as plt,pandas as pd,json\n",
    "from scipy.io import loadmat\n",
    "from collections import Counter\n",
    "from dataholder import Data"
   ]
  },
  {
   "cell_type": "code",
   "execution_count": 2,
   "metadata": {},
   "outputs": [],
   "source": [
    "fold_dir = '../../feature/potes_1DCNN/balancedCV/folds/folds_phys_compare_pascal/'"
   ]
  },
  {
   "cell_type": "code",
   "execution_count": 71,
   "metadata": {},
   "outputs": [],
   "source": [
    "class DataMerge():\n",
    "    def __init__(self):\n",
    "        self.x_train = self.y_train = self.y_domain = self.train_parts = None\n",
    "    def merge(self,data):\n",
    "        if(self.x_train is None):\n",
    "            self.x_train = data.trainX;\n",
    "            self.y_train = data.trainY;\n",
    "            self.y_domain = data.domainY;\n",
    "            self.train_parts = data.train_parts;\n",
    "        else:\n",
    "            self.x_train = np.concatenate((self.x_train,data.trainX),axis = 1)\n",
    "            self.y_train = np.concatenate((self.y_train,data.trainY),axis = 0)\n",
    "            self.y_domain = self.y_domain+data.domainY\n",
    "            self.train_parts = np.concatenate((self.train_parts,data.train_parts),axis = 0)            "
   ]
  },
  {
   "cell_type": "code",
   "execution_count": 85,
   "metadata": {},
   "outputs": [],
   "source": [
    "def getData(path, folds):\n",
    "    try:\n",
    "        with open('../data/domain_filename.json', 'r') as fp:\n",
    "            foldname = json.load(fp)\n",
    "    except:\n",
    "        raise FileNotFoundError(\"The json file that maps domain character to filename is not here\")\n",
    "        \n",
    "    allData = DataMerge()\n",
    "    for c in folds:\n",
    "        allData.merge(Data(fold_dir,foldname[c],c))\n",
    "    return allData.x_train, allData.y_train, allData.y_domain, allData.train_parts"
   ]
  },
  {
   "cell_type": "code",
   "execution_count": null,
   "metadata": {},
   "outputs": [],
   "source": [
    "def reshape_folds(x_train, y_train,x_val, y_val):\n",
    "    x1 = np.reshape(x_train, [x_train.shape[0], x_train.shape[1], 1])\n",
    "    y_train = np.reshape(y_train, [y_train.shape[0], 1])\n",
    "\n",
    "    print(x1.shape)\n",
    "    print(y_train.shape)\n",
    "    if(x_val is not None):\n",
    "        v1 = np.transpose(x_val[:, :])\n",
    "\n",
    "        v1 = np.reshape(v1, [v1.shape[0], v1.shape[1], 1])\n",
    "\n",
    "        y_val = np.reshape(y_val, [y_val.shape[0], 1])\n",
    "\n",
    "        print(v1.shape)\n",
    "        print(y_val.shape)\n",
    "        return x1, y_train, v1 , y_val\n",
    "    return x1,y_train"
   ]
  },
  {
   "cell_type": "code",
   "execution_count": 86,
   "metadata": {},
   "outputs": [],
   "source": [
    "u,i,o,p = getData(fold_dir,'abcd')"
   ]
  },
  {
   "cell_type": "code",
   "execution_count": 92,
   "metadata": {},
   "outputs": [
    {
     "data": {
      "text/plain": [
       "((2500, 19734), (19734,), 19734, (839,))"
      ]
     },
     "execution_count": 92,
     "metadata": {},
     "output_type": "execute_result"
    }
   ],
   "source": [
    "u.shape,i.shape,len(o),p.shape"
   ]
  },
  {
   "cell_type": "code",
   "execution_count": 10,
   "metadata": {},
   "outputs": [
    {
     "data": {
      "text/plain": [
       "array(['abcdcdef'], dtype='<U8')"
      ]
     },
     "execution_count": 10,
     "metadata": {},
     "output_type": "execute_result"
    }
   ],
   "source": [
    "np.unique('abcdcdef')"
   ]
  },
  {
   "cell_type": "code",
   "execution_count": null,
   "metadata": {},
   "outputs": [],
   "source": []
  }
 ],
 "metadata": {
  "kernelspec": {
   "display_name": "Python 3",
   "language": "python",
   "name": "python3"
  },
  "language_info": {
   "codemirror_mode": {
    "name": "ipython",
    "version": 3
   },
   "file_extension": ".py",
   "mimetype": "text/x-python",
   "name": "python",
   "nbconvert_exporter": "python",
   "pygments_lexer": "ipython3",
   "version": "3.7.3"
  }
 },
 "nbformat": 4,
 "nbformat_minor": 2
}
