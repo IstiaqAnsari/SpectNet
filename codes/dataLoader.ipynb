{
 "cells": [
  {
   "cell_type": "code",
   "execution_count": 53,
   "metadata": {},
   "outputs": [],
   "source": [
    "import os,tables,numpy as np,matplotlib.pyplot as plt,pandas as pd,json,h5py\n",
    "from scipy.io import loadmat\n",
    "from collections import Counter\n",
    "from  itertools import combinations\n",
    "from dataholder import Data\n",
    "import random"
   ]
  },
  {
   "cell_type": "code",
   "execution_count": 5,
   "metadata": {},
   "outputs": [
    {
     "data": {
      "text/plain": [
       "'/media/mhealthra2/Data/heart_sound/Adversarial-Heart-Sound-Classification/codes'"
      ]
     },
     "execution_count": 5,
     "metadata": {},
     "output_type": "execute_result"
    }
   ],
   "source": [
    "os.getcwd()"
   ]
  },
  {
   "cell_type": "code",
   "execution_count": null,
   "metadata": {},
   "outputs": [],
   "source": []
  },
  {
   "cell_type": "code",
   "execution_count": 165,
   "metadata": {
    "scrolled": true
   },
   "outputs": [
    {
     "data": {
      "text/plain": [
       "['fold_a.mat', 'fold_b.mat', 'fold_c.mat', 'fold_d.mat']"
      ]
     },
     "execution_count": 165,
     "metadata": {},
     "output_type": "execute_result"
    }
   ],
   "source": [
    "fold_dir = '../../feature/potes_1DCNN/balancedCV/folds/folds_phys_compare_pascal/'\n",
    "fold_dir = '../../feature/potes_1DCNN/balancedCV/folds/all_folds_wav_name/'\n",
    "fold_dir = '../../feature/potes_1DCNN/balancedCV/folds/individual_fold_beats_repeated/'\n",
    "os.listdir(fold_dir)"
   ]
  },
  {
   "cell_type": "code",
   "execution_count": 7,
   "metadata": {},
   "outputs": [
    {
     "name": "stdout",
     "output_type": "stream",
     "text": [
      "compare.mat ['#refs#', 'testX', 'test_parts', 'trainX', 'trainY', 'train_parts', 'valX', 'valY', 'val_parts', 'val_wav_name', 'wav_name']\n",
      "fold_a.mat ['#refs#', 'trainX', 'trainY', 'train_files', 'train_parts', 'wav_name']\n",
      "fold_b.mat ['#refs#', 'trainX', 'trainY', 'train_files', 'train_parts', 'wav_name']\n",
      "fold_c.mat ['#refs#', 'trainX', 'trainY', 'train_files', 'train_parts', 'wav_name']\n",
      "fold_d.mat ['#refs#', 'trainX', 'trainY', 'train_files', 'train_parts', 'wav_name']\n",
      "fold_e.mat ['#refs#', 'trainX', 'trainY', 'train_files', 'train_parts', 'wav_name']\n",
      "fold_f.mat ['#refs#', 'trainX', 'trainY', 'train_files', 'train_parts', 'wav_name']\n",
      "pascalA.mat ['#refs#', '#subsystem#', 'file_name', 'trainX', 'trainY', 'train_parts', 'wav_name']\n",
      "pascalB.mat ['#refs#', '#subsystem#', 'file_name', 'trainX', 'trainY', 'train_parts', 'wav_name']\n"
     ]
    }
   ],
   "source": [
    "for x in os.listdir(fold_dir):\n",
    "    data = h5py.File(fold_dir+x, 'r')\n",
    "    print(x,list(data.keys()))"
   ]
  },
  {
   "cell_type": "code",
   "execution_count": 8,
   "metadata": {},
   "outputs": [
    {
     "data": {
      "text/plain": [
       "['3707764736', '2', '1', '1', '1', '1']"
      ]
     },
     "execution_count": 8,
     "metadata": {},
     "output_type": "execute_result"
    }
   ],
   "source": [
    "[str(x) for x in data['file_name'][0]]"
   ]
  },
  {
   "cell_type": "code",
   "execution_count": null,
   "metadata": {},
   "outputs": [],
   "source": []
  },
  {
   "cell_type": "code",
   "execution_count": 193,
   "metadata": {},
   "outputs": [],
   "source": [
    "import matplotlib.pyplot as plt,h5py,numpy as np\n",
    "from collections import Counter\n",
    "class Data():\n",
    "    def __init__(self,path,f,n,severe = True,split=0,normalize=False,shuffle=None):\n",
    "        \n",
    "        if(split>=1 or split<0):\n",
    "            print(\"make sure split follow  1<split<=0 \")\n",
    "            raise ValueError\n",
    "        self.split = split\n",
    "        self.data = h5py.File(path+f, 'r')\n",
    "        self.file = f\n",
    "        self.dom = n\n",
    "        self.trainX = np.array(self.data['trainX'][:]).astype('float32')\n",
    "        self.trainY = self.data['trainY'][:][0].astype('int8')\n",
    "        self.train_parts = self.data['train_parts'][0].astype('int32')\n",
    "        self.wav_name = [''.join([chr(c[0]) for c in self.data[stp]]) for stp in self.data['wav_name'][0]]\n",
    "        self.valX = None\n",
    "        self.valY = None\n",
    "        self.val_wav_name = None\n",
    "        self.valdomY = None\n",
    "        self.val_parts = None\n",
    "        self.domainY = [n]*self.trainY.shape[0]\n",
    "        \n",
    "        ##calculate the normal and abnormal beats count\n",
    "        self.normal = Counter(self.trainY)[0]\n",
    "        self.abnormal = Counter(self.trainY)[1]\n",
    "        self.total = self.normal+self.abnormal\n",
    "        self.normfiles, self.abnormfiles = self.parts() \n",
    "        \n",
    "        if(f[:3]=='com'):self.processCompare(severe) ### select severe files only\n",
    "        else:\n",
    "            self.trainY[self.trainY<0] = 0   \n",
    "        if('fold_e' in f):self.processE()\n",
    "        if(shuffle is not None):self.shuffle_data(shuffle)\n",
    "        if(split>0):self.split_data(split)\n",
    "        if(normalize):self.normalize_data()\n",
    "            \n",
    "        \n",
    "    def shuffle_data(self,seed=0):\n",
    "        ## The shuffle parameter is None in init(). but if provided and int value it will be\n",
    "        ## used as the random seed\n",
    "        if(self.trainX is not None):\n",
    "            xx = self.trainX.copy()\n",
    "            yy = self.trainY.copy()\n",
    "            pr = [x for x in range(len(self.train_parts))]\n",
    "            random.Random(seed).shuffle(pr)\n",
    "            s = 0\n",
    "            for i,x in enumerate(pr):\n",
    "                xx[:,s:s+self.train_parts[x]] = self.trainX[:,sum(self.train_parts[:x]):sum(self.train_parts[:x])+self.train_parts[x]]\n",
    "                yy[s:s+self.train_parts[x]] = self.trainY[sum(self.train_parts[:x]):sum(self.train_parts[:x])+self.train_parts[x]]\n",
    "                s = s+self.train_parts[x]\n",
    "            self.train_parts = self.train_parts[pr]\n",
    "            self.wav_name = [self.wav_name[pr[x]] for x in range(len(self.wav_name))]\n",
    "        if(self.valX is not None):\n",
    "            xx = self.valX.copy()\n",
    "            yy = self.valY.copy()\n",
    "            pr = [x for x in range(len(self.val_parts))]\n",
    "            random.Random(seed).shuffle(pr)\n",
    "            s = 0\n",
    "            for i,x in enumerate(pr):\n",
    "                xx[:,s:s+self.train_parts[x]] = self.valX[:,sum(self.train_parts[:x]):sum(self.train_parts[:x])+self.train_parts[x]]\n",
    "                yy[s:s+self.train_parts[x]] = self.valY[sum(self.train_parts[:x]):sum(self.train_parts[:x])+self.train_parts[x]]\n",
    "                s = s+self.train_parts[x]\n",
    "            self.train_parts = self.val_parts[pr]\n",
    "            self.val_wav_name = [self.val_wav_name[pr[x]] for x in range(len(self.val_wav_name))]\n",
    "    def normalize_data(self):\n",
    "        self.trainX = np.array([x/(max(abs(x)+10e-6)) for x in self.trainX.transpose()]).transpose()\n",
    "    def split_data(self,split):\n",
    "        if(self.file[:3]=='com'):\n",
    "            self.valX = self.data['valX'][:]\n",
    "            self.valY = self.data['valY'][:][0]\n",
    "            self.valY[self.valY>0] = 1\n",
    "            self.val_parts = self.data['val_parts'][0].astype('int32')\n",
    "            self.valdomY = [self.dom]*self.valY.shape[0]\n",
    "            return\n",
    "        taken = 0\n",
    "        left = 0\n",
    "        tmpX = None\n",
    "        tmpY = None\n",
    "        parts = []\n",
    "        wav_name = []\n",
    "        self.val_wav_name = []\n",
    "        \n",
    "        self.val_parts = []\n",
    "        for j,x in enumerate(self.train_parts):\n",
    "            if(taken<split*self.total):\n",
    "                taken = taken + x\n",
    "                if(self.valX is None):\n",
    "                    self.valX = self.trainX[:,left:x+left]\n",
    "                    self.valY = self.trainY[left:x+left]\n",
    "                else:\n",
    "                    \n",
    "                    self.valX = np.concatenate((self.valX,self.trainX[:,left:x+left]),axis=1)\n",
    "                    self.valY = np.concatenate((self.valY,self.trainY[left:x+left]),axis=0)\n",
    "                self.val_parts.append(x)\n",
    "                self.val_wav_name.append(self.wav_name[j])\n",
    "            else:\n",
    "                if(tmpX is None):\n",
    "                    tmpX = self.trainX[:,left:x+left]\n",
    "                    tmpY = self.trainY[left:x+left]\n",
    "                else:\n",
    "                    tmpX = np.concatenate((tmpX,self.trainX[:,left:x+left]),axis=1)\n",
    "                    tmpY = np.concatenate((tmpY,self.trainY[left:x+left]),axis=0)\n",
    "                parts.append(x)\n",
    "                wav_name.append(self.wav_name[j])\n",
    "            left = left + x\n",
    "        self.trainX = tmpX\n",
    "        self.trainY = tmpY\n",
    "        self.train_parts = parts\n",
    "        self.wav_name = wav_name\n",
    "        self.domainY = [self.dom]*self.trainY.shape[0]\n",
    "        self.valdomY = [self.dom]*self.valY.shape[0]\n",
    "        del tmpX,tmpY,parts\n",
    "    def processCompare(self,severe):\n",
    "        if(severe):\n",
    "            print(\"fixed implementation, normal = 0, mild = 1, sever = 2. mild is being selected\")\n",
    "            self.sevX = None\n",
    "            self.sevY = self.trainY[self.trainY%2==0]\n",
    "            self.sev_parts = []\n",
    "            self.sev_wav_name = []\n",
    "            left = int(0)\n",
    "            for j,x in enumerate(self.train_parts):\n",
    "                x = int(x)\n",
    "                if(all([i%2==0 for i in self.trainY[left:x+left]])):\n",
    "                    if(self.sevX is None):\n",
    "                        self.sevX = self.trainX[:,left:x+left]\n",
    "                    else: \n",
    "                        self.sevX = np.concatenate((self.sevX,self.trainX[:,left:x+left]),axis=1)\n",
    "                    self.sev_parts.append(x)\n",
    "                    self.sev_wav_name.append(self.wav_name[j])\n",
    "                left = x + left\n",
    "                \n",
    "            self.trainX = self.sevX\n",
    "            self.trainY = self.sevY\n",
    "            self.train_parts = self.sev_parts\n",
    "            self.domainY = [self.dom]*self.trainY.shape[0]\n",
    "            self.normal = Counter(self.trainY)[0]\n",
    "            self.abnormal = Counter(self.trainY)[1]\n",
    "            self.total = self.normal+self.abnormal\n",
    "            self.normfiles, self.abnormfiles = self.parts()\n",
    "        else:\n",
    "            self.trainY[self.trainY>0] = 1\n",
    "    def processE(self):\n",
    "        self.trainY[self.trainY<0] = 0\n",
    "        nn = ab = 0\n",
    "        idx = []\n",
    "        left = 0\n",
    "        parts = []\n",
    "        wav_name = []\n",
    "        for j,x in enumerate(self.train_parts):\n",
    "            if(all([(l == 0) for l in self.trainY[left:left+x]])):\n",
    "                if(nn<self.abnormal):\n",
    "                    idx = idx + [True]*x\n",
    "                    nn = nn + x\n",
    "                    parts.append(x)\n",
    "                    wav_name.append(self.wav_name[j])\n",
    "                else:idx = idx + [False]*x\n",
    "            else:\n",
    "                if(ab<self.abnormal):\n",
    "                    idx = idx + [True]*x\n",
    "                    ab = ab + x\n",
    "                    parts.append(x)\n",
    "                    wav_name.append(self.wav_name[j])\n",
    "                else:idx = idx + [False]*x\n",
    "            left = left + x\n",
    "        self.trainY = self.trainY[idx]\n",
    "        self.trainX = np.transpose(np.transpose(self.trainX)[idx])\n",
    "        self.train_parts = parts\n",
    "        self.wav_name = wav_name\n",
    "        self.total = nn+ab\n",
    "        self.domainY = self.domainY[:self.total]\n",
    "    def parts(self):\n",
    "        y = 0\n",
    "        nn = 0\n",
    "        ab = 0\n",
    "        for x in self.train_parts:\n",
    "            if(sum(self.trainY[y:y+int(x)])>0):\n",
    "                ab = ab + 1\n",
    "            else: nn = nn +1 \n",
    "            y = int(x)+y\n",
    "        #print(nn+ab,nn,ab)\n",
    "        return nn,ab\n",
    "    def pie(self):\n",
    "        colors = ['gold','lightskyblue']\n",
    "        explode = (0.07, 0)\n",
    "        size = [self.normal,self.abnormal]\n",
    "        labels = ['N', 'Ab']\n",
    "        plt.pie(size,labels=labels,colors = colors,startangle=140,explode=explode,\n",
    "               shadow=True,autopct=self.value)\n",
    "        plt.title(self.dom)\n",
    "    def value(self,val):\n",
    "        return int(self.total*val/100)\n",
    "    def details(self):\n",
    "        if(self.trainX is  None):print(\"TrainX None/ \",end='')\n",
    "        if(self.trainY is  None):print(\"trainY None/ \",end='')\n",
    "        if(self.domainY is None):print(\"Dom Y/ \",end='')\n",
    "        if(self.train_parts is  None):print(\"train parts/ \")\n",
    "        if(self.valX is None):print(\"valX/ \",end='')\n",
    "        if(self.valY is None) :print(\"valY/ \",end='')\n",
    "        if(self.valdomY is None):print(\"Valdom/ \",end='')\n",
    "        if(self.val_parts is  None):print(\"val parts/ \")"
   ]
  },
  {
   "cell_type": "code",
   "execution_count": 206,
   "metadata": {
    "scrolled": true
   },
   "outputs": [],
   "source": [
    "d = Data(fold_dir,'fold_a.mat','a',shuffle = 1,split=0.1)"
   ]
  },
  {
   "cell_type": "code",
   "execution_count": 199,
   "metadata": {},
   "outputs": [
    {
     "data": {
      "text/plain": [
       "((2500, 13899), (13899,), 13899, (2500, 1093))"
      ]
     },
     "execution_count": 199,
     "metadata": {},
     "output_type": "execute_result"
    }
   ],
   "source": [
    "d.trainX.shape, d.trainY.shape, sum(d.train_parts),d.valX.shape"
   ]
  },
  {
   "cell_type": "code",
   "execution_count": 205,
   "metadata": {},
   "outputs": [],
   "source": [
    "s0 = d.val_wav_name"
   ]
  },
  {
   "cell_type": "code",
   "execution_count": 207,
   "metadata": {},
   "outputs": [],
   "source": [
    "s1 = d.val_wav_name"
   ]
  },
  {
   "cell_type": "code",
   "execution_count": 48,
   "metadata": {},
   "outputs": [
    {
     "name": "stdout",
     "output_type": "stream",
     "text": [
      "['trainX', 'trainY', 'train_files', 'train_parts', 'valX', 'valY', 'val_files', 'val_parts']\n",
      "val parts None\n"
     ]
    }
   ],
   "source": [
    "dd = Data(fold_dir,'compare.mat','i',True)\n",
    "dd.details()"
   ]
  },
  {
   "cell_type": "code",
   "execution_count": 213,
   "metadata": {},
   "outputs": [],
   "source": [
    "s0nots1 = [x for x in s0 if x not in s1]\n",
    "s0s1 = [x for x in s0 if x in s1]"
   ]
  },
  {
   "cell_type": "code",
   "execution_count": 214,
   "metadata": {
    "scrolled": true
   },
   "outputs": [
    {
     "data": {
      "text/plain": [
       "(['a0232.wav',\n",
       "  'a0168.wav',\n",
       "  'a0385.wav',\n",
       "  'a0264.wav',\n",
       "  'a0308.wav',\n",
       "  'a0181.wav',\n",
       "  'a0122.wav',\n",
       "  'a0126.wav',\n",
       "  'a0007.wav',\n",
       "  'a0326.wav',\n",
       "  'a0382.wav',\n",
       "  'a0237.wav',\n",
       "  'a0054.wav',\n",
       "  'a0256.wav',\n",
       "  'a0368.wav',\n",
       "  'a0178.wav',\n",
       "  'a0161.wav',\n",
       "  'a0119.wav',\n",
       "  'a0248.wav',\n",
       "  'a0377.wav',\n",
       "  'a0093.wav',\n",
       "  'a0037.wav',\n",
       "  'a0029.wav',\n",
       "  'a0116.wav',\n",
       "  'a0344.wav',\n",
       "  'a0071.wav',\n",
       "  'a0082.wav'],\n",
       " ['a0387.wav',\n",
       "  'a0032.wav',\n",
       "  'a0132.wav',\n",
       "  'a0175.wav',\n",
       "  'a0139.wav',\n",
       "  'a0046.wav',\n",
       "  'a0290.wav',\n",
       "  'a0201.wav',\n",
       "  'a0155.wav',\n",
       "  'a0295.wav',\n",
       "  'a0165.wav',\n",
       "  'a0327.wav',\n",
       "  'a0143.wav',\n",
       "  'a0233.wav',\n",
       "  'a0375.wav',\n",
       "  'a0316.wav',\n",
       "  'a0124.wav',\n",
       "  'a0024.wav',\n",
       "  'a0068.wav',\n",
       "  'a0224.wav',\n",
       "  'a0104.wav',\n",
       "  'a0060.wav',\n",
       "  'a0101.wav',\n",
       "  'a0341.wav',\n",
       "  'a0004.wav',\n",
       "  'a0319.wav',\n",
       "  'a0182.wav',\n",
       "  'a0388.wav',\n",
       "  'a0237.wav'],\n",
       " ['a0237.wav'])"
      ]
     },
     "execution_count": 214,
     "metadata": {},
     "output_type": "execute_result"
    }
   ],
   "source": [
    "s0,s1,s0s1"
   ]
  },
  {
   "cell_type": "code",
   "execution_count": 148,
   "metadata": {},
   "outputs": [
    {
     "data": {
      "text/plain": [
       "(array([3, 4, 1, 5]), array([1, 3, 4, 5]), [2, 0, 1, 3])"
      ]
     },
     "execution_count": 148,
     "metadata": {},
     "output_type": "execute_result"
    }
   ],
   "source": [
    "pp,pp[pr],pr"
   ]
  },
  {
   "cell_type": "code",
   "execution_count": 8,
   "metadata": {},
   "outputs": [],
   "source": [
    "x = np.random.randint(0,10,(2500,7000))\n",
    "#p = np.random.randint(20,40,(2500,7000))"
   ]
  },
  {
   "cell_type": "code",
   "execution_count": 152,
   "metadata": {},
   "outputs": [
    {
     "data": {
      "text/plain": [
       "(array([[2, 1, 3, 5, 5, 6, 7, 7, 8, 4, 1, 9, 8],\n",
       "        [5, 9, 5, 2, 0, 9, 2, 1, 9, 7, 9, 7, 6],\n",
       "        [1, 7, 4, 0, 0, 7, 2, 2, 4, 1, 6, 4, 0],\n",
       "        [6, 8, 1, 8, 7, 6, 0, 1, 8, 5, 9, 0, 3],\n",
       "        [3, 2, 0, 4, 2, 7, 2, 2, 6, 3, 2, 3, 5]]),\n",
       " array([[2, 1, 3, 5, 5, 6, 7, 7, 8, 4, 1, 9, 8],\n",
       "        [5, 9, 5, 2, 0, 9, 2, 1, 9, 7, 9, 7, 6],\n",
       "        [1, 7, 4, 0, 0, 7, 2, 2, 4, 1, 6, 4, 0],\n",
       "        [6, 8, 1, 8, 7, 6, 0, 1, 8, 5, 9, 0, 3],\n",
       "        [3, 2, 0, 4, 2, 7, 2, 2, 6, 3, 2, 3, 5]]),\n",
       " array([ 3, 28,  8, 29, 28, 25,  0,  7, 25, 14,  1,  6, 13]),\n",
       " array([ 3, 28,  8, 29, 28, 25,  0,  7, 25, 14,  1,  6, 13]))"
      ]
     },
     "execution_count": 152,
     "metadata": {},
     "output_type": "execute_result"
    }
   ],
   "source": [
    "xx = np.random.randint(0,10,(5,13))\n",
    "yy = np.random.randint(0,30,(13))\n",
    "xxx = xx.copy()\n",
    "yyy = yy.copy()\n",
    "xx,xxx,yy,yyy"
   ]
  },
  {
   "cell_type": "code",
   "execution_count": 159,
   "metadata": {},
   "outputs": [
    {
     "data": {
      "text/plain": [
       "(array([[2, 1, 3, 5, 5, 6, 7, 7, 8, 4, 1, 9, 8],\n",
       "        [5, 9, 5, 2, 0, 9, 2, 1, 9, 7, 9, 7, 6],\n",
       "        [1, 7, 4, 0, 0, 7, 2, 2, 4, 1, 6, 4, 0],\n",
       "        [6, 8, 1, 8, 7, 6, 0, 1, 8, 5, 9, 0, 3],\n",
       "        [3, 2, 0, 4, 2, 7, 2, 2, 6, 3, 2, 3, 5]]),\n",
       " array([ 3, 28,  8, 29, 28, 25,  0,  7, 25, 14,  1,  6, 13]),\n",
       " array([[8, 4, 1, 9, 8, 2, 1, 3, 7, 5, 5, 6, 7],\n",
       "        [9, 7, 9, 7, 6, 5, 9, 5, 1, 2, 0, 9, 2],\n",
       "        [4, 1, 6, 4, 0, 1, 7, 4, 2, 0, 0, 7, 2],\n",
       "        [8, 5, 9, 0, 3, 6, 8, 1, 1, 8, 7, 6, 0],\n",
       "        [6, 3, 2, 3, 5, 3, 2, 0, 2, 4, 2, 7, 2]]),\n",
       " array([25, 14,  1,  6, 13,  3, 28,  8,  7, 29, 28, 25,  0]))"
      ]
     },
     "execution_count": 159,
     "metadata": {},
     "output_type": "execute_result"
    }
   ],
   "source": [
    "xx,yy,xxx,yyy"
   ]
  },
  {
   "cell_type": "code",
   "execution_count": 189,
   "metadata": {},
   "outputs": [
    {
     "data": {
      "text/plain": [
       "[3, 4, 1, 5]"
      ]
     },
     "execution_count": 189,
     "metadata": {},
     "output_type": "execute_result"
    }
   ],
   "source": [
    "pp = [3,4,1,5]\n",
    "pp"
   ]
  },
  {
   "cell_type": "code",
   "execution_count": 157,
   "metadata": {},
   "outputs": [
    {
     "data": {
      "text/plain": [
       "(array([3, 4, 1, 5]), [3, 0, 2, 1])"
      ]
     },
     "execution_count": 157,
     "metadata": {},
     "output_type": "execute_result"
    }
   ],
   "source": [
    "pr = [x for x in range(len(pp))]\n",
    "random.Random(1).shuffle(pr)\n",
    "pp,pr"
   ]
  },
  {
   "cell_type": "code",
   "execution_count": null,
   "metadata": {},
   "outputs": [],
   "source": []
  },
  {
   "cell_type": "code",
   "execution_count": 158,
   "metadata": {},
   "outputs": [],
   "source": [
    "s = 0\n",
    "for i,x in enumerate(pr):\n",
    "    xxx[:,s:s+pp[x]] = xx[:,sum(pp[:x]):sum(pp[:x])+pp[x]]\n",
    "    yyy[s:s+pp[x]] = yy[sum(pp[:x]):sum(pp[:x])+pp[x]]\n",
    "    s = s+pp[x]"
   ]
  },
  {
   "cell_type": "code",
   "execution_count": null,
   "metadata": {},
   "outputs": [],
   "source": []
  },
  {
   "cell_type": "code",
   "execution_count": 192,
   "metadata": {},
   "outputs": [
    {
     "data": {
      "text/plain": [
       "[5, 3, 1, 4]"
      ]
     },
     "execution_count": 192,
     "metadata": {},
     "output_type": "execute_result"
    }
   ],
   "source": [
    "[pp[pr[x]] for x in range(len(pp))]"
   ]
  },
  {
   "cell_type": "code",
   "execution_count": null,
   "metadata": {},
   "outputs": [],
   "source": [
    "combinations(dd.train_parts)"
   ]
  },
  {
   "cell_type": "code",
   "execution_count": 4,
   "metadata": {},
   "outputs": [],
   "source": [
    "class DataMerge():\n",
    "    def __init__(self,split = 0):\n",
    "        self.split = split\n",
    "        self.x_train = self.y_train = self.y_domain = self.train_parts = None\n",
    "        self.x_val = self.y_val = self.y_valdom = self.val_parts = None\n",
    "    def merge(self,data,train_test):\n",
    "        if(train_test):\n",
    "            print(\"HMM\")\n",
    "            if(self.x_val is None):self.x_val = data.trainX;\n",
    "            else:self.x_val = np.concatenate((self.x_val,data.trainX),axis = 1)\n",
    "            if(self.y_val is None):self.y_val = data.trainY\n",
    "            else:self.y_val = np.concatenate((self.y_val,data.trainY),axis = 0)\n",
    "            if(self.y_valdom is None):self.y_valdom = data.domainY\n",
    "            else:self.y_valdom = self.y_valdom+data.domainY\n",
    "            if(self.val_parts is None):\n",
    "                if(data.train_parts is not None):self.val_parts = data.train_parts\n",
    "            else:\n",
    "                if(data.train_parts is not None):\n",
    "                    self.val_parts = np.concatenate((self.val_parts,data.train_parts),axis = 0)\n",
    "                else:\n",
    "                    print(\"Data train parts unavailable\")\n",
    "            if(self.split>0):        \n",
    "                if(self.x_train is None):self.x_train = data.valX\n",
    "                else:self.x_train = np.concatenate((self.x_train,data.valX),axis = 1)\n",
    "                if(self.y_train is None):self.y_train =  data.valY\n",
    "                else:self.y_train = np.concatenate((self.y_train,data.valY),axis = 0)\n",
    "                if(self.y_domain is None):self.y_domain  =  data.valdomY\n",
    "                else:self.y_domain = self.y_domain+data.valdomY\n",
    "                if(self.train_parts is None):self.train_parts = data.val_parts;\n",
    "                else:\n",
    "                    if(data.val_parts is not None):\n",
    "                        self.train_parts = np.concatenate((self.train_parts,data.val_parts),axis = 0) \n",
    "                    else:\n",
    "                        print(\"Data train parts unavailable\")\n",
    "\n",
    "        else:\n",
    "            \n",
    "            if(self.x_train is None):self.x_train = data.trainX;\n",
    "            else:self.x_train = np.concatenate((self.x_train,data.trainX),axis = 1)\n",
    "            if(self.y_train is None):self.y_train = data.trainY;\n",
    "            else:self.y_train = np.concatenate((self.y_train,data.trainY),axis = 0)\n",
    "            if(self.y_domain is None):self.y_domain = data.domainY;\n",
    "            else:self.y_domain = self.y_domain+data.domainY\n",
    "            if(self.train_parts is None):\n",
    "                self.train_parts = data.train_parts;\n",
    "            else:\n",
    "                if(data.train_parts is not None):\n",
    "                    self.train_parts = np.concatenate((self.train_parts,data.train_parts),axis = 0) \n",
    "                else:\n",
    "                    print(\"Data train parts nai Train mergee \")\n",
    "\n",
    "def getData(fold_dir, train_folds, test_folds, split = 0):\n",
    "    try:\n",
    "        with open('../data/domain_filename.json', 'r') as fp:\n",
    "            foldname = json.load(fp)\n",
    "    except:\n",
    "        raise FileNotFoundError(\"The json file that maps domain character to filename is not here\")\n",
    "\n",
    "    allData = DataMerge(split)\n",
    "    for c in test_folds:\n",
    "        allData.merge(Data(fold_dir,foldname[c],c,severe = False,split=split),True)\n",
    "    for c in train_folds:\n",
    "        allData.merge(Data(fold_dir,foldname[c],c),False)\n",
    "        \n",
    "    return allData.x_train, allData.y_train, allData.y_domain, allData.train_parts,allData.x_val,allData.y_val,allData.y_valdom,allData.val_parts \n",
    "\n",
    "\n",
    "def reshape_folds(x, y):\n",
    "    x_train = []\n",
    "    for x1 in x:\n",
    "        x1 = np.transpose(x1[:, :])\n",
    "        x1 = np.reshape(x1, [x1.shape[0], x1.shape[1], 1])\n",
    "        x_train.append(x1)\n",
    "        print(\"reshaped x \", x1.shape)\n",
    "    y_train = []\n",
    "    for y1 in y:\n",
    "        y1 = np.reshape(y1, [y1.shape[0], 1])\n",
    "        y_train.append(y1)\n",
    "        print(\"reshaped Y \", y1.shape)\n",
    "\n",
    "    return x_train,y_train"
   ]
  },
  {
   "cell_type": "code",
   "execution_count": 5,
   "metadata": {},
   "outputs": [
    {
     "name": "stdout",
     "output_type": "stream",
     "text": [
      "../../feature/potes_1DCNN/balancedCV/folds/all_folds_wav_name/pascalB.mat\n",
      "True\n",
      "HMM\n",
      "../../feature/potes_1DCNN/balancedCV/folds/all_folds_wav_name/compare.mat\n",
      "True\n",
      "HMM\n",
      "../../feature/potes_1DCNN/balancedCV/folds/all_folds_wav_name/fold_a.mat\n",
      "True\n",
      "../../feature/potes_1DCNN/balancedCV/folds/all_folds_wav_name/fold_b.mat\n",
      "True\n",
      "../../feature/potes_1DCNN/balancedCV/folds/all_folds_wav_name/fold_c.mat\n",
      "True\n",
      "../../feature/potes_1DCNN/balancedCV/folds/all_folds_wav_name/fold_d.mat\n",
      "True\n",
      "../../feature/potes_1DCNN/balancedCV/folds/all_folds_wav_name/fold_e.mat\n",
      "True\n",
      "../../feature/potes_1DCNN/balancedCV/folds/all_folds_wav_name/fold_f.mat\n",
      "True\n",
      "../../feature/potes_1DCNN/balancedCV/folds/all_folds_wav_name/pascalA.mat\n",
      "True\n"
     ]
    }
   ],
   "source": [
    "hm = getData(fold_dir,'abcdefg','hi')"
   ]
  },
  {
   "cell_type": "code",
   "execution_count": null,
   "metadata": {},
   "outputs": [],
   "source": [
    "os.path.isfile"
   ]
  },
  {
   "cell_type": "code",
   "execution_count": 20,
   "metadata": {},
   "outputs": [
    {
     "name": "stdout",
     "output_type": "stream",
     "text": [
      "testc i\n",
      "HMM\n",
      "train  a\n",
      "train  b\n",
      "train  c\n",
      "train  d\n",
      "train  e\n",
      "train  f\n",
      "train  g\n",
      "train  h\n"
     ]
    }
   ],
   "source": [
    "u,i,o,p,uu,ii,oo,pp = getData(fold_dir,'abcdefgh','i',split = 0.0)"
   ]
  },
  {
   "cell_type": "code",
   "execution_count": 130,
   "metadata": {},
   "outputs": [
    {
     "data": {
      "text/plain": [
       "((2500, 20275), (2500, 4159))"
      ]
     },
     "execution_count": 130,
     "metadata": {},
     "output_type": "execute_result"
    }
   ],
   "source": [
    "u.shape, uu.shape"
   ]
  },
  {
   "cell_type": "code",
   "execution_count": 133,
   "metadata": {},
   "outputs": [
    {
     "data": {
      "text/plain": [
       "((2500, 19734), (2500, 4700))"
      ]
     },
     "execution_count": 133,
     "metadata": {},
     "output_type": "execute_result"
    }
   ],
   "source": [
    "u.shape, uu.shape"
   ]
  },
  {
   "cell_type": "code",
   "execution_count": 15,
   "metadata": {},
   "outputs": [],
   "source": [
    "fails = ['fold_a.mat',\n",
    " 'fold_b.mat',\n",
    " 'fold_c.mat',\n",
    " 'fold_d.mat',\n",
    " 'fold_e.mat',\n",
    " 'fold_f.mat',\n",
    " 'pascalA.mat',\n",
    " 'pascalB.mat',\n",
    " 'compare.mat']"
   ]
  },
  {
   "cell_type": "code",
   "execution_count": 18,
   "metadata": {},
   "outputs": [
    {
     "name": "stdout",
     "output_type": "stream",
     "text": [
      "fold_a.mat\n",
      "valX/ valY/ Valdom/ val parts/ \n",
      "<class 'numpy.ndarray'> <class 'numpy.ndarray'> <class 'list'> <class 'numpy.ndarray'>\n",
      "fold_b.mat\n",
      "valX/ valY/ Valdom/ val parts/ \n",
      "<class 'numpy.ndarray'> <class 'numpy.ndarray'> <class 'list'> <class 'numpy.ndarray'>\n",
      "fold_c.mat\n",
      "valX/ valY/ Valdom/ val parts/ \n",
      "<class 'numpy.ndarray'> <class 'numpy.ndarray'> <class 'list'> <class 'numpy.ndarray'>\n",
      "fold_d.mat\n",
      "valX/ valY/ Valdom/ val parts/ \n",
      "<class 'numpy.ndarray'> <class 'numpy.ndarray'> <class 'list'> <class 'numpy.ndarray'>\n",
      "fold_e.mat\n",
      "valX/ valY/ Valdom/ val parts/ \n",
      "<class 'numpy.ndarray'> <class 'numpy.ndarray'> <class 'list'> <class 'list'>\n",
      "fold_f.mat\n",
      "valX/ valY/ Valdom/ val parts/ \n",
      "<class 'numpy.ndarray'> <class 'numpy.ndarray'> <class 'list'> <class 'numpy.ndarray'>\n",
      "pascalA.mat\n",
      "valX/ valY/ Valdom/ val parts/ \n",
      "<class 'numpy.ndarray'> <class 'numpy.ndarray'> <class 'list'> <class 'numpy.ndarray'>\n",
      "pascalB.mat\n",
      "valX/ valY/ Valdom/ val parts/ \n",
      "<class 'numpy.ndarray'> <class 'numpy.ndarray'> <class 'list'> <class 'numpy.ndarray'>\n",
      "compare.mat\n",
      "valX/ valY/ Valdom/ val parts/ \n",
      "<class 'numpy.ndarray'> <class 'numpy.ndarray'> <class 'list'> <class 'numpy.ndarray'>\n"
     ]
    }
   ],
   "source": [
    "for (x,n) in zip(fails,'abcdefghi'):\n",
    "    d = Data(fold_dir,x,n,split=0.0)\n",
    "    print(x)\n",
    "    d.details()\n",
    "    d.types()"
   ]
  },
  {
   "cell_type": "code",
   "execution_count": 98,
   "metadata": {},
   "outputs": [
    {
     "data": {
      "text/plain": [
       "True"
      ]
     },
     "execution_count": 98,
     "metadata": {},
     "output_type": "execute_result"
    }
   ],
   "source": [
    "ww = [2,2,2,2]\n",
    "all([x==2 for x in ww])"
   ]
  },
  {
   "cell_type": "code",
   "execution_count": 101,
   "metadata": {},
   "outputs": [
    {
     "data": {
      "text/plain": [
       "True"
      ]
     },
     "execution_count": 101,
     "metadata": {},
     "output_type": "execute_result"
    }
   ],
   "source": [
    "'fold_e' in \"fold_e_dfasfd\""
   ]
  },
  {
   "cell_type": "code",
   "execution_count": null,
   "metadata": {},
   "outputs": [],
   "source": []
  }
 ],
 "metadata": {
  "kernelspec": {
   "display_name": "Python 3",
   "language": "python",
   "name": "python3"
  },
  "language_info": {
   "codemirror_mode": {
    "name": "ipython",
    "version": 3
   },
   "file_extension": ".py",
   "mimetype": "text/x-python",
   "name": "python",
   "nbconvert_exporter": "python",
   "pygments_lexer": "ipython3",
   "version": "3.7.4"
  }
 },
 "nbformat": 4,
 "nbformat_minor": 2
}
