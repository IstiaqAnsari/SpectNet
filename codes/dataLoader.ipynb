{
 "cells": [
  {
   "cell_type": "code",
   "execution_count": 1,
   "metadata": {},
   "outputs": [],
   "source": [
    "import os,tables,numpy as np,matplotlib.pyplot as plt,pandas as pd,json\n",
    "from scipy.io import loadmat\n",
    "from collections import Counter\n",
    "from dataholder import Data"
   ]
  },
  {
   "cell_type": "code",
   "execution_count": 100,
   "metadata": {},
   "outputs": [
    {
     "data": {
      "text/plain": [
       "'/media/mhealthra2/Data/heart_sound/Adversarial-Heart-Sound-Classification/codes'"
      ]
     },
     "execution_count": 100,
     "metadata": {},
     "output_type": "execute_result"
    }
   ],
   "source": [
    "os.getcwd()"
   ]
  },
  {
   "cell_type": "code",
   "execution_count": 104,
   "metadata": {},
   "outputs": [
    {
     "data": {
      "text/plain": [
       "['compare.mat',\n",
       " 'fold_a.mat',\n",
       " 'fold_b.mat',\n",
       " 'fold_c.mat',\n",
       " 'fold_d.mat',\n",
       " 'fold_e.mat',\n",
       " 'fold_f.mat',\n",
       " 'pascalA.mat',\n",
       " 'pascalB.mat',\n",
       " 'readme.txt']"
      ]
     },
     "execution_count": 104,
     "metadata": {},
     "output_type": "execute_result"
    }
   ],
   "source": [
    "fold_dir = '../../feature/potes_1DCNN/balancedCV/folds/folds_phys_compare_pascal/'\n",
    "os.listdir(fold_dir)"
   ]
  },
  {
   "cell_type": "code",
   "execution_count": 194,
   "metadata": {},
   "outputs": [],
   "source": [
    "import matplotlib.pyplot as plt,h5py\n",
    "from collections import Counter\n",
    "\n",
    "class Data():\n",
    "    def __init__(self,path,f,n):\n",
    "        self.data = h5py.File(path+f, 'r')\n",
    "        self.file = f\n",
    "        self.dom = n\n",
    "        self.trainX = self.data['trainX']\n",
    "        self.trainY = self.data['trainY'][:][0]\n",
    "        self.train_parts = self.data['train_parts'][0]\n",
    "        self.valX = None\n",
    "        self.valY = None\n",
    "        self.normfiles, self.abnormfiles = self.parts()\n",
    "        self.domainY = [n]*self.trainY.shape[0]\n",
    "        if(f[:3]=='com'):\n",
    "            self.trainY[self.trainY>0] = 1\n",
    "            self.valX = self.data['valX']\n",
    "            self.valY = self.data['valY'][:][0]\n",
    "            self.valY[self.valY>0] = 1\n",
    "        elif(f[:3]=='pas'):\n",
    "            self.trainY[self.trainY<0] = 0\n",
    "        else:\n",
    "            self.trainY[self.trainY<0] = 0\n",
    "        #print(Counter(self.trainY))\n",
    "        self.normal = Counter(self.trainY)[0]\n",
    "        self.abnormal = Counter(self.trainY)[1]\n",
    "        self.total = self.normal+self.abnormal\n",
    "        if('fold_e' in f):\n",
    "            nn = ab = 0\n",
    "            idx = []\n",
    "            for x in self.trainY:\n",
    "                if x==0:\n",
    "                    if(nn<self.abnormal):\n",
    "                        idx.append(True)\n",
    "                        nn += 1\n",
    "                    else:idx.append(False);\n",
    "                else:\n",
    "                    if(ab<self.abnormal):\n",
    "                        idx.append(True)\n",
    "                        ab += 1\n",
    "                    else:idx.append(False);\n",
    "            self.trainY = self.trainY[idx]\n",
    "            self.trainX = np.transpose(np.transpose(self.trainX)[idx])\n",
    "            self.train_parts = None\n",
    "            self.total = nn+ab\n",
    "            self.domainY = self.domainY[:self.total]\n",
    "            self.normfiles, self.abnormfiles = nn,ab\n",
    "    def parts(self):\n",
    "        y = 0\n",
    "        nn = 0\n",
    "        ab = 0\n",
    "        for x in self.train_parts:\n",
    "            if(sum(self.trainY[y:y+int(x)])>0):\n",
    "                ab = ab + 1\n",
    "            else: nn = nn +1 \n",
    "            y = int(x)+y\n",
    "        return nn,ab\n",
    "    def pie(self):\n",
    "        colors = ['gold','lightskyblue']\n",
    "        explode = (0.07, 0)\n",
    "        size = [self.normal,self.abnormal]\n",
    "        labels = ['N', 'Ab']\n",
    "        plt.pie(size,labels=labels,colors = colors,startangle=140,explode=explode,\n",
    "               shadow=True,autopct=self.value)\n",
    "        plt.title(self.dom)"
   ]
  },
  {
   "cell_type": "code",
   "execution_count": 193,
   "metadata": {
    "scrolled": true
   },
   "outputs": [
    {
     "name": "stdout",
     "output_type": "stream",
     "text": [
      "57642\n",
      "5704\n"
     ]
    },
    {
     "data": {
      "text/plain": [
       "<__main__.Data at 0x7ff5a901e320>"
      ]
     },
     "execution_count": 193,
     "metadata": {},
     "output_type": "execute_result"
    }
   ],
   "source": [
    "Data(fold_dir,'fold_e.mat','e')\n"
   ]
  },
  {
   "cell_type": "code",
   "execution_count": 201,
   "metadata": {},
   "outputs": [],
   "source": [
    "class DataMerge():\n",
    "    def __init__(self):\n",
    "        self.x_train = self.y_train = self.y_domain = self.train_parts = None\n",
    "    def merge(self,data):\n",
    "        if(self.x_train is None):\n",
    "            self.x_train = data.trainX;\n",
    "            self.y_train = data.trainY;\n",
    "            self.y_domain = data.domainY;\n",
    "            self.train_parts = data.train_parts;\n",
    "        else:\n",
    "            self.x_train = np.concatenate((self.x_train,data.trainX),axis = 1)\n",
    "            self.y_train = np.concatenate((self.y_train,data.trainY),axis = 0)\n",
    "            self.y_domain = self.y_domain+data.domainY\n",
    "            #print(\"before\", self.train_parts.shape,data.train_parts.shape)\n",
    "            if(data.train_parts is not None):\n",
    "                self.train_parts = np.concatenate((self.train_parts,data.train_parts),axis = 0)            \n",
    "            #print(\"AAAAfter\", self.train_parts.shape)"
   ]
  },
  {
   "cell_type": "code",
   "execution_count": 85,
   "metadata": {},
   "outputs": [],
   "source": [
    "def getData(path, folds):\n",
    "    try:\n",
    "        with open('../data/domain_filename.json', 'r') as fp:\n",
    "            foldname = json.load(fp)\n",
    "    except:\n",
    "        raise FileNotFoundError(\"The json file that maps domain character to filename is not here\")\n",
    "        \n",
    "    allData = DataMerge()\n",
    "    for c in folds:\n",
    "        allData.merge(Data(fold_dir,foldname[c],c))\n",
    "    return allData.x_train, allData.y_train, allData.y_domain, allData.train_parts"
   ]
  },
  {
   "cell_type": "code",
   "execution_count": null,
   "metadata": {},
   "outputs": [],
   "source": [
    "def reshape_folds(x_train, y_train,x_val, y_val):\n",
    "    x1 = np.reshape(x_train, [x_train.shape[0], x_train.shape[1], 1])\n",
    "    y_train = np.reshape(y_train, [y_train.shape[0], 1])\n",
    "\n",
    "    print(x1.shape)\n",
    "    print(y_train.shape)\n",
    "    if(x_val is not None):\n",
    "        v1 = np.transpose(x_val[:, :])\n",
    "\n",
    "        v1 = np.reshape(v1, [v1.shape[0], v1.shape[1], 1])\n",
    "\n",
    "        y_val = np.reshape(y_val, [y_val.shape[0], 1])\n",
    "\n",
    "        print(v1.shape)\n",
    "        print(y_val.shape)\n",
    "        return x1, y_train, v1 , y_val\n",
    "    return x1,y_train"
   ]
  },
  {
   "cell_type": "code",
   "execution_count": 202,
   "metadata": {},
   "outputs": [],
   "source": [
    "u,i,o,p = getData(fold_dir,'bdefghi')"
   ]
  },
  {
   "cell_type": "code",
   "execution_count": 92,
   "metadata": {},
   "outputs": [
    {
     "data": {
      "text/plain": [
       "((2500, 19734), (19734,), 19734, (839,))"
      ]
     },
     "execution_count": 92,
     "metadata": {},
     "output_type": "execute_result"
    }
   ],
   "source": [
    "u.shape,i.shape,len(o),p.shape"
   ]
  },
  {
   "cell_type": "code",
   "execution_count": 10,
   "metadata": {},
   "outputs": [
    {
     "data": {
      "text/plain": [
       "array(['abcdcdef'], dtype='<U8')"
      ]
     },
     "execution_count": 10,
     "metadata": {},
     "output_type": "execute_result"
    }
   ],
   "source": [
    "np.unique('abcdcdef')"
   ]
  },
  {
   "cell_type": "code",
   "execution_count": 98,
   "metadata": {},
   "outputs": [
    {
     "data": {
      "text/plain": [
       "True"
      ]
     },
     "execution_count": 98,
     "metadata": {},
     "output_type": "execute_result"
    }
   ],
   "source": [
    "ww = [2,2,2,2]\n",
    "all([x==2 for x in ww])"
   ]
  },
  {
   "cell_type": "code",
   "execution_count": 101,
   "metadata": {},
   "outputs": [
    {
     "data": {
      "text/plain": [
       "True"
      ]
     },
     "execution_count": 101,
     "metadata": {},
     "output_type": "execute_result"
    }
   ],
   "source": [
    "'fold_e' in \"fold_e_dfasfd\""
   ]
  },
  {
   "cell_type": "code",
   "execution_count": null,
   "metadata": {},
   "outputs": [],
   "source": []
  }
 ],
 "metadata": {
  "kernelspec": {
   "display_name": "Python 3",
   "language": "python",
   "name": "python3"
  },
  "language_info": {
   "codemirror_mode": {
    "name": "ipython",
    "version": 3
   },
   "file_extension": ".py",
   "mimetype": "text/x-python",
   "name": "python",
   "nbconvert_exporter": "python",
   "pygments_lexer": "ipython3",
   "version": "3.7.3"
  }
 },
 "nbformat": 4,
 "nbformat_minor": 2
}
