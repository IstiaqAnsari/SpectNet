{
 "cells": [
  {
   "cell_type": "code",
   "execution_count": 4,
   "metadata": {},
   "outputs": [],
   "source": [
    "from tkinter import *\n",
    "import os"
   ]
  },
  {
   "cell_type": "code",
   "execution_count": 83,
   "metadata": {},
   "outputs": [
    {
     "name": "stdout",
     "output_type": "stream",
     "text": [
      "[<tkinter.Label object .!label>, <tkinter.Label object .!label2>, <tkinter.Label object .!label3>, <tkinter.Label object .!label4>, <tkinter.Label object .!label5>, <tkinter.Label object .!label6>, <tkinter.Label object .!label7>, <tkinter.Label object .!label8>, <tkinter.Label object .!label9>, <tkinter.Label object .!label10>]\n"
     ]
    }
   ],
   "source": [
    "\n",
    "window = Tk()\n",
    "window.configure(background='black')\n",
    "window.title(\"Welcome to LikeGeeks app\")\n",
    "window.minsize(300, 300) \n",
    "\n",
    "\n",
    "log_names = os.listdir(log_dir)\n",
    "label_text = [(window,text=x.split(' ')[0]) for x in os.listdir(log_dir)]\n",
    "print(label_text)\n",
    "var = []\n",
    "labels = []\n",
    "checkbuttons = []\n",
    "for i,text in enumerate(label_text):\n",
    "    var1 = IntVar()\n",
    "    lb = Label(window,text=text,bg=\"white\",font =('Verdana', 15),width=40)\n",
    "    lb.grid(column=1,row=i)\n",
    "    lbt = Checkbutton(window, bg=\"white\",variable=var1)\n",
    "    lbt.grid(column=0,row=i)\n",
    "    labels.append(lb)\n",
    "    checkbuttons.append(lbt)\n",
    "    var.append(var1)\n",
    "    del lb,lbt,var1\n",
    "\n",
    "window.mainloop()"
   ]
  },
  {
   "cell_type": "code",
   "execution_count": 65,
   "metadata": {},
   "outputs": [],
   "source": [
    "def getText(lb):\n",
    "    print(lbt.option_get())"
   ]
  },
  {
   "cell_type": "code",
   "execution_count": 2,
   "metadata": {},
   "outputs": [],
   "source": [
    "log_dir = '../../Adversarial Heart Sound Results/logs/'"
   ]
  },
  {
   "cell_type": "code",
   "execution_count": null,
   "metadata": {},
   "outputs": [],
   "source": [
    "log_names = os.listdir(log_dir)\n",
    "labels = [Label(window,text=x.split(' ')[0]) for x in os.listdir(log_dir)]"
   ]
  },
  {
   "cell_type": "code",
   "execution_count": null,
   "metadata": {},
   "outputs": [],
   "source": [
    "lables = [Label(window,text=x.split(' ')[0]) for x in os.listdir(log_dir)]\n"
   ]
  },
  {
   "cell_type": "code",
   "execution_count": 82,
   "metadata": {},
   "outputs": [
    {
     "name": "stdout",
     "output_type": "stream",
     "text": [
      "1\n",
      "1\n",
      "0\n",
      "0\n",
      "0\n",
      "0\n",
      "1\n",
      "0\n",
      "0\n",
      "0\n"
     ]
    },
    {
     "data": {
      "text/plain": [
       "[None, None, None, None, None, None, None, None, None, None]"
      ]
     },
     "execution_count": 82,
     "metadata": {},
     "output_type": "execute_result"
    }
   ],
   "source": [
    "[print(v.get()) for v in var]"
   ]
  },
  {
   "cell_type": "code",
   "execution_count": 76,
   "metadata": {},
   "outputs": [
    {
     "data": {
      "text/plain": [
       "<tkinter.IntVar at 0x7fe67d629c18>"
      ]
     },
     "execution_count": 76,
     "metadata": {},
     "output_type": "execute_result"
    }
   ],
   "source": [
    "var1"
   ]
  },
  {
   "cell_type": "code",
   "execution_count": null,
   "metadata": {},
   "outputs": [],
   "source": []
  },
  {
   "cell_type": "code",
   "execution_count": null,
   "metadata": {},
   "outputs": [],
   "source": []
  },
  {
   "cell_type": "code",
   "execution_count": null,
   "metadata": {},
   "outputs": [],
   "source": []
  }
 ],
 "metadata": {
  "kernelspec": {
   "display_name": "Python 3",
   "language": "python",
   "name": "python3"
  },
  "language_info": {
   "codemirror_mode": {
    "name": "ipython",
    "version": 3
   },
   "file_extension": ".py",
   "mimetype": "text/x-python",
   "name": "python",
   "nbconvert_exporter": "python",
   "pygments_lexer": "ipython3",
   "version": "3.7.3"
  }
 },
 "nbformat": 4,
 "nbformat_minor": 2
}
