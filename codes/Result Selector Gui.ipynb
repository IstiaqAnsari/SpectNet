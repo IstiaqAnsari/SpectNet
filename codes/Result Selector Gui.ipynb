{
 "cells": [
  {
   "cell_type": "code",
   "execution_count": 31,
   "metadata": {},
   "outputs": [],
   "source": [
    "from tkinter import *\n",
    "import os,numpy as np\n",
    "from ResultAnalyser import ResultsComparison\n",
    "from collections import Counter"
   ]
  },
  {
   "cell_type": "code",
   "execution_count": 104,
   "metadata": {},
   "outputs": [],
   "source": [
    "def showResults():\n",
    "    idx = [(v.get()==1) for v in var]\n",
    "    selected = list(np.array(log_names)[idx])\n",
    "    print(selected)\n",
    "    if(len(selected)>0):\n",
    "        res = ResultsComparison(selected)\n",
    "        res.show()\n",
    "    else:\n",
    "         print(\"None selected \")   \n",
    "def refreshList(var,labels,checkbuttons):\n",
    "    log_names = os.listdir(log_dir)\n",
    "    label_text = [x.split(' ')[0] for x in os.listdir(log_dir)]\n",
    "    colors = color_similarity(label_text)\n",
    "    var.clear()\n",
    "    labels.clear()\n",
    "    checkbuttons.clear()\n",
    "    for i,text in enumerate(label_text):\n",
    "        var1 = IntVar()\n",
    "        lb = Label(window,text=text,bg=colors[i],font =('Verdana', 15),width=40).grid(column=1,row=i)\n",
    "        lbt = Checkbutton(window, bg=\"white\",variable=var1).grid(column=0,row=i)\n",
    "        labels.append(lb)\n",
    "        checkbuttons.append(lbt)\n",
    "        var.append(var1)\n",
    "        del lb,lbt,var1\n",
    "def color_similarity(label_text):\n",
    "    labs = [x.split('_')[0]+'_'+x.split('_')[1] if(len(x.split('_'))>1) else x for x in label_text ]\n",
    "    col = list(np.arange(255,155,-100//len(Counter(labs))))\n",
    "    label_color = np.array(['#%02x%02x%02x' % (255,255,255)]*len(labs))\n",
    "    for k,c in zip(list(Counter(labs).keys()),col):\n",
    "        idx = [l==k for l in labs]\n",
    "        label_color[idx] = '#%02x%02x%02x' % (c, c, c)\n",
    "    return list(label_color)"
   ]
  },
  {
   "cell_type": "code",
   "execution_count": 105,
   "metadata": {},
   "outputs": [],
   "source": [
    "log_dir = '../../Adversarial Heart Sound Results/logs/'\n",
    "\n",
    "window = Tk()\n",
    "window.configure(background='black')\n",
    "window.title(\"Welcome to LikeGeeks app\")\n",
    "window.minsize(300, 300) \n",
    "\n",
    "log_names = os.listdir(log_dir)\n",
    "label_text = [x.split(' ')[0] for x in os.listdir(log_dir)]\n",
    "var = []\n",
    "labels = []\n",
    "checkbuttons = []\n",
    "refreshList(var,labels,checkbuttons)\n",
    "button = Button(window, text='Show Result Comparison ', fg='white',bg='grey',\n",
    "                font=('Verdana',15), command=showResults)\n",
    "refreshButton = Button(window, text='Refresh', fg='white',bg='grey',\n",
    "                font=('Verdana',12), command=lambda:refreshList(var,labels,checkbuttons))\n",
    "button.grid(column=1)\n",
    "refreshButton.grid(column=1)\n",
    "window.mainloop()"
   ]
  },
  {
   "cell_type": "code",
   "execution_count": null,
   "metadata": {},
   "outputs": [],
   "source": []
  },
  {
   "cell_type": "code",
   "execution_count": 82,
   "metadata": {},
   "outputs": [
    {
     "name": "stdout",
     "output_type": "stream",
     "text": [
      "['abcdefgh_i', 'abcdefgh_i', 'abcdefi_gh', 'abcdefi_gh', 'abdfi_c', 'abdf_c', 'abdf_c', 'bcdfghi_a', 'bcdfghi_a', 'bcdfi_a', 'bcdf_a', 'dann']\n"
     ]
    }
   ],
   "source": [
    "labs = [x.split('_')[0]+'_'+x.split('_')[1] if(len(x.split('_'))>1) else x for x in label_text ]\n",
    "print(labs)\n",
    "col = list(np.arange(255,155,-100//len(Counter(labs))))\n",
    "label_color = np.array(['#%02x%02x%02x' % (255,255,255)]*len(labs))\n",
    "for k,c in zip(list(Counter(labs).keys()),col):\n",
    "    idx = [l==k for l in labs]\n",
    "    label_color[idx] = '#%02x%02x%02x' % (c, c, c)"
   ]
  },
  {
   "cell_type": "code",
   "execution_count": 87,
   "metadata": {},
   "outputs": [
    {
     "data": {
      "text/plain": [
       "['#ffffff',\n",
       " '#ffffff',\n",
       " '#f2f2f2',\n",
       " '#f2f2f2',\n",
       " '#e5e5e5',\n",
       " '#d8d8d8',\n",
       " '#d8d8d8',\n",
       " '#cbcbcb',\n",
       " '#cbcbcb',\n",
       " '#bebebe',\n",
       " '#b1b1b1',\n",
       " '#a4a4a4']"
      ]
     },
     "execution_count": 87,
     "metadata": {},
     "output_type": "execute_result"
    }
   ],
   "source": [
    "color_similarity(label_text)"
   ]
  },
  {
   "cell_type": "code",
   "execution_count": 71,
   "metadata": {},
   "outputs": [],
   "source": [
    "idx = [l=='abcdefgh_i' for l in labs]"
   ]
  },
  {
   "cell_type": "code",
   "execution_count": 79,
   "metadata": {},
   "outputs": [],
   "source": [
    "label_color = np.array(['#%02x%02x%02x' % (255,255,255)]*len(labs))\n",
    "label_color[idx] = '#%02x%02x%02x' % (0,0,0)"
   ]
  },
  {
   "cell_type": "code",
   "execution_count": 78,
   "metadata": {},
   "outputs": [
    {
     "data": {
      "text/plain": [
       "array(['#000000', '#000000', '#ffffff', '#ffffff', '#ffffff', '#ffffff',\n",
       "       '#ffffff', '#ffffff', '#ffffff', '#ffffff', '#ffffff', '#ffffff'],\n",
       "      dtype='<U7')"
      ]
     },
     "execution_count": 78,
     "metadata": {},
     "output_type": "execute_result"
    }
   ],
   "source": [
    "label_color"
   ]
  },
  {
   "cell_type": "code",
   "execution_count": 32,
   "metadata": {},
   "outputs": [
    {
     "data": {
      "text/plain": [
       "[False,\n",
       " False,\n",
       " False,\n",
       " True,\n",
       " False,\n",
       " False,\n",
       " False,\n",
       " False,\n",
       " False,\n",
       " False,\n",
       " False,\n",
       " False]"
      ]
     },
     "execution_count": 32,
     "metadata": {},
     "output_type": "execute_result"
    }
   ],
   "source": [
    "idx = [(v.get()==1) for v in var]\n",
    "idx"
   ]
  },
  {
   "cell_type": "code",
   "execution_count": 33,
   "metadata": {},
   "outputs": [
    {
     "name": "stdout",
     "output_type": "stream",
     "text": [
      "3\n",
      "[0 1 2 3 4]\n",
      "[-1.  0.  1.]\n",
      "abcdefgh_i\n",
      "abcdefgh_i_tune_0.3\n",
      "abcdefi_gh\n"
     ]
    },
    {
     "data": {
      "image/png": "[encoded data removed]",
      "text/plain": [
       "<Figure size 576x360 with 1 Axes>"
      ]
     },
     "metadata": {
      "needs_background": "light"
     },
     "output_type": "display_data"
    }
   ],
   "source": [
    "a = ResultsComparison([x for x in os.listdir(log_dir)][:3])\n",
    "len(a.data)\n",
    "a.show()"
   ]
  },
  {
   "cell_type": "code",
   "execution_count": null,
   "metadata": {},
   "outputs": [],
   "source": []
  },
  {
   "cell_type": "code",
   "execution_count": null,
   "metadata": {},
   "outputs": [],
   "source": []
  }
 ],
 "metadata": {
  "kernelspec": {
   "display_name": "Python 3",
   "language": "python",
   "name": "python3"
  },
  "language_info": {
   "codemirror_mode": {
    "name": "ipython",
    "version": 3
   },
   "file_extension": ".py",
   "mimetype": "text/x-python",
   "name": "python",
   "nbconvert_exporter": "python",
   "pygments_lexer": "ipython3",
   "version": "3.7.3"
  }
 },
 "nbformat": 4,
 "nbformat_minor": 2
}
