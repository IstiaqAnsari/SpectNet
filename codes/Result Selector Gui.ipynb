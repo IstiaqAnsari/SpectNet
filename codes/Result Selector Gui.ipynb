{
 "cells": [
  {
   "cell_type": "code",
   "execution_count": 4,
   "metadata": {},
   "outputs": [],
   "source": [
    "from tkinter import *\n",
    "import os"
   ]
  },
  {
   "cell_type": "code",
   "execution_count": 66,
   "metadata": {},
   "outputs": [
    {
     "name": "stderr",
     "output_type": "stream",
     "text": [
      "Exception in Tkinter callback\n",
      "Traceback (most recent call last):\n",
      "  File \"/home/mhealthra2/anaconda3/lib/python3.7/tkinter/__init__.py\", line 1705, in __call__\n",
      "    return self.func(*args)\n",
      "  File \"<ipython-input-66-4a6f25591f61>\", line 8, in <lambda>\n",
      "    lbt = Checkbutton(window, bg=\"white\",command=lambda:getText(lb))\n",
      "  File \"<ipython-input-65-24433f4402dd>\", line 2, in getText\n",
      "    print(lbt.option_get())\n",
      "TypeError: option_get() missing 2 required positional arguments: 'name' and 'className'\n"
     ]
    }
   ],
   "source": [
    "\n",
    "window = Tk()\n",
    "window.configure(background='black')\n",
    "window.title(\"Welcome to LikeGeeks app\")\n",
    "window.minsize(300, 300) \n",
    "lb = Label(window,text=\"Orreaaaaaaaaaaaaaaaaaaaaa mama\",bg=\"white\",font =('Verdana', 15),width=40)\n",
    "lb.grid(column=1,row=0)\n",
    "lbt = Checkbutton(window, bg=\"white\",command=lambda:getText(lb))\n",
    "lbt.grid(column=0,row=0)\n",
    "\n",
    "lb2 = Label(window,text=\"Orre mama\",bg=\"white\",font =('Verdana', 15), width=40)\n",
    "lb2.grid(column=1,row=1)\n",
    "lbt2 = Checkbutton(window, bg=\"white\")\n",
    "lbt2.grid(column=0,row=1)\n",
    "\n",
    "\n",
    "window.mainloop()"
   ]
  },
  {
   "cell_type": "code",
   "execution_count": 65,
   "metadata": {},
   "outputs": [],
   "source": [
    "def getText(lb):\n",
    "    print(lbt.option_get())"
   ]
  },
  {
   "cell_type": "code",
   "execution_count": 2,
   "metadata": {},
   "outputs": [],
   "source": [
    "log_dir = '../../Adversarial Heart Sound Results/logs/'"
   ]
  },
  {
   "cell_type": "code",
   "execution_count": null,
   "metadata": {},
   "outputs": [],
   "source": [
    "lables = [Label(window,text=x.split(' ')[0]) for x in os.listdir(log_dir)]\n",
    "[l.grid(column=0,row=i) for i,l in enumerate(lables)]"
   ]
  },
  {
   "cell_type": "code",
   "execution_count": null,
   "metadata": {},
   "outputs": [],
   "source": []
  },
  {
   "cell_type": "code",
   "execution_count": null,
   "metadata": {},
   "outputs": [],
   "source": []
  },
  {
   "cell_type": "code",
   "execution_count": null,
   "metadata": {},
   "outputs": [],
   "source": []
  },
  {
   "cell_type": "code",
   "execution_count": null,
   "metadata": {},
   "outputs": [],
   "source": []
  },
  {
   "cell_type": "code",
   "execution_count": null,
   "metadata": {},
   "outputs": [],
   "source": []
  }
 ],
 "metadata": {
  "kernelspec": {
   "display_name": "Python 3",
   "language": "python",
   "name": "python3"
  },
  "language_info": {
   "codemirror_mode": {
    "name": "ipython",
    "version": 3
   },
   "file_extension": ".py",
   "mimetype": "text/x-python",
   "name": "python",
   "nbconvert_exporter": "python",
   "pygments_lexer": "ipython3",
   "version": "3.7.3"
  }
 },
 "nbformat": 4,
 "nbformat_minor": 2
}
