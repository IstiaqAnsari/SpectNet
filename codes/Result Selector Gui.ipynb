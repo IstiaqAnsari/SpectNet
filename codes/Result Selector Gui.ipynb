{
 "cells": [
  {
   "cell_type": "code",
   "execution_count": 2,
   "metadata": {},
   "outputs": [],
   "source": [
    "from tkinter import *\n",
    "import os,numpy as np\n",
    "from ResultAnalyser import ResultsComparison"
   ]
  },
  {
   "cell_type": "code",
   "execution_count": 5,
   "metadata": {},
   "outputs": [],
   "source": [
    "def showResults():\n",
    "    idx = [(v.get()==1) for v in var]\n",
    "    selected = list(np.array(log_names)[idx])\n",
    "    print(selected)\n",
    "    if(len(selected)>0):\n",
    "        res = ResultsComparison(selected)\n",
    "        res.show()\n",
    "    else:\n",
    "         print(\"None selected \")   "
   ]
  },
  {
   "cell_type": "code",
   "execution_count": 6,
   "metadata": {},
   "outputs": [
    {
     "name": "stdout",
     "output_type": "stream",
     "text": [
      "[]\n",
      "None selected \n"
     ]
    },
    {
     "name": "stderr",
     "output_type": "stream",
     "text": [
      "Exception in Tkinter callback\n",
      "Traceback (most recent call last):\n",
      "  File \"/home/mhealthra2/anaconda3/lib/python3.7/tkinter/__init__.py\", line 1705, in __call__\n",
      "    return self.func(*args)\n",
      "  File \"<ipython-input-5-c36e75badd0e>\", line 9, in showResults\n",
      "    res.show()\n",
      "UnboundLocalError: local variable 'res' referenced before assignment\n"
     ]
    }
   ],
   "source": [
    "log_dir = '../../Adversarial Heart Sound Results/logs/'\n",
    "\n",
    "window = Tk()\n",
    "window.configure(background='black')\n",
    "window.title(\"Welcome to LikeGeeks app\")\n",
    "window.minsize(300, 300) \n",
    "\n",
    "log_names = os.listdir(log_dir)\n",
    "label_text = [x.split(' ')[0] for x in os.listdir(log_dir)]\n",
    "var = []\n",
    "labels = []\n",
    "checkbuttons = []\n",
    "for i,text in enumerate(label_text):\n",
    "    var1 = IntVar()\n",
    "    lb = Label(window,text=text,bg=\"white\",font =('Verdana', 15),width=40)\n",
    "    lb.grid(column=1,row=i)\n",
    "    lbt = Checkbutton(window, bg=\"white\",variable=var1)\n",
    "    lbt.grid(column=0,row=i)\n",
    "    labels.append(lb)\n",
    "    checkbuttons.append(lbt)\n",
    "    var.append(var1)\n",
    "    del lb,lbt,var1\n",
    "button = Button(window, text='Show Result Comparison ', fg='white',bg='grey',\n",
    "                font=('Verdana',15), command=showResults)\n",
    "button.grid(column=1)\n",
    "window.mainloop()"
   ]
  },
  {
   "cell_type": "code",
   "execution_count": 3,
   "metadata": {},
   "outputs": [],
   "source": []
  },
  {
   "cell_type": "code",
   "execution_count": 112,
   "metadata": {},
   "outputs": [],
   "source": [
    "idx = [(v.get()==1) for v in var]"
   ]
  },
  {
   "cell_type": "code",
   "execution_count": 7,
   "metadata": {},
   "outputs": [
    {
     "name": "stdout",
     "output_type": "stream",
     "text": [
      "3\n",
      "[0 1 2 3 4]\n",
      "[-1.  0.  1.]\n",
      "abcdefgh_i_tune_0.3\n",
      "abdfi_c\n",
      "abdf_c\n"
     ]
    },
    {
     "data": {
      "image/png": "[encoded data removed]",
      "text/plain": [
       "<Figure size 576x360 with 1 Axes>"
      ]
     },
     "metadata": {
      "needs_background": "light"
     },
     "output_type": "display_data"
    }
   ],
   "source": [
    "a = ResultsComparison([x for x in os.listdir(log_dir)][:3])\n",
    "len(a.data)\n",
    "a.show()"
   ]
  },
  {
   "cell_type": "code",
   "execution_count": null,
   "metadata": {},
   "outputs": [],
   "source": []
  },
  {
   "cell_type": "code",
   "execution_count": null,
   "metadata": {},
   "outputs": [],
   "source": []
  }
 ],
 "metadata": {
  "kernelspec": {
   "display_name": "Python 3",
   "language": "python",
   "name": "python3"
  },
  "language_info": {
   "codemirror_mode": {
    "name": "ipython",
    "version": 3
   },
   "file_extension": ".py",
   "mimetype": "text/x-python",
   "name": "python",
   "nbconvert_exporter": "python",
   "pygments_lexer": "ipython3",
   "version": "3.7.3"
  }
 },
 "nbformat": 4,
 "nbformat_minor": 2
}
