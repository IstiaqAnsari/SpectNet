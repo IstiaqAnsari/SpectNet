{
 "cells": [
  {
   "cell_type": "code",
   "execution_count": 4,
   "metadata": {},
   "outputs": [],
   "source": [
    "from tkinter import *\n",
    "import os"
   ]
  },
  {
   "cell_type": "code",
   "execution_count": 78,
   "metadata": {},
   "outputs": [],
   "source": [
    "\n",
    "window = Tk()\n",
    "window.configure(background='black')\n",
    "window.title(\"Welcome to LikeGeeks app\")\n",
    "window.minsize(300, 300) \n",
    "\n",
    "\n",
    "log_names = os.listdir(log_dir)\n",
    "label_text = [Label(window,text=x.split(' ')[0]) for x in os.listdir(log_dir)]\n",
    "var = [IntVar()]*len(label_text)\n",
    "labels = []\n",
    "checkbuttons = []\n",
    "for i,text in enumerate(label_text):\n",
    "    lb = Label(window,text=text,bg=\"white\",font =('Verdana', 15),width=40)\n",
    "    lb.grid(column=1,row=i)\n",
    "    lbt = Checkbutton(window, bg=\"white\",variable=var[i])\n",
    "    lbt.grid(column=0,row=i)\n",
    "    labels.append(lb)\n",
    "    checkbuttons.append(lbt)\n",
    "\n",
    "window.mainloop()"
   ]
  },
  {
   "cell_type": "code",
   "execution_count": 65,
   "metadata": {},
   "outputs": [],
   "source": [
    "def getText(lb):\n",
    "    print(lbt.option_get())"
   ]
  },
  {
   "cell_type": "code",
   "execution_count": 2,
   "metadata": {},
   "outputs": [],
   "source": [
    "log_dir = '../../Adversarial Heart Sound Results/logs/'"
   ]
  },
  {
   "cell_type": "code",
   "execution_count": null,
   "metadata": {},
   "outputs": [],
   "source": [
    "log_names = os.listdir(log_dir)\n",
    "labels = [Label(window,text=x.split(' ')[0]) for x in os.listdir(log_dir)]"
   ]
  },
  {
   "cell_type": "code",
   "execution_count": null,
   "metadata": {},
   "outputs": [],
   "source": [
    "lables = [Label(window,text=x.split(' ')[0]) for x in os.listdir(log_dir)]\n"
   ]
  },
  {
   "cell_type": "code",
   "execution_count": 74,
   "metadata": {},
   "outputs": [
    {
     "data": {
      "text/plain": [
       "(1, 0)"
      ]
     },
     "execution_count": 74,
     "metadata": {},
     "output_type": "execute_result"
    }
   ],
   "source": [
    "var1.get(),var2.get()"
   ]
  },
  {
   "cell_type": "code",
   "execution_count": 76,
   "metadata": {},
   "outputs": [
    {
     "data": {
      "text/plain": [
       "<tkinter.IntVar at 0x7fe67d629c18>"
      ]
     },
     "execution_count": 76,
     "metadata": {},
     "output_type": "execute_result"
    }
   ],
   "source": [
    "var1"
   ]
  },
  {
   "cell_type": "code",
   "execution_count": null,
   "metadata": {},
   "outputs": [],
   "source": []
  },
  {
   "cell_type": "code",
   "execution_count": null,
   "metadata": {},
   "outputs": [],
   "source": []
  },
  {
   "cell_type": "code",
   "execution_count": null,
   "metadata": {},
   "outputs": [],
   "source": []
  }
 ],
 "metadata": {
  "kernelspec": {
   "display_name": "Python 3",
   "language": "python",
   "name": "python3"
  },
  "language_info": {
   "codemirror_mode": {
    "name": "ipython",
    "version": 3
   },
   "file_extension": ".py",
   "mimetype": "text/x-python",
   "name": "python",
   "nbconvert_exporter": "python",
   "pygments_lexer": "ipython3",
   "version": "3.7.3"
  }
 },
 "nbformat": 4,
 "nbformat_minor": 2
}
