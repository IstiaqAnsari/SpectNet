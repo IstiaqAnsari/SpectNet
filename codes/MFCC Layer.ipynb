{
 "cells": [
  {
   "cell_type": "code",
   "execution_count": 4,
   "metadata": {},
   "outputs": [],
   "source": [
    "import os,tables,numpy as np,matplotlib.pyplot as plt,pandas as pd\n",
    "from scipy.io import loadmat\n",
    "from scipy.signal import resample\n",
    "import scipy.io.wavfile as wav\n",
    "from collections import Counter\n",
    "import h5py,glob,json\n",
    "import sounddevice as sd\n",
    "from matplotlib import cm\n",
    "from math import ceil\n",
    "from matplotlib.colors import ListedColormap, LinearSegmentedColormap\n",
    "import math"
   ]
  },
  {
   "cell_type": "code",
   "execution_count": 2,
   "metadata": {},
   "outputs": [],
   "source": [
    "from __future__ import print_function, absolute_import, division\n",
    "from keras import backend as K\n",
    "from keras.engine.base_layer import Layer\n",
    "from keras.engine.topology import InputSpec\n",
    "import tensorflow as tf\n",
    "from keras.layers.merge import Concatenate\n",
    "from keras.utils import conv_utils\n",
    "from keras.layers import Input, MaxPooling1D ,Conv1D,Activation,Dense, activations, initializers, Flatten, regularizers, constraints, Lambda,Dropout\n",
    "from keras.layers.normalization import BatchNormalization\n",
    "from keras.optimizers import Adam, SGD\n",
    "from keras.models import Model\n",
    "from keras.utils import plot_model\n",
    "import numpy as np\n",
    "from scipy.fftpack import dct\n",
    "from keras.backend.common import normalize_data_format\n",
    "from keras.layers.merge import Multiply\n",
    "from keras.utils import to_categorical\n",
    "from keras.callbacks import LearningRateScheduler"
   ]
  },
  {
   "cell_type": "code",
   "execution_count": 3,
   "metadata": {},
   "outputs": [],
   "source": [
    "class MFCC(Layer):\n",
    "    '''The number of output shape must be fixed. can't be learnable. \n",
    "    So the number of coefficients and frames should be fixed.\n",
    "\n",
    "    \n",
    "    Linear learnable weight vector , does dot multiplication on a vector\n",
    "    # Arguments\n",
    "        axis: integer, axis along which to normalize in mode 0. For instance,\n",
    "            if your input tensor has shape (samples, channels, rows, cols),\n",
    "            set axis to 1 to normalize per feature map (channels axis).'''\n",
    "\n",
    "    def __init__(self, weights=None, \n",
    "                 axis=-1,init='he_normal',\n",
    "                 samplerate=1000,winlen=0.025,\n",
    "                 winstep=0.01,numcep=13,nfilt=26\n",
    "                 nfft=512,lowfreq=0,highfreq=None,preemph=0.97,\n",
    "                 ceplifter=22,winfunc=lambda x:numpy.ones((x,)),\n",
    "                 appendEnergy = True,\n",
    "                 **kwargs):\n",
    "        self.axis = axis\n",
    "        self.init = initializers.get(init)\n",
    "        self.kernel = weights\n",
    "        self.samplerate = samplerate\n",
    "        self.winlen = winlen\n",
    "        self.winstep = winstep\n",
    "        super(MFCC, self).__init__(**kwargs)\n",
    "    def build(self, input_shape):\n",
    "        if len(input_shape)>3:\n",
    "            raise ValueError(\"Input should have 2 axes\")\n",
    "        elif len(input_shape)<2:\n",
    "            raise ValueError(\"Input layer is flattened, should have 2 axes\")\n",
    "        self.input_dim = input_shape[-1]            \n",
    "        self.kernel = self.add_weight(shape=(self.input_dim,),\n",
    "                                      initializer=initializers.Ones(),\n",
    "                                      name='kernel',\n",
    "                                      constraint=constraints.NonNeg()\n",
    "                                      #constraint=constraints.min_max_norm(min_value=0.0, max_value=1.0)\n",
    "                                      #constraint=constraints.UnitNorm(axis=self.axis)\n",
    "                                     )\n",
    "        self.input_spec = InputSpec(min_ndim=2, axes={-1: self.input_dim})            \n",
    "        self.built = True\n",
    "    def call(self, inputs):\n",
    "        output = tf.multiply(inputs,self.kernel)\n",
    "        return output\n",
    "    def compute_output_shape(self, input_shape):\n",
    "        return input_shape\n",
    "    def get_config(self):\n",
    "        config = {\"kernel\": self.kernel, \"axis\": self.axis}\n",
    "        base_config = super(Attention, self).get_config()\n",
    "        return dict(list(base_config.items()) + list(config.items()))"
   ]
  },
  {
   "cell_type": "code",
   "execution_count": 5,
   "metadata": {},
   "outputs": [],
   "source": [
    "folder_idx = 'a'\n",
    "datapath='/media/mhealthra2/Data/heart_sound/Heart_Sound/Physionet/training/training-'+folder_idx+'/';\n",
    "labelpath=\"/media/mhealthra2/Data/heart_sound/Heart_Sound\"\\\n",
    "           \"/Physionet/2016-07-25_Updated files for Challenge 2016\"\\\n",
    "           \"/20160725_Reference with signal quality results for training set\"\\\n",
    "           \"/training-\"+folder_idx+ \"/REFERENCE_withSQI.csv\"\n",
    "Fs = 1000\n",
    "files = [x for x in os.listdir(datapath)if x.endswith('wav')]\n",
    "labels = pd.read_csv(labelpath,names=['wav','class','quality'])\n",
    "(fs,sig) = wav.read(os.path.join(datapath,files[0]))\n",
    "x = sig[:2500]"
   ]
  },
  {
   "cell_type": "code",
   "execution_count": 6,
   "metadata": {},
   "outputs": [],
   "source": [
    "xx = tf.convert_to_tensor(x.astype(np.float32))"
   ]
  },
  {
   "cell_type": "code",
   "execution_count": 25,
   "metadata": {},
   "outputs": [],
   "source": [
    "winlen = 0.025\n",
    "winstep = 0.01\n",
    "numcep = 13\n",
    "samplerate = 1000\n",
    "nfilt = 26\n",
    "nfft = 512\n",
    "lowfreq = 0\n",
    "highfreq = 500\n",
    "ceplifter = 22\n",
    "winfunc = lambda x:numpy.ones((x,))"
   ]
  },
  {
   "cell_type": "code",
   "execution_count": 26,
   "metadata": {},
   "outputs": [],
   "source": [
    "import decimal\n",
    "def round_half_up(number):\n",
    "    return int(decimal.Decimal(number).quantize(decimal.Decimal('1'), rounding=decimal.ROUND_HALF_UP))"
   ]
  },
  {
   "cell_type": "code",
   "execution_count": 28,
   "metadata": {},
   "outputs": [],
   "source": [
    "slen = xx.get_shape()[0].value\n",
    "frame_len = winlen*samplerate\n",
    "frame_step = winstep*samplerate\n",
    "frame_len = int(round_half_up(frame_len))\n",
    "frame_step = int(round_half_up(frame_step))"
   ]
  },
  {
   "cell_type": "code",
   "execution_count": 18,
   "metadata": {},
   "outputs": [
    {
     "data": {
      "text/plain": [
       "2500"
      ]
     },
     "execution_count": 18,
     "metadata": {},
     "output_type": "execute_result"
    }
   ],
   "source": [
    "a.value"
   ]
  },
  {
   "cell_type": "code",
   "execution_count": null,
   "metadata": {},
   "outputs": [],
   "source": []
  },
  {
   "cell_type": "code",
   "execution_count": null,
   "metadata": {},
   "outputs": [],
   "source": []
  },
  {
   "cell_type": "code",
   "execution_count": null,
   "metadata": {},
   "outputs": [],
   "source": []
  },
  {
   "cell_type": "code",
   "execution_count": null,
   "metadata": {},
   "outputs": [],
   "source": []
  },
  {
   "cell_type": "code",
   "execution_count": null,
   "metadata": {},
   "outputs": [],
   "source": []
  },
  {
   "cell_type": "code",
   "execution_count": null,
   "metadata": {},
   "outputs": [],
   "source": []
  },
  {
   "cell_type": "code",
   "execution_count": null,
   "metadata": {},
   "outputs": [],
   "source": []
  },
  {
   "cell_type": "code",
   "execution_count": null,
   "metadata": {},
   "outputs": [],
   "source": []
  },
  {
   "cell_type": "code",
   "execution_count": null,
   "metadata": {},
   "outputs": [],
   "source": []
  },
  {
   "cell_type": "code",
   "execution_count": null,
   "metadata": {},
   "outputs": [],
   "source": []
  },
  {
   "cell_type": "code",
   "execution_count": null,
   "metadata": {},
   "outputs": [],
   "source": []
  },
  {
   "cell_type": "code",
   "execution_count": null,
   "metadata": {},
   "outputs": [],
   "source": []
  },
  {
   "cell_type": "code",
   "execution_count": null,
   "metadata": {},
   "outputs": [],
   "source": []
  },
  {
   "cell_type": "code",
   "execution_count": null,
   "metadata": {},
   "outputs": [],
   "source": []
  },
  {
   "cell_type": "code",
   "execution_count": null,
   "metadata": {},
   "outputs": [],
   "source": []
  }
 ],
 "metadata": {
  "kernelspec": {
   "display_name": "Python 3",
   "language": "python",
   "name": "python3"
  },
  "language_info": {
   "codemirror_mode": {
    "name": "ipython",
    "version": 3
   },
   "file_extension": ".py",
   "mimetype": "text/x-python",
   "name": "python",
   "nbconvert_exporter": "python",
   "pygments_lexer": "ipython3",
   "version": "3.7.4"
  }
 },
 "nbformat": 4,
 "nbformat_minor": 2
}
