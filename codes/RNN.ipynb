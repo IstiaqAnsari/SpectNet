{
 "cells": [
  {
   "cell_type": "code",
   "execution_count": 3,
   "metadata": {},
   "outputs": [],
   "source": [
    "from custom_layers import Conv1D_zerophase_linear, Conv1D_linearphase, Conv1D_zerophase,\\\n",
    "    DCT1D, Conv1D_gammatone, Conv1D_linearphaseType, Attention\n",
    "from keras.layers import Input, Conv1D, MaxPooling1D, Dense, Dropout, Flatten, Activation, AveragePooling1D\n",
    "from keras import initializers\n",
    "from keras.layers.normalization import BatchNormalization\n",
    "from keras.layers.merge import Concatenate\n",
    "from keras.models import Model\n",
    "from keras.regularizers import l2\n",
    "from keras.constraints import max_norm\n",
    "from keras.optimizers import Adam, SGD # Nadam, Adamax\n",
    "import numpy as np\n",
    "import tables,h5py\n",
    "from Gradient_Reverse_Layer import GradientReversal\n",
    "from ResultAnalyser import Result\n",
    "from keras.layers import LSTM, Conv"
   ]
  },
  {
   "cell_type": "code",
   "execution_count": 19,
   "metadata": {},
   "outputs": [],
   "source": [
    "import numpy as np\n",
    "\n",
    "from keras.models import Sequential\n",
    "from keras.layers import Dense\n",
    "from keras.layers import LSTM\n",
    "\n"
   ]
  },
  {
   "cell_type": "code",
   "execution_count": 20,
   "metadata": {},
   "outputs": [],
   "source": [
    "\n",
    "data = [[i for i in range(100)]]\n",
    "data = np.array(data, dtype=float)\n",
    "target = [[i for i in range(1,101)]]\n",
    "target = np.array(target, dtype=float)\n",
    "\n",
    "data = data.reshape((1, 1, 100)) \n",
    "target = target.reshape((1, 1, 100)) \n",
    "x_test=[i for i in range(100,200)]\n",
    "x_test=np.array(x_test).reshape((1,1,100));\n",
    "y_test=[i for i in range(101,201)]\n",
    "y_test=np.array(y_test).reshape(1,1,100)\n"
   ]
  },
  {
   "cell_type": "code",
   "execution_count": 22,
   "metadata": {},
   "outputs": [
    {
     "name": "stderr",
     "output_type": "stream",
     "text": [
      "/home/mhealthra2/anaconda3/envs/tensor/lib/python3.7/site-packages/ipykernel_launcher.py:5: UserWarning: The `nb_epoch` argument in `fit` has been renamed `epochs`.\n",
      "  \"\"\"\n"
     ]
    },
    {
     "name": "stdout",
     "output_type": "stream",
     "text": [
      "Train on 1 samples, validate on 1 samples\n",
      "Epoch 1/10\n",
      " - 1s - loss: 50.5140 - acc: 0.0000e+00 - val_loss: 150.4926 - val_acc: 0.0000e+00\n",
      "Epoch 2/10\n",
      " - 0s - loss: 50.4596 - acc: 0.0000e+00 - val_loss: 150.4733 - val_acc: 0.0000e+00\n",
      "Epoch 3/10\n",
      " - 0s - loss: 50.4434 - acc: 0.0000e+00 - val_loss: 150.4539 - val_acc: 0.0000e+00\n",
      "Epoch 4/10\n",
      " - 0s - loss: 50.4268 - acc: 0.0000e+00 - val_loss: 150.4373 - val_acc: 0.0000e+00\n",
      "Epoch 5/10\n",
      " - 0s - loss: 50.4101 - acc: 0.0000e+00 - val_loss: 150.4255 - val_acc: 0.0000e+00\n",
      "Epoch 6/10\n",
      " - 0s - loss: 50.3933 - acc: 0.0000e+00 - val_loss: 150.4137 - val_acc: 0.0000e+00\n",
      "Epoch 7/10\n",
      " - 0s - loss: 50.3765 - acc: 0.0000e+00 - val_loss: 150.4019 - val_acc: 0.0000e+00\n",
      "Epoch 8/10\n",
      " - 0s - loss: 50.3596 - acc: 0.0000e+00 - val_loss: 150.3902 - val_acc: 0.0000e+00\n",
      "Epoch 9/10\n",
      " - 0s - loss: 50.3427 - acc: 0.0000e+00 - val_loss: 150.3767 - val_acc: 0.0000e+00\n",
      "Epoch 10/10\n",
      " - 0s - loss: 50.3258 - acc: 0.0000e+00 - val_loss: 150.3596 - val_acc: 0.0000e+00\n"
     ]
    },
    {
     "data": {
      "text/plain": [
       "<keras.callbacks.History at 0x7f835425a6d0>"
      ]
     },
     "execution_count": 22,
     "metadata": {},
     "output_type": "execute_result"
    }
   ],
   "source": [
    "\n",
    "\n",
    "model = Sequential()  \n",
    "model.add(LSTM(100, input_shape=(1, 100),return_sequences=True))\n",
    "model.add(Dense(100))\n",
    "model.compile(loss='mean_absolute_error', optimizer='adam',metrics=['accuracy'])\n",
    "model.fit(data, target, nb_epoch=10, batch_size=1, verbose=2,validation_data=(x_test, y_test))"
   ]
  },
  {
   "cell_type": "code",
   "execution_count": null,
   "metadata": {},
   "outputs": [],
   "source": [
    "model.fit(data, target, nb_epoch=10, batch_size=1, verbose=2)"
   ]
  },
  {
   "cell_type": "code",
   "execution_count": null,
   "metadata": {},
   "outputs": [],
   "source": []
  },
  {
   "cell_type": "code",
   "execution_count": null,
   "metadata": {},
   "outputs": [],
   "source": []
  },
  {
   "cell_type": "code",
   "execution_count": null,
   "metadata": {},
   "outputs": [],
   "source": []
  },
  {
   "cell_type": "code",
   "execution_count": null,
   "metadata": {},
   "outputs": [],
   "source": []
  }
 ],
 "metadata": {
  "kernelspec": {
   "display_name": "Python 3",
   "language": "python",
   "name": "python3"
  },
  "language_info": {
   "codemirror_mode": {
    "name": "ipython",
    "version": 3
   },
   "file_extension": ".py",
   "mimetype": "text/x-python",
   "name": "python",
   "nbconvert_exporter": "python",
   "pygments_lexer": "ipython3",
   "version": "3.7.4"
  }
 },
 "nbformat": 4,
 "nbformat_minor": 2
}
